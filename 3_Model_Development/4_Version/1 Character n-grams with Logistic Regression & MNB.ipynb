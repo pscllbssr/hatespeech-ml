{
 "cells": [
  {
   "cell_type": "code",
   "execution_count": 10,
   "metadata": {},
   "outputs": [],
   "source": [
    "import pandas as pd"
   ]
  },
  {
   "cell_type": "code",
   "execution_count": 11,
   "metadata": {},
   "outputs": [
    {
     "data": {
      "text/html": [
       "<div>\n",
       "<style scoped>\n",
       "    .dataframe tbody tr th:only-of-type {\n",
       "        vertical-align: middle;\n",
       "    }\n",
       "\n",
       "    .dataframe tbody tr th {\n",
       "        vertical-align: top;\n",
       "    }\n",
       "\n",
       "    .dataframe thead th {\n",
       "        text-align: right;\n",
       "    }\n",
       "</style>\n",
       "<table border=\"1\" class=\"dataframe\">\n",
       "  <thead>\n",
       "    <tr style=\"text-align: right;\">\n",
       "      <th></th>\n",
       "      <th>raw_text</th>\n",
       "      <th>severity</th>\n",
       "      <th>binary_label</th>\n",
       "    </tr>\n",
       "  </thead>\n",
       "  <tbody>\n",
       "    <tr>\n",
       "      <th>0</th>\n",
       "      <td>Ich warte schon darauf, dass man die Terrorist...</td>\n",
       "      <td>0.0</td>\n",
       "      <td>False</td>\n",
       "    </tr>\n",
       "    <tr>\n",
       "      <th>1</th>\n",
       "      <td>Holt Björn Höcke ins Boot vielleicht haben wir...</td>\n",
       "      <td>0.0</td>\n",
       "      <td>False</td>\n",
       "    </tr>\n",
       "    <tr>\n",
       "      <th>2</th>\n",
       "      <td>Deutscher, turkmenischer Abstammung bitte. Was...</td>\n",
       "      <td>0.0</td>\n",
       "      <td>False</td>\n",
       "    </tr>\n",
       "    <tr>\n",
       "      <th>3</th>\n",
       "      <td>Wer glaubt die gehen wieder , ist einfach nur ...</td>\n",
       "      <td>0.0</td>\n",
       "      <td>False</td>\n",
       "    </tr>\n",
       "    <tr>\n",
       "      <th>4</th>\n",
       "      <td>Man wünscht sich eine schlagkräftige Bürgerweh...</td>\n",
       "      <td>0.0</td>\n",
       "      <td>False</td>\n",
       "    </tr>\n",
       "  </tbody>\n",
       "</table>\n",
       "</div>"
      ],
      "text/plain": [
       "                                            raw_text  severity  binary_label\n",
       "0  Ich warte schon darauf, dass man die Terrorist...       0.0         False\n",
       "1  Holt Björn Höcke ins Boot vielleicht haben wir...       0.0         False\n",
       "2  Deutscher, turkmenischer Abstammung bitte. Was...       0.0         False\n",
       "3  Wer glaubt die gehen wieder , ist einfach nur ...       0.0         False\n",
       "4  Man wünscht sich eine schlagkräftige Bürgerweh...       0.0         False"
      ]
     },
     "execution_count": 11,
     "metadata": {},
     "output_type": "execute_result"
    }
   ],
   "source": [
    "df = pd.read_csv('../../2_Feature_Engineering/export/randomized_balanced_dataset.csv')\n",
    "df.head()"
   ]
  },
  {
   "cell_type": "markdown",
   "metadata": {},
   "source": [
    "# Clean text"
   ]
  },
  {
   "cell_type": "code",
   "execution_count": 12,
   "metadata": {},
   "outputs": [],
   "source": [
    "import re\n",
    "# remove links and user hashes\n",
    "def clean_tweet(text):\n",
    "    text = re.sub(r'http\\S+', '', text) # links\n",
    "    text = re.sub(r'^[a-f0-9]{16}', '', text) # user hashes\n",
    "    text = re.sub(r'@(\\w+)',  '', text) # usernames\n",
    "    text = re.sub(r'RT',  '',text) # RT --> retweets\n",
    "    return text\n",
    "df['cleaned_text'] = df['raw_text'].apply(clean_tweet)"
   ]
  },
  {
   "cell_type": "code",
   "execution_count": 13,
   "metadata": {},
   "outputs": [],
   "source": [
    "from model_helpers import clean_input as ci"
   ]
  },
  {
   "cell_type": "code",
   "execution_count": 14,
   "metadata": {},
   "outputs": [],
   "source": [
    "df['cleaned_text'] = df['cleaned_text'].apply(ci)"
   ]
  },
  {
   "cell_type": "markdown",
   "metadata": {},
   "source": [
    "# Vectorize"
   ]
  },
  {
   "cell_type": "code",
   "execution_count": 20,
   "metadata": {},
   "outputs": [],
   "source": [
    "from sklearn.feature_extraction.text import TfidfVectorizer"
   ]
  },
  {
   "cell_type": "code",
   "execution_count": 13,
   "metadata": {},
   "outputs": [],
   "source": [
    "tfidf_trigram = TfidfVectorizer(ngram_range=(3,3), analyzer='char', stop_words='german')\n",
    "tfidf_simple = TfidfVectorizer()"
   ]
  },
  {
   "cell_type": "code",
   "execution_count": 14,
   "metadata": {},
   "outputs": [
    {
     "data": {
      "text/plain": [
       "<1828x10999 sparse matrix of type '<class 'numpy.float64'>'\n",
       "\twith 219080 stored elements in Compressed Sparse Row format>"
      ]
     },
     "execution_count": 14,
     "metadata": {},
     "output_type": "execute_result"
    }
   ],
   "source": [
    "X_features_trigram = tfidf_trigram.fit_transform(df['raw_text'])\n",
    "X_features_trigram"
   ]
  },
  {
   "cell_type": "code",
   "execution_count": 15,
   "metadata": {},
   "outputs": [
    {
     "data": {
      "text/plain": [
       "<1828x8145 sparse matrix of type '<class 'numpy.float64'>'\n",
       "\twith 20628 stored elements in Compressed Sparse Row format>"
      ]
     },
     "execution_count": 15,
     "metadata": {},
     "output_type": "execute_result"
    }
   ],
   "source": [
    "X_features_simple = tfidf_simple.fit_transform(df['cleaned_text'])\n",
    "X_features_simple"
   ]
  },
  {
   "cell_type": "markdown",
   "metadata": {},
   "source": [
    "# Train with K-Fold & Logistic Regression"
   ]
  },
  {
   "cell_type": "code",
   "execution_count": 19,
   "metadata": {},
   "outputs": [],
   "source": [
    "from sklearn.linear_model import LogisticRegression"
   ]
  },
  {
   "cell_type": "code",
   "execution_count": 25,
   "metadata": {},
   "outputs": [],
   "source": [
    "from sklearn.model_selection import KFold, cross_val_score"
   ]
  },
  {
   "cell_type": "code",
   "execution_count": 26,
   "metadata": {},
   "outputs": [],
   "source": [
    "k_fold = KFold(n_splits=5, shuffle=True)"
   ]
  },
  {
   "cell_type": "code",
   "execution_count": 23,
   "metadata": {},
   "outputs": [],
   "source": [
    "lr = LogisticRegression()"
   ]
  },
  {
   "cell_type": "code",
   "execution_count": 20,
   "metadata": {},
   "outputs": [
    {
     "data": {
      "text/plain": [
       "array([0.72131148, 0.7295082 , 0.72131148, 0.71506849, 0.69041096])"
      ]
     },
     "execution_count": 20,
     "metadata": {},
     "output_type": "execute_result"
    }
   ],
   "source": [
    "# logistic regression without n-grams\n",
    "lr_score = cross_val_score(lr, X_features_simple, df['binary_label'], cv=k_fold, scoring='accuracy', n_jobs=-1)\n",
    "lr_score"
   ]
  },
  {
   "cell_type": "code",
   "execution_count": 21,
   "metadata": {},
   "outputs": [
    {
     "data": {
      "text/plain": [
       "array([0.75956284, 0.74590164, 0.7568306 , 0.73150685, 0.75068493])"
      ]
     },
     "execution_count": 21,
     "metadata": {},
     "output_type": "execute_result"
    }
   ],
   "source": [
    "# k-fold with bigrams\n",
    "lr_trigram_score = cross_val_score(lr, X_features_trigram, df['binary_label'], cv=k_fold, scoring='accuracy', n_jobs=-1)\n",
    "lr_trigram_score"
   ]
  },
  {
   "cell_type": "markdown",
   "metadata": {},
   "source": [
    "# Train with K-Fold & Multinomial Naive Bayes"
   ]
  },
  {
   "cell_type": "code",
   "execution_count": 22,
   "metadata": {},
   "outputs": [],
   "source": [
    "from sklearn.naive_bayes import MultinomialNB"
   ]
  },
  {
   "cell_type": "code",
   "execution_count": 23,
   "metadata": {},
   "outputs": [],
   "source": [
    "mnb = MultinomialNB()"
   ]
  },
  {
   "cell_type": "code",
   "execution_count": 24,
   "metadata": {},
   "outputs": [
    {
     "data": {
      "text/plain": [
       "array([0.71584699, 0.73770492, 0.68306011, 0.67123288, 0.72328767])"
      ]
     },
     "execution_count": 24,
     "metadata": {},
     "output_type": "execute_result"
    }
   ],
   "source": [
    "# MNB without n-grams\n",
    "mnb_score = cross_val_score(mnb, X_features_simple.toarray(), df['binary_label'], cv=k_fold, scoring='accuracy', n_jobs=-1)\n",
    "mnb_score"
   ]
  },
  {
   "cell_type": "code",
   "execution_count": 25,
   "metadata": {},
   "outputs": [
    {
     "data": {
      "text/plain": [
       "array([0.69125683, 0.71038251, 0.71857923, 0.71232877, 0.64931507])"
      ]
     },
     "execution_count": 25,
     "metadata": {},
     "output_type": "execute_result"
    }
   ],
   "source": [
    "# MNB with bigrams\n",
    "mnb_trigram_score = cross_val_score(mnb, X_features_trigram.toarray(), df['binary_label'], cv=k_fold, scoring='accuracy', n_jobs=-1)\n",
    "mnb_trigram_score"
   ]
  },
  {
   "cell_type": "markdown",
   "metadata": {},
   "source": [
    "# results\n",
    "\n",
    "at least with multinomial naive bayes character n-grams seem to work better"
   ]
  },
  {
   "cell_type": "code",
   "execution_count": 26,
   "metadata": {},
   "outputs": [
    {
     "name": "stdout",
     "output_type": "stream",
     "text": [
      "lr_trigram: 0.7488973725578262\n",
      "lr: 0.7155221199191557\n",
      "mnb: 0.7062265139606259\n",
      "mnb_trigram: 0.6963724829702822\n"
     ]
    }
   ],
   "source": [
    "scores = {\n",
    "    'mnb': sum(mnb_score) / len(mnb_score),\n",
    "    'mnb_trigram': sum(mnb_trigram_score) / len(mnb_trigram_score),\n",
    "    'lr': sum(lr_score) / len(lr_score),\n",
    "    'lr_trigram': sum(lr_trigram_score) / len(lr_trigram_score),\n",
    "\n",
    "}\n",
    "\n",
    "for key, value in sorted(scores.items(), key=lambda item: item[1], reverse=True):\n",
    "    print(\"%s: %s\" % (key, value))"
   ]
  },
  {
   "cell_type": "markdown",
   "metadata": {},
   "source": [
    "# try different character n-grams"
   ]
  },
  {
   "cell_type": "code",
   "execution_count": 27,
   "metadata": {},
   "outputs": [],
   "source": [
    "tfidf_2_2 = TfidfVectorizer(ngram_range=(2,2), analyzer='char', stop_words='german', max_features=50000)\n",
    "tfidf_2_3 = TfidfVectorizer(ngram_range=(2,3), analyzer='char', stop_words='german', max_features=50000)\n",
    "tfidf_2_4 = TfidfVectorizer(ngram_range=(2,4), analyzer='char', stop_words='german', max_features=50000)\n",
    "\n",
    "tfidf_3_3 = TfidfVectorizer(ngram_range=(3,3), analyzer='char', stop_words='german', max_features=50000)\n",
    "tfidf_3_4 = TfidfVectorizer(ngram_range=(3,4), analyzer='char', stop_words='german', max_features=50000)"
   ]
  },
  {
   "cell_type": "code",
   "execution_count": 28,
   "metadata": {},
   "outputs": [],
   "source": [
    "X_features_2_2 = tfidf_2_2.fit_transform(df['raw_text'])\n",
    "X_features_2_3 = tfidf_2_3.fit_transform(df['raw_text'])\n",
    "X_features_2_4 = tfidf_2_4.fit_transform(df['raw_text'])\n",
    "\n",
    "X_features_3_3 = tfidf_3_3.fit_transform(df['raw_text'])\n",
    "X_features_3_4 = tfidf_3_4.fit_transform(df['raw_text'])"
   ]
  },
  {
   "cell_type": "code",
   "execution_count": 29,
   "metadata": {},
   "outputs": [],
   "source": [
    "options = {\n",
    "    'X_features_2_2': X_features_2_2,\n",
    "    'X_features_2_3': X_features_2_3,\n",
    "    'X_features_2_4': X_features_2_4,\n",
    "    'X_features_3_3': X_features_3_3,\n",
    "    'X_features_3_4': X_features_3_4,\n",
    "}"
   ]
  },
  {
   "cell_type": "markdown",
   "metadata": {},
   "source": [
    "## Multinomial Naive Bayes"
   ]
  },
  {
   "cell_type": "code",
   "execution_count": 30,
   "metadata": {},
   "outputs": [
    {
     "name": "stdout",
     "output_type": "stream",
     "text": [
      "X_features_2_2: 0.6756254210644508 ([0.65027322 0.67213115 0.66120219 0.70410959 0.69041096])\n",
      "X_features_2_3: 0.6767063402949323 ([0.66666667 0.69945355 0.64480874 0.70136986 0.67123288])\n",
      "X_features_2_4: 0.674480125757916 ([0.67486339 0.69398907 0.70491803 0.64109589 0.65753425])\n",
      "X_features_3_3: 0.6947675724230855 ([0.66939891 0.66666667 0.71311475 0.69863014 0.7260274 ])\n",
      "X_features_3_4: 0.6920308406317839 ([0.6420765  0.70218579 0.69945355 0.68219178 0.73424658])\n"
     ]
    }
   ],
   "source": [
    "for index, features in options.items():\n",
    "    score = cross_val_score(mnb, features.toarray(), df['binary_label'], cv=k_fold, scoring='accuracy', n_jobs=-1)\n",
    "    avg = sum(score) / len(score)\n",
    "    print(\"%s: %s (%s)\" % (index, avg, score))"
   ]
  },
  {
   "cell_type": "markdown",
   "metadata": {},
   "source": [
    "## Logistic Regression"
   ]
  },
  {
   "cell_type": "code",
   "execution_count": 31,
   "metadata": {},
   "outputs": [
    {
     "name": "stdout",
     "output_type": "stream",
     "text": [
      "X_features_2_2: 0.7111595179279886 ([0.71311475 0.72404372 0.69672131 0.69041096 0.73150685])\n",
      "X_features_2_3: 0.7418040272475485 ([0.71311475 0.75956284 0.73497268 0.75890411 0.74246575])\n",
      "X_features_2_4: 0.7598143573620779 ([0.80054645 0.78415301 0.75409836 0.7260274  0.73424658])\n",
      "X_features_3_3: 0.7598413054869375 ([0.76775956 0.76229508 0.75956284 0.73972603 0.76986301])\n",
      "X_features_3_4: 0.7500097312673105 ([0.74043716 0.73224044 0.75956284 0.74520548 0.77260274])\n"
     ]
    }
   ],
   "source": [
    "for index, features in options.items():\n",
    "    score = cross_val_score(lr, features.toarray(), df['binary_label'], cv=k_fold, scoring='accuracy', n_jobs=-1)\n",
    "    avg = sum(score) / len(score)\n",
    "    print(\"%s: %s (%s)\" % (index, avg, score))"
   ]
  },
  {
   "cell_type": "markdown",
   "metadata": {},
   "source": [
    "# aun mas"
   ]
  },
  {
   "cell_type": "code",
   "execution_count": 16,
   "metadata": {},
   "outputs": [],
   "source": [
    "from sklearn.model_selection import GridSearchCV"
   ]
  },
  {
   "cell_type": "code",
   "execution_count": 17,
   "metadata": {},
   "outputs": [],
   "source": [
    "from sklearn.pipeline import Pipeline"
   ]
  },
  {
   "cell_type": "code",
   "execution_count": 21,
   "metadata": {},
   "outputs": [],
   "source": [
    "tfidf_vec = TfidfVectorizer(analyzer='char', stop_words='german')"
   ]
  },
  {
   "cell_type": "code",
   "execution_count": 28,
   "metadata": {},
   "outputs": [],
   "source": [
    "parameters = {'tfidf_vec__ngram_range': [(1, 1), (1, 2),(1,3),(1,4),(2,2),(2,3),(2,4),(2,5),(3,3),(3,4),(3,5),(3,6),(4,4),(4,5),(4,6),(5,5),(5,6),(6,6)], 'tfidf_vec__max_features': [10000,50000,100000]}"
   ]
  },
  {
   "cell_type": "markdown",
   "metadata": {},
   "source": [
    "## Logistic Regression"
   ]
  },
  {
   "cell_type": "code",
   "execution_count": 36,
   "metadata": {},
   "outputs": [],
   "source": [
    "clf = Pipeline([('tfidf_vec', tfidf_vec), ('lr', lr)])\n",
    "gs_clf = GridSearchCV(clf, parameters, n_jobs=-1, scoring='f1', cv=k_fold)"
   ]
  },
  {
   "cell_type": "code",
   "execution_count": 37,
   "metadata": {
    "scrolled": true
   },
   "outputs": [
    {
     "name": "stderr",
     "output_type": "stream",
     "text": [
      "C:\\Users\\pascal\\Anaconda3\\lib\\site-packages\\sklearn\\linear_model\\logistic.py:433: FutureWarning: Default solver will be changed to 'lbfgs' in 0.22. Specify a solver to silence this warning.\n",
      "  FutureWarning)\n"
     ]
    },
    {
     "data": {
      "text/plain": [
       "['mean_fit_time',\n",
       " 'mean_score_time',\n",
       " 'mean_test_score',\n",
       " 'mean_train_score',\n",
       " 'param_tfidf_vec__max_features',\n",
       " 'param_tfidf_vec__ngram_range',\n",
       " 'params',\n",
       " 'rank_test_score',\n",
       " 'split0_test_score',\n",
       " 'split0_train_score',\n",
       " 'split1_test_score',\n",
       " 'split1_train_score',\n",
       " 'split2_test_score',\n",
       " 'split2_train_score',\n",
       " 'split3_test_score',\n",
       " 'split3_train_score',\n",
       " 'split4_test_score',\n",
       " 'split4_train_score',\n",
       " 'std_fit_time',\n",
       " 'std_score_time',\n",
       " 'std_test_score',\n",
       " 'std_train_score']"
      ]
     },
     "execution_count": 37,
     "metadata": {},
     "output_type": "execute_result"
    }
   ],
   "source": [
    "gs_clf = gs_clf.fit(df['raw_text'], df['binary_label'])\n",
    "sorted(gs_clf.cv_results_.keys())"
   ]
  },
  {
   "cell_type": "code",
   "execution_count": 38,
   "metadata": {},
   "outputs": [
    {
     "data": {
      "text/plain": [
       "{'tfidf_vec__max_features': 10000, 'tfidf_vec__ngram_range': (3, 5)}"
      ]
     },
     "execution_count": 38,
     "metadata": {},
     "output_type": "execute_result"
    }
   ],
   "source": [
    "# best parameters\n",
    "gs_clf.best_params_\n"
   ]
  },
  {
   "cell_type": "code",
   "execution_count": 39,
   "metadata": {},
   "outputs": [
    {
     "name": "stdout",
     "output_type": "stream",
     "text": [
      "0.553 (+/-0.086) for {'tfidf_vec__max_features': 10000, 'tfidf_vec__ngram_range': (1, 1)}\n",
      "0.626 (+/-0.066) for {'tfidf_vec__max_features': 10000, 'tfidf_vec__ngram_range': (1, 2)}\n",
      "0.675 (+/-0.050) for {'tfidf_vec__max_features': 10000, 'tfidf_vec__ngram_range': (1, 3)}\n",
      "0.684 (+/-0.050) for {'tfidf_vec__max_features': 10000, 'tfidf_vec__ngram_range': (1, 4)}\n",
      "0.646 (+/-0.064) for {'tfidf_vec__max_features': 10000, 'tfidf_vec__ngram_range': (2, 2)}\n",
      "0.671 (+/-0.030) for {'tfidf_vec__max_features': 10000, 'tfidf_vec__ngram_range': (2, 3)}\n",
      "0.679 (+/-0.052) for {'tfidf_vec__max_features': 10000, 'tfidf_vec__ngram_range': (2, 4)}\n",
      "0.681 (+/-0.037) for {'tfidf_vec__max_features': 10000, 'tfidf_vec__ngram_range': (2, 5)}\n",
      "0.678 (+/-0.037) for {'tfidf_vec__max_features': 10000, 'tfidf_vec__ngram_range': (3, 3)}\n",
      "0.676 (+/-0.047) for {'tfidf_vec__max_features': 10000, 'tfidf_vec__ngram_range': (3, 4)}\n",
      "0.684 (+/-0.041) for {'tfidf_vec__max_features': 10000, 'tfidf_vec__ngram_range': (3, 5)}\n",
      "0.678 (+/-0.060) for {'tfidf_vec__max_features': 10000, 'tfidf_vec__ngram_range': (3, 6)}\n",
      "0.667 (+/-0.063) for {'tfidf_vec__max_features': 10000, 'tfidf_vec__ngram_range': (4, 4)}\n",
      "0.674 (+/-0.065) for {'tfidf_vec__max_features': 10000, 'tfidf_vec__ngram_range': (4, 5)}\n",
      "0.677 (+/-0.059) for {'tfidf_vec__max_features': 10000, 'tfidf_vec__ngram_range': (4, 6)}\n",
      "0.660 (+/-0.073) for {'tfidf_vec__max_features': 10000, 'tfidf_vec__ngram_range': (5, 5)}\n",
      "0.670 (+/-0.063) for {'tfidf_vec__max_features': 10000, 'tfidf_vec__ngram_range': (5, 6)}\n",
      "0.647 (+/-0.072) for {'tfidf_vec__max_features': 10000, 'tfidf_vec__ngram_range': (6, 6)}\n",
      "0.553 (+/-0.086) for {'tfidf_vec__max_features': 50000, 'tfidf_vec__ngram_range': (1, 1)}\n",
      "0.626 (+/-0.066) for {'tfidf_vec__max_features': 50000, 'tfidf_vec__ngram_range': (1, 2)}\n",
      "0.674 (+/-0.053) for {'tfidf_vec__max_features': 50000, 'tfidf_vec__ngram_range': (1, 3)}\n",
      "0.680 (+/-0.051) for {'tfidf_vec__max_features': 50000, 'tfidf_vec__ngram_range': (1, 4)}\n",
      "0.646 (+/-0.064) for {'tfidf_vec__max_features': 50000, 'tfidf_vec__ngram_range': (2, 2)}\n",
      "0.672 (+/-0.030) for {'tfidf_vec__max_features': 50000, 'tfidf_vec__ngram_range': (2, 3)}\n",
      "0.671 (+/-0.031) for {'tfidf_vec__max_features': 50000, 'tfidf_vec__ngram_range': (2, 4)}\n",
      "0.674 (+/-0.042) for {'tfidf_vec__max_features': 50000, 'tfidf_vec__ngram_range': (2, 5)}\n",
      "0.678 (+/-0.035) for {'tfidf_vec__max_features': 50000, 'tfidf_vec__ngram_range': (3, 3)}\n",
      "0.675 (+/-0.041) for {'tfidf_vec__max_features': 50000, 'tfidf_vec__ngram_range': (3, 4)}\n",
      "0.664 (+/-0.050) for {'tfidf_vec__max_features': 50000, 'tfidf_vec__ngram_range': (3, 5)}\n",
      "0.670 (+/-0.049) for {'tfidf_vec__max_features': 50000, 'tfidf_vec__ngram_range': (3, 6)}\n",
      "0.668 (+/-0.071) for {'tfidf_vec__max_features': 50000, 'tfidf_vec__ngram_range': (4, 4)}\n",
      "0.660 (+/-0.076) for {'tfidf_vec__max_features': 50000, 'tfidf_vec__ngram_range': (4, 5)}\n",
      "0.661 (+/-0.080) for {'tfidf_vec__max_features': 50000, 'tfidf_vec__ngram_range': (4, 6)}\n",
      "0.638 (+/-0.098) for {'tfidf_vec__max_features': 50000, 'tfidf_vec__ngram_range': (5, 5)}\n",
      "0.648 (+/-0.084) for {'tfidf_vec__max_features': 50000, 'tfidf_vec__ngram_range': (5, 6)}\n",
      "0.631 (+/-0.094) for {'tfidf_vec__max_features': 50000, 'tfidf_vec__ngram_range': (6, 6)}\n",
      "0.553 (+/-0.086) for {'tfidf_vec__max_features': 100000, 'tfidf_vec__ngram_range': (1, 1)}\n",
      "0.626 (+/-0.066) for {'tfidf_vec__max_features': 100000, 'tfidf_vec__ngram_range': (1, 2)}\n",
      "0.674 (+/-0.053) for {'tfidf_vec__max_features': 100000, 'tfidf_vec__ngram_range': (1, 3)}\n",
      "0.680 (+/-0.051) for {'tfidf_vec__max_features': 100000, 'tfidf_vec__ngram_range': (1, 4)}\n",
      "0.646 (+/-0.064) for {'tfidf_vec__max_features': 100000, 'tfidf_vec__ngram_range': (2, 2)}\n",
      "0.672 (+/-0.030) for {'tfidf_vec__max_features': 100000, 'tfidf_vec__ngram_range': (2, 3)}\n",
      "0.671 (+/-0.031) for {'tfidf_vec__max_features': 100000, 'tfidf_vec__ngram_range': (2, 4)}\n",
      "0.673 (+/-0.038) for {'tfidf_vec__max_features': 100000, 'tfidf_vec__ngram_range': (2, 5)}\n",
      "0.678 (+/-0.035) for {'tfidf_vec__max_features': 100000, 'tfidf_vec__ngram_range': (3, 3)}\n",
      "0.675 (+/-0.041) for {'tfidf_vec__max_features': 100000, 'tfidf_vec__ngram_range': (3, 4)}\n",
      "0.666 (+/-0.058) for {'tfidf_vec__max_features': 100000, 'tfidf_vec__ngram_range': (3, 5)}\n",
      "0.665 (+/-0.042) for {'tfidf_vec__max_features': 100000, 'tfidf_vec__ngram_range': (3, 6)}\n",
      "0.668 (+/-0.071) for {'tfidf_vec__max_features': 100000, 'tfidf_vec__ngram_range': (4, 4)}\n",
      "0.660 (+/-0.078) for {'tfidf_vec__max_features': 100000, 'tfidf_vec__ngram_range': (4, 5)}\n",
      "0.656 (+/-0.084) for {'tfidf_vec__max_features': 100000, 'tfidf_vec__ngram_range': (4, 6)}\n",
      "0.638 (+/-0.098) for {'tfidf_vec__max_features': 100000, 'tfidf_vec__ngram_range': (5, 5)}\n",
      "0.635 (+/-0.089) for {'tfidf_vec__max_features': 100000, 'tfidf_vec__ngram_range': (5, 6)}\n",
      "0.615 (+/-0.097) for {'tfidf_vec__max_features': 100000, 'tfidf_vec__ngram_range': (6, 6)}\n"
     ]
    }
   ],
   "source": [
    "means = gs_clf.cv_results_['mean_test_score']\n",
    "stds = gs_clf.cv_results_['std_test_score']\n",
    "for mean, std, params in zip(means, stds, gs_clf.cv_results_['params']):\n",
    "    print(\"%0.3f (+/-%0.03f) for %r\"\n",
    "        % (mean, std * 2, params))"
   ]
  },
  {
   "cell_type": "code",
   "execution_count": 29,
   "metadata": {},
   "outputs": [
    {
     "name": "stdout",
     "output_type": "stream",
     "text": [
      "0.641 (+/-0.026) for {'tfidf_vec__max_features': 10000, 'tfidf_vec__ngram_range': (1, 1)}\n",
      "0.701 (+/-0.049) for {'tfidf_vec__max_features': 10000, 'tfidf_vec__ngram_range': (1, 2)}\n",
      "0.743 (+/-0.042) for {'tfidf_vec__max_features': 10000, 'tfidf_vec__ngram_range': (1, 3)}\n",
      "0.753 (+/-0.027) for {'tfidf_vec__max_features': 10000, 'tfidf_vec__ngram_range': (1, 4)}\n",
      "0.716 (+/-0.029) for {'tfidf_vec__max_features': 10000, 'tfidf_vec__ngram_range': (2, 2)}\n",
      "0.747 (+/-0.044) for {'tfidf_vec__max_features': 10000, 'tfidf_vec__ngram_range': (2, 3)}\n",
      "0.763 (+/-0.038) for {'tfidf_vec__max_features': 10000, 'tfidf_vec__ngram_range': (2, 4)}\n",
      "0.754 (+/-0.038) for {'tfidf_vec__max_features': 10000, 'tfidf_vec__ngram_range': (2, 5)}\n",
      "0.753 (+/-0.049) for {'tfidf_vec__max_features': 10000, 'tfidf_vec__ngram_range': (3, 3)}\n",
      "0.763 (+/-0.046) for {'tfidf_vec__max_features': 10000, 'tfidf_vec__ngram_range': (3, 4)}\n",
      "0.753 (+/-0.043) for {'tfidf_vec__max_features': 10000, 'tfidf_vec__ngram_range': (3, 5)}\n",
      "0.752 (+/-0.045) for {'tfidf_vec__max_features': 10000, 'tfidf_vec__ngram_range': (3, 6)}\n",
      "0.753 (+/-0.051) for {'tfidf_vec__max_features': 10000, 'tfidf_vec__ngram_range': (4, 4)}\n",
      "0.749 (+/-0.045) for {'tfidf_vec__max_features': 10000, 'tfidf_vec__ngram_range': (4, 5)}\n",
      "0.748 (+/-0.057) for {'tfidf_vec__max_features': 10000, 'tfidf_vec__ngram_range': (4, 6)}\n",
      "0.753 (+/-0.057) for {'tfidf_vec__max_features': 10000, 'tfidf_vec__ngram_range': (5, 5)}\n",
      "0.743 (+/-0.072) for {'tfidf_vec__max_features': 10000, 'tfidf_vec__ngram_range': (5, 6)}\n",
      "0.735 (+/-0.064) for {'tfidf_vec__max_features': 10000, 'tfidf_vec__ngram_range': (6, 6)}\n",
      "0.641 (+/-0.026) for {'tfidf_vec__max_features': 50000, 'tfidf_vec__ngram_range': (1, 1)}\n",
      "0.701 (+/-0.049) for {'tfidf_vec__max_features': 50000, 'tfidf_vec__ngram_range': (1, 2)}\n",
      "0.744 (+/-0.040) for {'tfidf_vec__max_features': 50000, 'tfidf_vec__ngram_range': (1, 3)}\n",
      "0.753 (+/-0.030) for {'tfidf_vec__max_features': 50000, 'tfidf_vec__ngram_range': (1, 4)}\n",
      "0.716 (+/-0.029) for {'tfidf_vec__max_features': 50000, 'tfidf_vec__ngram_range': (2, 2)}\n",
      "0.747 (+/-0.045) for {'tfidf_vec__max_features': 50000, 'tfidf_vec__ngram_range': (2, 3)}\n",
      "0.761 (+/-0.043) for {'tfidf_vec__max_features': 50000, 'tfidf_vec__ngram_range': (2, 4)}\n",
      "0.755 (+/-0.040) for {'tfidf_vec__max_features': 50000, 'tfidf_vec__ngram_range': (2, 5)}\n",
      "0.753 (+/-0.050) for {'tfidf_vec__max_features': 50000, 'tfidf_vec__ngram_range': (3, 3)}\n",
      "0.758 (+/-0.049) for {'tfidf_vec__max_features': 50000, 'tfidf_vec__ngram_range': (3, 4)}\n",
      "0.759 (+/-0.037) for {'tfidf_vec__max_features': 50000, 'tfidf_vec__ngram_range': (3, 5)}\n",
      "0.757 (+/-0.031) for {'tfidf_vec__max_features': 50000, 'tfidf_vec__ngram_range': (3, 6)}\n",
      "0.758 (+/-0.043) for {'tfidf_vec__max_features': 50000, 'tfidf_vec__ngram_range': (4, 4)}\n",
      "0.757 (+/-0.045) for {'tfidf_vec__max_features': 50000, 'tfidf_vec__ngram_range': (4, 5)}\n",
      "0.754 (+/-0.048) for {'tfidf_vec__max_features': 50000, 'tfidf_vec__ngram_range': (4, 6)}\n",
      "0.742 (+/-0.061) for {'tfidf_vec__max_features': 50000, 'tfidf_vec__ngram_range': (5, 5)}\n",
      "0.741 (+/-0.061) for {'tfidf_vec__max_features': 50000, 'tfidf_vec__ngram_range': (5, 6)}\n",
      "0.730 (+/-0.060) for {'tfidf_vec__max_features': 50000, 'tfidf_vec__ngram_range': (6, 6)}\n",
      "0.641 (+/-0.026) for {'tfidf_vec__max_features': 100000, 'tfidf_vec__ngram_range': (1, 1)}\n",
      "0.701 (+/-0.049) for {'tfidf_vec__max_features': 100000, 'tfidf_vec__ngram_range': (1, 2)}\n",
      "0.744 (+/-0.040) for {'tfidf_vec__max_features': 100000, 'tfidf_vec__ngram_range': (1, 3)}\n",
      "0.753 (+/-0.030) for {'tfidf_vec__max_features': 100000, 'tfidf_vec__ngram_range': (1, 4)}\n",
      "0.716 (+/-0.029) for {'tfidf_vec__max_features': 100000, 'tfidf_vec__ngram_range': (2, 2)}\n",
      "0.747 (+/-0.045) for {'tfidf_vec__max_features': 100000, 'tfidf_vec__ngram_range': (2, 3)}\n",
      "0.761 (+/-0.043) for {'tfidf_vec__max_features': 100000, 'tfidf_vec__ngram_range': (2, 4)}\n",
      "0.757 (+/-0.047) for {'tfidf_vec__max_features': 100000, 'tfidf_vec__ngram_range': (2, 5)}\n",
      "0.753 (+/-0.050) for {'tfidf_vec__max_features': 100000, 'tfidf_vec__ngram_range': (3, 3)}\n",
      "0.758 (+/-0.049) for {'tfidf_vec__max_features': 100000, 'tfidf_vec__ngram_range': (3, 4)}\n",
      "0.758 (+/-0.037) for {'tfidf_vec__max_features': 100000, 'tfidf_vec__ngram_range': (3, 5)}\n",
      "0.762 (+/-0.044) for {'tfidf_vec__max_features': 100000, 'tfidf_vec__ngram_range': (3, 6)}\n",
      "0.758 (+/-0.043) for {'tfidf_vec__max_features': 100000, 'tfidf_vec__ngram_range': (4, 4)}\n",
      "0.754 (+/-0.052) for {'tfidf_vec__max_features': 100000, 'tfidf_vec__ngram_range': (4, 5)}\n",
      "0.752 (+/-0.051) for {'tfidf_vec__max_features': 100000, 'tfidf_vec__ngram_range': (4, 6)}\n",
      "0.743 (+/-0.060) for {'tfidf_vec__max_features': 100000, 'tfidf_vec__ngram_range': (5, 5)}\n",
      "0.738 (+/-0.061) for {'tfidf_vec__max_features': 100000, 'tfidf_vec__ngram_range': (5, 6)}\n",
      "0.723 (+/-0.064) for {'tfidf_vec__max_features': 100000, 'tfidf_vec__ngram_range': (6, 6)}\n"
     ]
    },
    {
     "name": "stderr",
     "output_type": "stream",
     "text": [
      "C:\\Users\\pascal\\Anaconda3\\lib\\site-packages\\sklearn\\linear_model\\logistic.py:433: FutureWarning: Default solver will be changed to 'lbfgs' in 0.22. Specify a solver to silence this warning.\n",
      "  FutureWarning)\n"
     ]
    }
   ],
   "source": [
    "# same on accuracy\n",
    "clf = Pipeline([('tfidf_vec', tfidf_vec), ('lr', lr)])\n",
    "gs_clf = GridSearchCV(clf, parameters, n_jobs=-1, scoring='accuracy', cv=k_fold)\n",
    "gs_clf = gs_clf.fit(df['raw_text'], df['binary_label'])\n",
    "\n",
    "means = gs_clf.cv_results_['mean_test_score']\n",
    "stds = gs_clf.cv_results_['std_test_score']\n",
    "for mean, std, params in zip(means, stds, gs_clf.cv_results_['params']):\n",
    "    print(\"%0.3f (+/-%0.03f) for %r\"\n",
    "        % (mean, std * 2, params))"
   ]
  },
  {
   "cell_type": "code",
   "execution_count": 30,
   "metadata": {},
   "outputs": [
    {
     "data": {
      "text/plain": [
       "{'tfidf_vec__max_features': 10000, 'tfidf_vec__ngram_range': (2, 4)}"
      ]
     },
     "execution_count": 30,
     "metadata": {},
     "output_type": "execute_result"
    }
   ],
   "source": [
    "# best parameters\n",
    "gs_clf.best_params_"
   ]
  },
  {
   "cell_type": "markdown",
   "metadata": {},
   "source": [
    "# Multinomial Naive Bayes"
   ]
  },
  {
   "cell_type": "code",
   "execution_count": 42,
   "metadata": {},
   "outputs": [
    {
     "name": "stdout",
     "output_type": "stream",
     "text": [
      "0.609 (+/-0.044) for {'tfidf_vec__max_features': 10000, 'tfidf_vec__ngram_range': (1, 1)}\n",
      "0.653 (+/-0.058) for {'tfidf_vec__max_features': 10000, 'tfidf_vec__ngram_range': (1, 2)}\n",
      "0.668 (+/-0.056) for {'tfidf_vec__max_features': 10000, 'tfidf_vec__ngram_range': (1, 3)}\n",
      "0.715 (+/-0.039) for {'tfidf_vec__max_features': 10000, 'tfidf_vec__ngram_range': (1, 4)}\n",
      "0.673 (+/-0.028) for {'tfidf_vec__max_features': 10000, 'tfidf_vec__ngram_range': (2, 2)}\n",
      "0.693 (+/-0.051) for {'tfidf_vec__max_features': 10000, 'tfidf_vec__ngram_range': (2, 3)}\n",
      "0.726 (+/-0.034) for {'tfidf_vec__max_features': 10000, 'tfidf_vec__ngram_range': (2, 4)}\n",
      "0.736 (+/-0.037) for {'tfidf_vec__max_features': 10000, 'tfidf_vec__ngram_range': (2, 5)}\n",
      "0.701 (+/-0.047) for {'tfidf_vec__max_features': 10000, 'tfidf_vec__ngram_range': (3, 3)}\n",
      "0.736 (+/-0.032) for {'tfidf_vec__max_features': 10000, 'tfidf_vec__ngram_range': (3, 4)}\n",
      "0.743 (+/-0.039) for {'tfidf_vec__max_features': 10000, 'tfidf_vec__ngram_range': (3, 5)}\n",
      "0.737 (+/-0.035) for {'tfidf_vec__max_features': 10000, 'tfidf_vec__ngram_range': (3, 6)}\n",
      "0.739 (+/-0.030) for {'tfidf_vec__max_features': 10000, 'tfidf_vec__ngram_range': (4, 4)}\n",
      "0.744 (+/-0.032) for {'tfidf_vec__max_features': 10000, 'tfidf_vec__ngram_range': (4, 5)}\n",
      "0.741 (+/-0.024) for {'tfidf_vec__max_features': 10000, 'tfidf_vec__ngram_range': (4, 6)}\n",
      "0.751 (+/-0.023) for {'tfidf_vec__max_features': 10000, 'tfidf_vec__ngram_range': (5, 5)}\n",
      "0.731 (+/-0.036) for {'tfidf_vec__max_features': 10000, 'tfidf_vec__ngram_range': (5, 6)}\n",
      "0.737 (+/-0.023) for {'tfidf_vec__max_features': 10000, 'tfidf_vec__ngram_range': (6, 6)}\n",
      "0.609 (+/-0.044) for {'tfidf_vec__max_features': 50000, 'tfidf_vec__ngram_range': (1, 1)}\n",
      "0.653 (+/-0.058) for {'tfidf_vec__max_features': 50000, 'tfidf_vec__ngram_range': (1, 2)}\n",
      "0.659 (+/-0.054) for {'tfidf_vec__max_features': 50000, 'tfidf_vec__ngram_range': (1, 3)}\n",
      "0.671 (+/-0.050) for {'tfidf_vec__max_features': 50000, 'tfidf_vec__ngram_range': (1, 4)}\n",
      "0.673 (+/-0.028) for {'tfidf_vec__max_features': 50000, 'tfidf_vec__ngram_range': (2, 2)}\n",
      "0.685 (+/-0.054) for {'tfidf_vec__max_features': 50000, 'tfidf_vec__ngram_range': (2, 3)}\n",
      "0.688 (+/-0.043) for {'tfidf_vec__max_features': 50000, 'tfidf_vec__ngram_range': (2, 4)}\n",
      "0.707 (+/-0.053) for {'tfidf_vec__max_features': 50000, 'tfidf_vec__ngram_range': (2, 5)}\n",
      "0.701 (+/-0.047) for {'tfidf_vec__max_features': 50000, 'tfidf_vec__ngram_range': (3, 3)}\n",
      "0.704 (+/-0.041) for {'tfidf_vec__max_features': 50000, 'tfidf_vec__ngram_range': (3, 4)}\n",
      "0.723 (+/-0.043) for {'tfidf_vec__max_features': 50000, 'tfidf_vec__ngram_range': (3, 5)}\n",
      "0.736 (+/-0.034) for {'tfidf_vec__max_features': 50000, 'tfidf_vec__ngram_range': (3, 6)}\n",
      "0.716 (+/-0.052) for {'tfidf_vec__max_features': 50000, 'tfidf_vec__ngram_range': (4, 4)}\n",
      "0.730 (+/-0.031) for {'tfidf_vec__max_features': 50000, 'tfidf_vec__ngram_range': (4, 5)}\n",
      "0.740 (+/-0.018) for {'tfidf_vec__max_features': 50000, 'tfidf_vec__ngram_range': (4, 6)}\n",
      "0.722 (+/-0.041) for {'tfidf_vec__max_features': 50000, 'tfidf_vec__ngram_range': (5, 5)}\n",
      "0.747 (+/-0.020) for {'tfidf_vec__max_features': 50000, 'tfidf_vec__ngram_range': (5, 6)}\n",
      "0.730 (+/-0.022) for {'tfidf_vec__max_features': 50000, 'tfidf_vec__ngram_range': (6, 6)}\n",
      "0.609 (+/-0.044) for {'tfidf_vec__max_features': 100000, 'tfidf_vec__ngram_range': (1, 1)}\n",
      "0.653 (+/-0.058) for {'tfidf_vec__max_features': 100000, 'tfidf_vec__ngram_range': (1, 2)}\n",
      "0.659 (+/-0.054) for {'tfidf_vec__max_features': 100000, 'tfidf_vec__ngram_range': (1, 3)}\n",
      "0.671 (+/-0.050) for {'tfidf_vec__max_features': 100000, 'tfidf_vec__ngram_range': (1, 4)}\n",
      "0.673 (+/-0.028) for {'tfidf_vec__max_features': 100000, 'tfidf_vec__ngram_range': (2, 2)}\n",
      "0.685 (+/-0.054) for {'tfidf_vec__max_features': 100000, 'tfidf_vec__ngram_range': (2, 3)}\n",
      "0.688 (+/-0.043) for {'tfidf_vec__max_features': 100000, 'tfidf_vec__ngram_range': (2, 4)}\n",
      "0.691 (+/-0.052) for {'tfidf_vec__max_features': 100000, 'tfidf_vec__ngram_range': (2, 5)}\n",
      "0.701 (+/-0.047) for {'tfidf_vec__max_features': 100000, 'tfidf_vec__ngram_range': (3, 3)}\n",
      "0.704 (+/-0.041) for {'tfidf_vec__max_features': 100000, 'tfidf_vec__ngram_range': (3, 4)}\n",
      "0.704 (+/-0.054) for {'tfidf_vec__max_features': 100000, 'tfidf_vec__ngram_range': (3, 5)}\n",
      "0.722 (+/-0.037) for {'tfidf_vec__max_features': 100000, 'tfidf_vec__ngram_range': (3, 6)}\n",
      "0.716 (+/-0.052) for {'tfidf_vec__max_features': 100000, 'tfidf_vec__ngram_range': (4, 4)}\n",
      "0.714 (+/-0.051) for {'tfidf_vec__max_features': 100000, 'tfidf_vec__ngram_range': (4, 5)}\n",
      "0.728 (+/-0.030) for {'tfidf_vec__max_features': 100000, 'tfidf_vec__ngram_range': (4, 6)}\n",
      "0.719 (+/-0.043) for {'tfidf_vec__max_features': 100000, 'tfidf_vec__ngram_range': (5, 5)}\n",
      "0.728 (+/-0.028) for {'tfidf_vec__max_features': 100000, 'tfidf_vec__ngram_range': (5, 6)}\n",
      "0.718 (+/-0.037) for {'tfidf_vec__max_features': 100000, 'tfidf_vec__ngram_range': (6, 6)}\n",
      "best: {'tfidf_vec__max_features': 10000, 'tfidf_vec__ngram_range': (5, 5)}\n"
     ]
    }
   ],
   "source": [
    "# on accuracy\n",
    "clf = Pipeline([('tfidf_vec', tfidf_vec), ('mnb', mnb)])\n",
    "gs_clf_acc = GridSearchCV(clf, parameters, n_jobs=-1, scoring='accuracy', cv=k_fold)\n",
    "gs_clf_acc = gs_clf_acc.fit(df['raw_text'], df['binary_label'])\n",
    "\n",
    "means = gs_clf_acc.cv_results_['mean_test_score']\n",
    "stds = gs_clf_acc.cv_results_['std_test_score']\n",
    "for mean, std, params in zip(means, stds, gs_clf_acc.cv_results_['params']):\n",
    "    print(\"%0.3f (+/-%0.03f) for %r\"\n",
    "        % (mean, std * 2, params))\n",
    "    \n",
    "print('best: {}'.format(gs_clf_acc.best_params_))"
   ]
  },
  {
   "cell_type": "code",
   "execution_count": 43,
   "metadata": {},
   "outputs": [
    {
     "name": "stdout",
     "output_type": "stream",
     "text": [
      "0.301 (+/-0.074) for {'tfidf_vec__max_features': 10000, 'tfidf_vec__ngram_range': (1, 1)}\n",
      "0.448 (+/-0.073) for {'tfidf_vec__max_features': 10000, 'tfidf_vec__ngram_range': (1, 2)}\n",
      "0.452 (+/-0.091) for {'tfidf_vec__max_features': 10000, 'tfidf_vec__ngram_range': (1, 3)}\n",
      "0.589 (+/-0.102) for {'tfidf_vec__max_features': 10000, 'tfidf_vec__ngram_range': (1, 4)}\n",
      "0.530 (+/-0.073) for {'tfidf_vec__max_features': 10000, 'tfidf_vec__ngram_range': (2, 2)}\n",
      "0.532 (+/-0.063) for {'tfidf_vec__max_features': 10000, 'tfidf_vec__ngram_range': (2, 3)}\n",
      "0.622 (+/-0.103) for {'tfidf_vec__max_features': 10000, 'tfidf_vec__ngram_range': (2, 4)}\n",
      "0.627 (+/-0.080) for {'tfidf_vec__max_features': 10000, 'tfidf_vec__ngram_range': (2, 5)}\n",
      "0.558 (+/-0.075) for {'tfidf_vec__max_features': 10000, 'tfidf_vec__ngram_range': (3, 3)}\n",
      "0.641 (+/-0.095) for {'tfidf_vec__max_features': 10000, 'tfidf_vec__ngram_range': (3, 4)}\n",
      "0.651 (+/-0.073) for {'tfidf_vec__max_features': 10000, 'tfidf_vec__ngram_range': (3, 5)}\n",
      "0.648 (+/-0.067) for {'tfidf_vec__max_features': 10000, 'tfidf_vec__ngram_range': (3, 6)}\n",
      "0.651 (+/-0.094) for {'tfidf_vec__max_features': 10000, 'tfidf_vec__ngram_range': (4, 4)}\n",
      "0.671 (+/-0.085) for {'tfidf_vec__max_features': 10000, 'tfidf_vec__ngram_range': (4, 5)}\n",
      "0.656 (+/-0.063) for {'tfidf_vec__max_features': 10000, 'tfidf_vec__ngram_range': (4, 6)}\n",
      "0.682 (+/-0.076) for {'tfidf_vec__max_features': 10000, 'tfidf_vec__ngram_range': (5, 5)}\n",
      "0.664 (+/-0.054) for {'tfidf_vec__max_features': 10000, 'tfidf_vec__ngram_range': (5, 6)}\n",
      "0.669 (+/-0.071) for {'tfidf_vec__max_features': 10000, 'tfidf_vec__ngram_range': (6, 6)}\n",
      "0.301 (+/-0.074) for {'tfidf_vec__max_features': 50000, 'tfidf_vec__ngram_range': (1, 1)}\n",
      "0.448 (+/-0.073) for {'tfidf_vec__max_features': 50000, 'tfidf_vec__ngram_range': (1, 2)}\n",
      "0.444 (+/-0.099) for {'tfidf_vec__max_features': 50000, 'tfidf_vec__ngram_range': (1, 3)}\n",
      "0.469 (+/-0.118) for {'tfidf_vec__max_features': 50000, 'tfidf_vec__ngram_range': (1, 4)}\n",
      "0.530 (+/-0.073) for {'tfidf_vec__max_features': 50000, 'tfidf_vec__ngram_range': (2, 2)}\n",
      "0.516 (+/-0.067) for {'tfidf_vec__max_features': 50000, 'tfidf_vec__ngram_range': (2, 3)}\n",
      "0.512 (+/-0.118) for {'tfidf_vec__max_features': 50000, 'tfidf_vec__ngram_range': (2, 4)}\n",
      "0.565 (+/-0.119) for {'tfidf_vec__max_features': 50000, 'tfidf_vec__ngram_range': (2, 5)}\n",
      "0.557 (+/-0.082) for {'tfidf_vec__max_features': 50000, 'tfidf_vec__ngram_range': (3, 3)}\n",
      "0.553 (+/-0.115) for {'tfidf_vec__max_features': 50000, 'tfidf_vec__ngram_range': (3, 4)}\n",
      "0.591 (+/-0.123) for {'tfidf_vec__max_features': 50000, 'tfidf_vec__ngram_range': (3, 5)}\n",
      "0.630 (+/-0.109) for {'tfidf_vec__max_features': 50000, 'tfidf_vec__ngram_range': (3, 6)}\n",
      "0.592 (+/-0.115) for {'tfidf_vec__max_features': 50000, 'tfidf_vec__ngram_range': (4, 4)}\n",
      "0.618 (+/-0.127) for {'tfidf_vec__max_features': 50000, 'tfidf_vec__ngram_range': (4, 5)}\n",
      "0.646 (+/-0.101) for {'tfidf_vec__max_features': 50000, 'tfidf_vec__ngram_range': (4, 6)}\n",
      "0.616 (+/-0.118) for {'tfidf_vec__max_features': 50000, 'tfidf_vec__ngram_range': (5, 5)}\n",
      "0.662 (+/-0.100) for {'tfidf_vec__max_features': 50000, 'tfidf_vec__ngram_range': (5, 6)}\n",
      "0.637 (+/-0.104) for {'tfidf_vec__max_features': 50000, 'tfidf_vec__ngram_range': (6, 6)}\n",
      "0.301 (+/-0.074) for {'tfidf_vec__max_features': 100000, 'tfidf_vec__ngram_range': (1, 1)}\n",
      "0.448 (+/-0.073) for {'tfidf_vec__max_features': 100000, 'tfidf_vec__ngram_range': (1, 2)}\n",
      "0.444 (+/-0.099) for {'tfidf_vec__max_features': 100000, 'tfidf_vec__ngram_range': (1, 3)}\n",
      "0.469 (+/-0.118) for {'tfidf_vec__max_features': 100000, 'tfidf_vec__ngram_range': (1, 4)}\n",
      "0.530 (+/-0.073) for {'tfidf_vec__max_features': 100000, 'tfidf_vec__ngram_range': (2, 2)}\n",
      "0.516 (+/-0.067) for {'tfidf_vec__max_features': 100000, 'tfidf_vec__ngram_range': (2, 3)}\n",
      "0.512 (+/-0.118) for {'tfidf_vec__max_features': 100000, 'tfidf_vec__ngram_range': (2, 4)}\n",
      "0.517 (+/-0.121) for {'tfidf_vec__max_features': 100000, 'tfidf_vec__ngram_range': (2, 5)}\n",
      "0.557 (+/-0.082) for {'tfidf_vec__max_features': 100000, 'tfidf_vec__ngram_range': (3, 3)}\n",
      "0.553 (+/-0.115) for {'tfidf_vec__max_features': 100000, 'tfidf_vec__ngram_range': (3, 4)}\n",
      "0.557 (+/-0.137) for {'tfidf_vec__max_features': 100000, 'tfidf_vec__ngram_range': (3, 5)}\n",
      "0.596 (+/-0.121) for {'tfidf_vec__max_features': 100000, 'tfidf_vec__ngram_range': (3, 6)}\n",
      "0.592 (+/-0.115) for {'tfidf_vec__max_features': 100000, 'tfidf_vec__ngram_range': (4, 4)}\n",
      "0.588 (+/-0.129) for {'tfidf_vec__max_features': 100000, 'tfidf_vec__ngram_range': (4, 5)}\n",
      "0.621 (+/-0.119) for {'tfidf_vec__max_features': 100000, 'tfidf_vec__ngram_range': (4, 6)}\n",
      "0.607 (+/-0.123) for {'tfidf_vec__max_features': 100000, 'tfidf_vec__ngram_range': (5, 5)}\n",
      "0.624 (+/-0.119) for {'tfidf_vec__max_features': 100000, 'tfidf_vec__ngram_range': (5, 6)}\n",
      "0.606 (+/-0.130) for {'tfidf_vec__max_features': 100000, 'tfidf_vec__ngram_range': (6, 6)}\n",
      "best: {'tfidf_vec__max_features': 10000, 'tfidf_vec__ngram_range': (5, 5)}\n"
     ]
    }
   ],
   "source": [
    "# on f1\n",
    "clf = Pipeline([('tfidf_vec', tfidf_vec), ('mnb', mnb)])\n",
    "gs_clf_acc = GridSearchCV(clf, parameters, n_jobs=-1, scoring='f1', cv=k_fold)\n",
    "gs_clf_acc = gs_clf_acc.fit(df['raw_text'], df['binary_label'])\n",
    "\n",
    "means = gs_clf_acc.cv_results_['mean_test_score']\n",
    "stds = gs_clf_acc.cv_results_['std_test_score']\n",
    "for mean, std, params in zip(means, stds, gs_clf_acc.cv_results_['params']):\n",
    "    print(\"%0.3f (+/-%0.03f) for %r\"\n",
    "        % (mean, std * 2, params))\n",
    "    \n",
    "print('best: {}'.format(gs_clf_acc.best_params_))"
   ]
  },
  {
   "cell_type": "markdown",
   "metadata": {},
   "source": [
    "# Resultat\n",
    "Bisher bestes Resultat\n",
    "- Logistic Regression Classifier\n",
    "- TF-IDF Vectorizer mit {'tfidf_vec__max_features': 100000, 'tfidf_vec__ngram_range': (2, 5)}"
   ]
  },
  {
   "cell_type": "code",
   "execution_count": null,
   "metadata": {},
   "outputs": [],
   "source": []
  }
 ],
 "metadata": {
  "kernelspec": {
   "display_name": "Python 3",
   "language": "python",
   "name": "python3"
  },
  "language_info": {
   "codemirror_mode": {
    "name": "ipython",
    "version": 3
   },
   "file_extension": ".py",
   "mimetype": "text/x-python",
   "name": "python",
   "nbconvert_exporter": "python",
   "pygments_lexer": "ipython3",
   "version": "3.7.1"
  }
 },
 "nbformat": 4,
 "nbformat_minor": 2
}
