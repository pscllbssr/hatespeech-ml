{
 "cells": [
  {
   "cell_type": "code",
   "execution_count": 61,
   "metadata": {},
   "outputs": [],
   "source": [
    "import pandas as pd\n",
    "import numpy as np"
   ]
  },
  {
   "cell_type": "code",
   "execution_count": 62,
   "metadata": {},
   "outputs": [],
   "source": [
    "set_1 = pd.read_csv(r\"data/normalized_tweets_refugees.csv\")"
   ]
  },
  {
   "cell_type": "code",
   "execution_count": 63,
   "metadata": {},
   "outputs": [],
   "source": [
    "set_2 = pd.read_csv(r\"data/normalized_facebook_comments.csv\", dtype={'binary_label': np.bool})"
   ]
  },
  {
   "cell_type": "code",
   "execution_count": 64,
   "metadata": {},
   "outputs": [],
   "source": [
    "set_3 = pd.read_csv(r\"data/polly_hatespeech.csv\")"
   ]
  },
  {
   "cell_type": "code",
   "execution_count": 65,
   "metadata": {},
   "outputs": [
    {
     "name": "stdout",
     "output_type": "stream",
     "text": [
      "<class 'pandas.core.frame.DataFrame'>\n",
      "RangeIndex: 469 entries, 0 to 468\n",
      "Data columns (total 3 columns):\n",
      "raw_text        469 non-null object\n",
      "severity        469 non-null float64\n",
      "binary_label    469 non-null bool\n",
      "dtypes: bool(1), float64(1), object(1)\n",
      "memory usage: 7.9+ KB\n"
     ]
    }
   ],
   "source": [
    "set_1.info(verbose=True)"
   ]
  },
  {
   "cell_type": "code",
   "execution_count": 66,
   "metadata": {},
   "outputs": [
    {
     "name": "stdout",
     "output_type": "stream",
     "text": [
      "<class 'pandas.core.frame.DataFrame'>\n",
      "RangeIndex: 5837 entries, 0 to 5836\n",
      "Data columns (total 3 columns):\n",
      "raw_text        5837 non-null object\n",
      "severity        5836 non-null float64\n",
      "binary_label    5836 non-null object\n",
      "dtypes: float64(1), object(2)\n",
      "memory usage: 136.9+ KB\n"
     ]
    }
   ],
   "source": [
    "set_2.info(verbose=True)"
   ]
  },
  {
   "cell_type": "code",
   "execution_count": 67,
   "metadata": {},
   "outputs": [
    {
     "name": "stdout",
     "output_type": "stream",
     "text": [
      "<class 'pandas.core.frame.DataFrame'>\n",
      "RangeIndex: 18769 entries, 0 to 18768\n",
      "Data columns (total 3 columns):\n",
      "raw_text        18769 non-null object\n",
      "severity        18769 non-null int64\n",
      "binary_label    18769 non-null bool\n",
      "dtypes: bool(1), int64(1), object(1)\n",
      "memory usage: 311.7+ KB\n"
     ]
    }
   ],
   "source": [
    "set_3.info(verbose=True)"
   ]
  },
  {
   "cell_type": "code",
   "execution_count": 68,
   "metadata": {},
   "outputs": [
    {
     "data": {
      "text/plain": [
       "array([True, False, nan], dtype=object)"
      ]
     },
     "execution_count": 68,
     "metadata": {},
     "output_type": "execute_result"
    }
   ],
   "source": [
    "set_2.binary_label.unique()"
   ]
  },
  {
   "cell_type": "code",
   "execution_count": 69,
   "metadata": {},
   "outputs": [
    {
     "data": {
      "text/html": [
       "<div>\n",
       "<style scoped>\n",
       "    .dataframe tbody tr th:only-of-type {\n",
       "        vertical-align: middle;\n",
       "    }\n",
       "\n",
       "    .dataframe tbody tr th {\n",
       "        vertical-align: top;\n",
       "    }\n",
       "\n",
       "    .dataframe thead th {\n",
       "        text-align: right;\n",
       "    }\n",
       "</style>\n",
       "<table border=\"1\" class=\"dataframe\">\n",
       "  <thead>\n",
       "    <tr style=\"text-align: right;\">\n",
       "      <th></th>\n",
       "      <th>raw_text</th>\n",
       "      <th>severity</th>\n",
       "      <th>binary_label</th>\n",
       "    </tr>\n",
       "  </thead>\n",
       "  <tbody>\n",
       "    <tr>\n",
       "      <th>2596</th>\n",
       "      <td>Das macht Angst....</td>\n",
       "      <td>NaN</td>\n",
       "      <td>NaN</td>\n",
       "    </tr>\n",
       "  </tbody>\n",
       "</table>\n",
       "</div>"
      ],
      "text/plain": [
       "                  raw_text  severity binary_label\n",
       "2596  Das macht Angst....        NaN          NaN"
      ]
     },
     "execution_count": 69,
     "metadata": {},
     "output_type": "execute_result"
    }
   ],
   "source": [
    "set_2[set_2['binary_label'].isna()]"
   ]
  },
  {
   "cell_type": "code",
   "execution_count": 70,
   "metadata": {},
   "outputs": [
    {
     "name": "stdout",
     "output_type": "stream",
     "text": [
      "<class 'pandas.core.frame.DataFrame'>\n",
      "Int64Index: 5836 entries, 0 to 5836\n",
      "Data columns (total 3 columns):\n",
      "raw_text        5836 non-null object\n",
      "severity        5836 non-null float64\n",
      "binary_label    5836 non-null bool\n",
      "dtypes: bool(1), float64(1), object(1)\n",
      "memory usage: 142.5+ KB\n"
     ]
    }
   ],
   "source": [
    "set_2 = set_2[set_2['binary_label'].notna()]\n",
    "set_2 = set_2.astype({'binary_label': np.bool})\n",
    "set_2.info(verbose=True)"
   ]
  },
  {
   "cell_type": "markdown",
   "metadata": {},
   "source": [
    "# combining datasets\n",
    "as we have normalized the different datasets before, we can combine them"
   ]
  },
  {
   "cell_type": "code",
   "execution_count": 71,
   "metadata": {
    "scrolled": true
   },
   "outputs": [
    {
     "name": "stdout",
     "output_type": "stream",
     "text": [
      "<class 'pandas.core.frame.DataFrame'>\n",
      "Int64Index: 25074 entries, 0 to 18768\n",
      "Data columns (total 3 columns):\n",
      "raw_text        25074 non-null object\n",
      "severity        25074 non-null float64\n",
      "binary_label    25074 non-null bool\n",
      "dtypes: bool(1), float64(1), object(1)\n",
      "memory usage: 612.2+ KB\n"
     ]
    }
   ],
   "source": [
    "df = pd.concat([set_1, set_2, set_3])\n",
    "df.info(verbose=True)"
   ]
  },
  {
   "cell_type": "code",
   "execution_count": 72,
   "metadata": {},
   "outputs": [
    {
     "name": "stdout",
     "output_type": "stream",
     "text": [
      "There are 25074 rows, 19597 are hate speech, 5477 not.\n"
     ]
    }
   ],
   "source": [
    "print(\"There are {} rows, {} are hate speech, {} not.\".format(len(df), len(df[df['binary_label'] == True]), len(df[df['binary_label'] == False])))"
   ]
  },
  {
   "cell_type": "markdown",
   "metadata": {},
   "source": [
    "seems about right"
   ]
  },
  {
   "cell_type": "code",
   "execution_count": 73,
   "metadata": {},
   "outputs": [
    {
     "data": {
      "text/html": [
       "<div>\n",
       "<style scoped>\n",
       "    .dataframe tbody tr th:only-of-type {\n",
       "        vertical-align: middle;\n",
       "    }\n",
       "\n",
       "    .dataframe tbody tr th {\n",
       "        vertical-align: top;\n",
       "    }\n",
       "\n",
       "    .dataframe thead th {\n",
       "        text-align: right;\n",
       "    }\n",
       "</style>\n",
       "<table border=\"1\" class=\"dataframe\">\n",
       "  <thead>\n",
       "    <tr style=\"text-align: right;\">\n",
       "      <th></th>\n",
       "      <th>raw_text</th>\n",
       "      <th>severity</th>\n",
       "      <th>binary_label</th>\n",
       "    </tr>\n",
       "  </thead>\n",
       "  <tbody>\n",
       "    <tr>\n",
       "      <th>0</th>\n",
       "      <td>#Rosenmontag ist abgesagt. #Rapefugees also wi...</td>\n",
       "      <td>0.5</td>\n",
       "      <td>True</td>\n",
       "    </tr>\n",
       "    <tr>\n",
       "      <th>3</th>\n",
       "      <td>Den verfluchten #Rapefugees den Krieg erklären...</td>\n",
       "      <td>0.5</td>\n",
       "      <td>True</td>\n",
       "    </tr>\n",
       "    <tr>\n",
       "      <th>4</th>\n",
       "      <td>War das Wochenende im Ruhrpott unterwegs. Über...</td>\n",
       "      <td>1.0</td>\n",
       "      <td>True</td>\n",
       "    </tr>\n",
       "    <tr>\n",
       "      <th>9</th>\n",
       "      <td>Offenes, freies WLAN im #Sophienhof #Kiel. Mit...</td>\n",
       "      <td>0.5</td>\n",
       "      <td>True</td>\n",
       "    </tr>\n",
       "    <tr>\n",
       "      <th>11</th>\n",
       "      <td>Regeln und Gesetze der Einheimischen sind ein ...</td>\n",
       "      <td>0.5</td>\n",
       "      <td>True</td>\n",
       "    </tr>\n",
       "    <tr>\n",
       "      <th>12</th>\n",
       "      <td>#Blutrache, #Zwangsbekehrung, #Scharia, #Kinde...</td>\n",
       "      <td>0.5</td>\n",
       "      <td>True</td>\n",
       "    </tr>\n",
       "    <tr>\n",
       "      <th>14</th>\n",
       "      <td>Claudia #Roth: Wer Sex-Attacken von Asylanten ...</td>\n",
       "      <td>0.5</td>\n",
       "      <td>True</td>\n",
       "    </tr>\n",
       "    <tr>\n",
       "      <th>16</th>\n",
       "      <td>Die Unterbringung im Gefängnis nur weil man Ve...</td>\n",
       "      <td>0.5</td>\n",
       "      <td>True</td>\n",
       "    </tr>\n",
       "    <tr>\n",
       "      <th>24</th>\n",
       "      <td>#illner. erst hieß es, es kämen nur top Arbeit...</td>\n",
       "      <td>1.0</td>\n",
       "      <td>True</td>\n",
       "    </tr>\n",
       "    <tr>\n",
       "      <th>30</th>\n",
       "      <td>Pöbelnde #Asylanten zeigen Kopf-ab-Gesten und ...</td>\n",
       "      <td>0.5</td>\n",
       "      <td>True</td>\n",
       "    </tr>\n",
       "    <tr>\n",
       "      <th>31</th>\n",
       "      <td>Geld aus der Portokasse von #Merkel, oder doch...</td>\n",
       "      <td>0.5</td>\n",
       "      <td>True</td>\n",
       "    </tr>\n",
       "    <tr>\n",
       "      <th>34</th>\n",
       "      <td>Wenn sich der Hass in #Deutschland mal seinen ...</td>\n",
       "      <td>0.5</td>\n",
       "      <td>True</td>\n",
       "    </tr>\n",
       "    <tr>\n",
       "      <th>38</th>\n",
       "      <td>#hartaberfair Andere #EU Länder sind Land und ...</td>\n",
       "      <td>0.5</td>\n",
       "      <td>True</td>\n",
       "    </tr>\n",
       "    <tr>\n",
       "      <th>39</th>\n",
       "      <td>#besorgteGutmenschen regen sich auf :  #Khaled...</td>\n",
       "      <td>1.0</td>\n",
       "      <td>True</td>\n",
       "    </tr>\n",
       "    <tr>\n",
       "      <th>41</th>\n",
       "      <td>Idee: #Hartzer VS #Asylanten im Einzelkampf . ...</td>\n",
       "      <td>0.5</td>\n",
       "      <td>True</td>\n",
       "    </tr>\n",
       "    <tr>\n",
       "      <th>43</th>\n",
       "      <td>Utter zbale in this hashtag #rapefugees</td>\n",
       "      <td>0.5</td>\n",
       "      <td>True</td>\n",
       "    </tr>\n",
       "    <tr>\n",
       "      <th>44</th>\n",
       "      <td>Gestern kamen die #Asylanten. Heute Nacht wurd...</td>\n",
       "      <td>0.5</td>\n",
       "      <td>True</td>\n",
       "    </tr>\n",
       "    <tr>\n",
       "      <th>45</th>\n",
       "      <td>Erschreckend, daß es #Frauen sind, die 30 Jahr...</td>\n",
       "      <td>1.0</td>\n",
       "      <td>True</td>\n",
       "    </tr>\n",
       "    <tr>\n",
       "      <th>46</th>\n",
       "      <td>#Deutschland übt #Karneval nach den Regeln der...</td>\n",
       "      <td>0.5</td>\n",
       "      <td>True</td>\n",
       "    </tr>\n",
       "    <tr>\n",
       "      <th>52</th>\n",
       "      <td>#Arabisch als Schulsprache - #Islamisierung #D...</td>\n",
       "      <td>0.5</td>\n",
       "      <td>True</td>\n",
       "    </tr>\n",
       "    <tr>\n",
       "      <th>55</th>\n",
       "      <td>lieber #Horst #Seehofer,der #Bayerische #Staat...</td>\n",
       "      <td>0.5</td>\n",
       "      <td>True</td>\n",
       "    </tr>\n",
       "    <tr>\n",
       "      <th>59</th>\n",
       "      <td>#maischberger Fratscher:Geld für Migranten als...</td>\n",
       "      <td>1.0</td>\n",
       "      <td>True</td>\n",
       "    </tr>\n",
       "    <tr>\n",
       "      <th>62</th>\n",
       "      <td>#Reker beugt sich #Islam und #Scharia, schafft...</td>\n",
       "      <td>0.5</td>\n",
       "      <td>True</td>\n",
       "    </tr>\n",
       "    <tr>\n",
       "      <th>63</th>\n",
       "      <td>#maischberger Liefers: Wir achten Frauen.... F...</td>\n",
       "      <td>1.0</td>\n",
       "      <td>True</td>\n",
       "    </tr>\n",
       "    <tr>\n",
       "      <th>65</th>\n",
       "      <td>Wir werden noch gemeinsam auf #PEGIDA stehen, ...</td>\n",
       "      <td>0.5</td>\n",
       "      <td>True</td>\n",
       "    </tr>\n",
       "    <tr>\n",
       "      <th>67</th>\n",
       "      <td>Ich habe bis heute nicht verstanden, was an Du...</td>\n",
       "      <td>1.0</td>\n",
       "      <td>True</td>\n",
       "    </tr>\n",
       "    <tr>\n",
       "      <th>76</th>\n",
       "      <td>DANKE #Clausnitz FÜR EUREN #WIDERSTAND ! IHR S...</td>\n",
       "      <td>1.0</td>\n",
       "      <td>True</td>\n",
       "    </tr>\n",
       "    <tr>\n",
       "      <th>78</th>\n",
       "      <td>#Asylanten betteln jetzt auch in den Nachbardö...</td>\n",
       "      <td>0.5</td>\n",
       "      <td>True</td>\n",
       "    </tr>\n",
       "    <tr>\n",
       "      <th>81</th>\n",
       "      <td>Könnten wir Schmarotzer und Kriminelle loswerd...</td>\n",
       "      <td>1.0</td>\n",
       "      <td>True</td>\n",
       "    </tr>\n",
       "    <tr>\n",
       "      <th>89</th>\n",
       "      <td>Integrierte werden abgeschoben?Illegale TÄTER ...</td>\n",
       "      <td>0.5</td>\n",
       "      <td>True</td>\n",
       "    </tr>\n",
       "    <tr>\n",
       "      <th>93</th>\n",
       "      <td>Die #Islamisierung des #Abendlandes ist die sc...</td>\n",
       "      <td>1.0</td>\n",
       "      <td>True</td>\n",
       "    </tr>\n",
       "    <tr>\n",
       "      <th>97</th>\n",
       "      <td>Ich brauche einen Blog, glaube ich, 140 Zeiche...</td>\n",
       "      <td>1.0</td>\n",
       "      <td>True</td>\n",
       "    </tr>\n",
       "    <tr>\n",
       "      <th>102</th>\n",
       "      <td>Seit beginn der #Asylflut sprunghafter Anstieg...</td>\n",
       "      <td>0.5</td>\n",
       "      <td>True</td>\n",
       "    </tr>\n",
       "    <tr>\n",
       "      <th>105</th>\n",
       "      <td>#Kiel Wer jetzt immer noch die Blockparteien w...</td>\n",
       "      <td>0.5</td>\n",
       "      <td>True</td>\n",
       "    </tr>\n",
       "    <tr>\n",
       "      <th>106</th>\n",
       "      <td>Deutsche Frauen an #rapefugees opfern. #wasist...</td>\n",
       "      <td>1.0</td>\n",
       "      <td>True</td>\n",
       "    </tr>\n",
       "    <tr>\n",
       "      <th>112</th>\n",
       "      <td>Die heutige Tagesscheisse heist #Hoaxmap. Die ...</td>\n",
       "      <td>0.5</td>\n",
       "      <td>True</td>\n",
       "    </tr>\n",
       "    <tr>\n",
       "      <th>115</th>\n",
       "      <td>Wenn sie gesagt hätte: \"\"#Domian´, ich hasse d...</td>\n",
       "      <td>0.5</td>\n",
       "      <td>True</td>\n",
       "    </tr>\n",
       "    <tr>\n",
       "      <th>117</th>\n",
       "      <td>Gerüchten zufolge finden sich in den Netzen de...</td>\n",
       "      <td>0.5</td>\n",
       "      <td>True</td>\n",
       "    </tr>\n",
       "    <tr>\n",
       "      <th>118</th>\n",
       "      <td>Ich würde gern mal eine #Sondersendung zur täg...</td>\n",
       "      <td>0.5</td>\n",
       "      <td>True</td>\n",
       "    </tr>\n",
       "    <tr>\n",
       "      <th>119</th>\n",
       "      <td>Was die allermeisten immer noch nicht begriffe...</td>\n",
       "      <td>1.0</td>\n",
       "      <td>True</td>\n",
       "    </tr>\n",
       "    <tr>\n",
       "      <th>124</th>\n",
       "      <td>Flüchtlinge zwangsweise in Privathaushalten ei...</td>\n",
       "      <td>0.5</td>\n",
       "      <td>True</td>\n",
       "    </tr>\n",
       "    <tr>\n",
       "      <th>126</th>\n",
       "      <td>Warum ist #deutschland nicht solidarisch mit d...</td>\n",
       "      <td>0.5</td>\n",
       "      <td>True</td>\n",
       "    </tr>\n",
       "    <tr>\n",
       "      <th>128</th>\n",
       "      <td>#Schwulenhilfe #Berlin richtet für Schwule #As...</td>\n",
       "      <td>1.0</td>\n",
       "      <td>True</td>\n",
       "    </tr>\n",
       "    <tr>\n",
       "      <th>129</th>\n",
       "      <td>Alles recht ominös mit dem Zugunglück. Wüsste ...</td>\n",
       "      <td>0.5</td>\n",
       "      <td>True</td>\n",
       "    </tr>\n",
       "    <tr>\n",
       "      <th>130</th>\n",
       "      <td>Dürfen in Stuttgart \"\"#Flüchtlinge\"\" und \"\"#Ra...</td>\n",
       "      <td>0.5</td>\n",
       "      <td>True</td>\n",
       "    </tr>\n",
       "    <tr>\n",
       "      <th>132</th>\n",
       "      <td>Flüchtlinsheime in denen nicht jeden Tag grati...</td>\n",
       "      <td>0.5</td>\n",
       "      <td>True</td>\n",
       "    </tr>\n",
       "    <tr>\n",
       "      <th>134</th>\n",
       "      <td>Ich bin für die #Schweinefleischpflicht !!! Hi...</td>\n",
       "      <td>0.5</td>\n",
       "      <td>True</td>\n",
       "    </tr>\n",
       "    <tr>\n",
       "      <th>135</th>\n",
       "      <td>#Europa ist groß, weil es nie islamisch war. U...</td>\n",
       "      <td>0.5</td>\n",
       "      <td>True</td>\n",
       "    </tr>\n",
       "    <tr>\n",
       "      <th>139</th>\n",
       "      <td>#Griechenland #Grenze #Mazedonien man muß dies...</td>\n",
       "      <td>0.5</td>\n",
       "      <td>True</td>\n",
       "    </tr>\n",
       "    <tr>\n",
       "      <th>147</th>\n",
       "      <td>Kostenloses, aber zu langsames Internet in Flü...</td>\n",
       "      <td>0.5</td>\n",
       "      <td>True</td>\n",
       "    </tr>\n",
       "  </tbody>\n",
       "</table>\n",
       "</div>"
      ],
      "text/plain": [
       "                                              raw_text  severity  binary_label\n",
       "0    #Rosenmontag ist abgesagt. #Rapefugees also wi...       0.5          True\n",
       "3    Den verfluchten #Rapefugees den Krieg erklären...       0.5          True\n",
       "4    War das Wochenende im Ruhrpott unterwegs. Über...       1.0          True\n",
       "9    Offenes, freies WLAN im #Sophienhof #Kiel. Mit...       0.5          True\n",
       "11   Regeln und Gesetze der Einheimischen sind ein ...       0.5          True\n",
       "12   #Blutrache, #Zwangsbekehrung, #Scharia, #Kinde...       0.5          True\n",
       "14   Claudia #Roth: Wer Sex-Attacken von Asylanten ...       0.5          True\n",
       "16   Die Unterbringung im Gefängnis nur weil man Ve...       0.5          True\n",
       "24   #illner. erst hieß es, es kämen nur top Arbeit...       1.0          True\n",
       "30   Pöbelnde #Asylanten zeigen Kopf-ab-Gesten und ...       0.5          True\n",
       "31   Geld aus der Portokasse von #Merkel, oder doch...       0.5          True\n",
       "34   Wenn sich der Hass in #Deutschland mal seinen ...       0.5          True\n",
       "38   #hartaberfair Andere #EU Länder sind Land und ...       0.5          True\n",
       "39   #besorgteGutmenschen regen sich auf :  #Khaled...       1.0          True\n",
       "41   Idee: #Hartzer VS #Asylanten im Einzelkampf . ...       0.5          True\n",
       "43             Utter zbale in this hashtag #rapefugees       0.5          True\n",
       "44   Gestern kamen die #Asylanten. Heute Nacht wurd...       0.5          True\n",
       "45   Erschreckend, daß es #Frauen sind, die 30 Jahr...       1.0          True\n",
       "46   #Deutschland übt #Karneval nach den Regeln der...       0.5          True\n",
       "52   #Arabisch als Schulsprache - #Islamisierung #D...       0.5          True\n",
       "55   lieber #Horst #Seehofer,der #Bayerische #Staat...       0.5          True\n",
       "59   #maischberger Fratscher:Geld für Migranten als...       1.0          True\n",
       "62   #Reker beugt sich #Islam und #Scharia, schafft...       0.5          True\n",
       "63   #maischberger Liefers: Wir achten Frauen.... F...       1.0          True\n",
       "65   Wir werden noch gemeinsam auf #PEGIDA stehen, ...       0.5          True\n",
       "67   Ich habe bis heute nicht verstanden, was an Du...       1.0          True\n",
       "76   DANKE #Clausnitz FÜR EUREN #WIDERSTAND ! IHR S...       1.0          True\n",
       "78   #Asylanten betteln jetzt auch in den Nachbardö...       0.5          True\n",
       "81   Könnten wir Schmarotzer und Kriminelle loswerd...       1.0          True\n",
       "89   Integrierte werden abgeschoben?Illegale TÄTER ...       0.5          True\n",
       "93   Die #Islamisierung des #Abendlandes ist die sc...       1.0          True\n",
       "97   Ich brauche einen Blog, glaube ich, 140 Zeiche...       1.0          True\n",
       "102  Seit beginn der #Asylflut sprunghafter Anstieg...       0.5          True\n",
       "105  #Kiel Wer jetzt immer noch die Blockparteien w...       0.5          True\n",
       "106  Deutsche Frauen an #rapefugees opfern. #wasist...       1.0          True\n",
       "112  Die heutige Tagesscheisse heist #Hoaxmap. Die ...       0.5          True\n",
       "115  Wenn sie gesagt hätte: \"\"#Domian´, ich hasse d...       0.5          True\n",
       "117  Gerüchten zufolge finden sich in den Netzen de...       0.5          True\n",
       "118  Ich würde gern mal eine #Sondersendung zur täg...       0.5          True\n",
       "119  Was die allermeisten immer noch nicht begriffe...       1.0          True\n",
       "124  Flüchtlinge zwangsweise in Privathaushalten ei...       0.5          True\n",
       "126  Warum ist #deutschland nicht solidarisch mit d...       0.5          True\n",
       "128  #Schwulenhilfe #Berlin richtet für Schwule #As...       1.0          True\n",
       "129  Alles recht ominös mit dem Zugunglück. Wüsste ...       0.5          True\n",
       "130  Dürfen in Stuttgart \"\"#Flüchtlinge\"\" und \"\"#Ra...       0.5          True\n",
       "132  Flüchtlinsheime in denen nicht jeden Tag grati...       0.5          True\n",
       "134  Ich bin für die #Schweinefleischpflicht !!! Hi...       0.5          True\n",
       "135  #Europa ist groß, weil es nie islamisch war. U...       0.5          True\n",
       "139  #Griechenland #Grenze #Mazedonien man muß dies...       0.5          True\n",
       "147  Kostenloses, aber zu langsames Internet in Flü...       0.5          True"
      ]
     },
     "execution_count": 73,
     "metadata": {},
     "output_type": "execute_result"
    }
   ],
   "source": [
    "df[df['binary_label'] == True].head(50)"
   ]
  },
  {
   "cell_type": "markdown",
   "metadata": {},
   "source": [
    "# cut off no hate samples in order to have a better balanced training set"
   ]
  },
  {
   "cell_type": "code",
   "execution_count": 74,
   "metadata": {},
   "outputs": [
    {
     "name": "stdout",
     "output_type": "stream",
     "text": [
      "hate: 19597 / no hate: 5477\n"
     ]
    }
   ],
   "source": [
    "hate_df = df[df['binary_label'] == True]\n",
    "no_hate_df = df[df['binary_label'] == False]\n",
    "print(\"hate: {} / no hate: {}\".format(len(hate_df), len(no_hate_df)))"
   ]
  },
  {
   "cell_type": "code",
   "execution_count": 76,
   "metadata": {},
   "outputs": [
    {
     "name": "stdout",
     "output_type": "stream",
     "text": [
      "raw_text        5477\n",
      "severity        5477\n",
      "binary_label    5477\n",
      "dtype: int64\n"
     ]
    },
    {
     "data": {
      "text/html": [
       "<div>\n",
       "<style scoped>\n",
       "    .dataframe tbody tr th:only-of-type {\n",
       "        vertical-align: middle;\n",
       "    }\n",
       "\n",
       "    .dataframe tbody tr th {\n",
       "        vertical-align: top;\n",
       "    }\n",
       "\n",
       "    .dataframe thead th {\n",
       "        text-align: right;\n",
       "    }\n",
       "</style>\n",
       "<table border=\"1\" class=\"dataframe\">\n",
       "  <thead>\n",
       "    <tr style=\"text-align: right;\">\n",
       "      <th></th>\n",
       "      <th>raw_text</th>\n",
       "      <th>severity</th>\n",
       "      <th>binary_label</th>\n",
       "    </tr>\n",
       "  </thead>\n",
       "  <tbody>\n",
       "    <tr>\n",
       "      <th>6460</th>\n",
       "      <td>Das ist das Zeichen\\r\\ntränke dich tief\\r\\nhtt...</td>\n",
       "      <td>1.0</td>\n",
       "      <td>True</td>\n",
       "    </tr>\n",
       "    <tr>\n",
       "      <th>11246</th>\n",
       "      <td>: \"In seiner Verzweiflung dachte E. sogar dar...</td>\n",
       "      <td>1.0</td>\n",
       "      <td>True</td>\n",
       "    </tr>\n",
       "    <tr>\n",
       "      <th>9418</th>\n",
       "      <td>: \"Joana Cotar: ein flammendes Plädoyer gegen...</td>\n",
       "      <td>1.0</td>\n",
       "      <td>True</td>\n",
       "    </tr>\n",
       "    <tr>\n",
       "      <th>15069</th>\n",
       "      <td>: #München: Sozialarbeiter dürfen nicht mehr ...</td>\n",
       "      <td>1.0</td>\n",
       "      <td>True</td>\n",
       "    </tr>\n",
       "    <tr>\n",
       "      <th>13034</th>\n",
       "      <td>Die  vergisst mal wieder Ross und Reiter zu ne...</td>\n",
       "      <td>1.0</td>\n",
       "      <td>True</td>\n",
       "    </tr>\n",
       "  </tbody>\n",
       "</table>\n",
       "</div>"
      ],
      "text/plain": [
       "                                                raw_text  severity  \\\n",
       "6460   Das ist das Zeichen\\r\\ntränke dich tief\\r\\nhtt...       1.0   \n",
       "11246   : \"In seiner Verzweiflung dachte E. sogar dar...       1.0   \n",
       "9418    : \"Joana Cotar: ein flammendes Plädoyer gegen...       1.0   \n",
       "15069   : #München: Sozialarbeiter dürfen nicht mehr ...       1.0   \n",
       "13034  Die  vergisst mal wieder Ross und Reiter zu ne...       1.0   \n",
       "\n",
       "       binary_label  \n",
       "6460           True  \n",
       "11246          True  \n",
       "9418           True  \n",
       "15069          True  \n",
       "13034          True  "
      ]
     },
     "execution_count": 76,
     "metadata": {},
     "output_type": "execute_result"
    }
   ],
   "source": [
    "import numpy as np\n",
    "chosen_idx = np.random.choice(len(hate_df), size=len(no_hate_df))\n",
    "hate_df = hate_df.iloc[chosen_idx]\n",
    "print(hate_df.count())\n",
    "hate_df.head()"
   ]
  },
  {
   "cell_type": "code",
   "execution_count": 77,
   "metadata": {},
   "outputs": [
    {
     "name": "stdout",
     "output_type": "stream",
     "text": [
      "raw_text        10954\n",
      "severity        10954\n",
      "binary_label    10954\n",
      "dtype: int64\n"
     ]
    },
    {
     "data": {
      "text/html": [
       "<div>\n",
       "<style scoped>\n",
       "    .dataframe tbody tr th:only-of-type {\n",
       "        vertical-align: middle;\n",
       "    }\n",
       "\n",
       "    .dataframe tbody tr th {\n",
       "        vertical-align: top;\n",
       "    }\n",
       "\n",
       "    .dataframe thead th {\n",
       "        text-align: right;\n",
       "    }\n",
       "</style>\n",
       "<table border=\"1\" class=\"dataframe\">\n",
       "  <thead>\n",
       "    <tr style=\"text-align: right;\">\n",
       "      <th></th>\n",
       "      <th>raw_text</th>\n",
       "      <th>severity</th>\n",
       "      <th>binary_label</th>\n",
       "    </tr>\n",
       "  </thead>\n",
       "  <tbody>\n",
       "    <tr>\n",
       "      <th>1</th>\n",
       "      <td>bitte nicht die #Türkei zum #EU-Mitglied mache...</td>\n",
       "      <td>0.0</td>\n",
       "      <td>False</td>\n",
       "    </tr>\n",
       "    <tr>\n",
       "      <th>2</th>\n",
       "      <td>Wieso bekommen #rapefugees mehr als unsere Har...</td>\n",
       "      <td>0.0</td>\n",
       "      <td>False</td>\n",
       "    </tr>\n",
       "    <tr>\n",
       "      <th>5</th>\n",
       "      <td>#Asylanteninvasion Wenn es auf unseren Straßen...</td>\n",
       "      <td>0.0</td>\n",
       "      <td>False</td>\n",
       "    </tr>\n",
       "    <tr>\n",
       "      <th>6</th>\n",
       "      <td>745 Millionen Menschen leben in #Europa. Ca. 4...</td>\n",
       "      <td>0.0</td>\n",
       "      <td>False</td>\n",
       "    </tr>\n",
       "    <tr>\n",
       "      <th>7</th>\n",
       "      <td>Tja die #SPD will unsere Steuergelder für Flüc...</td>\n",
       "      <td>0.0</td>\n",
       "      <td>False</td>\n",
       "    </tr>\n",
       "  </tbody>\n",
       "</table>\n",
       "</div>"
      ],
      "text/plain": [
       "                                            raw_text  severity  binary_label\n",
       "1  bitte nicht die #Türkei zum #EU-Mitglied mache...       0.0         False\n",
       "2  Wieso bekommen #rapefugees mehr als unsere Har...       0.0         False\n",
       "5  #Asylanteninvasion Wenn es auf unseren Straßen...       0.0         False\n",
       "6  745 Millionen Menschen leben in #Europa. Ca. 4...       0.0         False\n",
       "7  Tja die #SPD will unsere Steuergelder für Flüc...       0.0         False"
      ]
     },
     "execution_count": 77,
     "metadata": {},
     "output_type": "execute_result"
    }
   ],
   "source": [
    "df = no_hate_df.append(hate_df)\n",
    "print(df.count())\n",
    "df.head()"
   ]
  },
  {
   "cell_type": "markdown",
   "metadata": {},
   "source": [
    "# Export Training Set"
   ]
  },
  {
   "cell_type": "code",
   "execution_count": 78,
   "metadata": {},
   "outputs": [
    {
     "name": "stderr",
     "output_type": "stream",
     "text": [
      "C:\\Users\\pascal\\Anaconda3\\lib\\site-packages\\xlsxwriter\\worksheet.py:912: UserWarning: Ignoring URL 'https://www.youtube.com/watch?v=29t0j9E9Wsw%20\n",
      "%20Jeder%20kann%20erahnen,%20was%20das%20in%20Kürze%20werden%20wird!\n",
      "%20Und%20wir%20haben%20tausend%20mit%20%22dicken%20Eiern%22%20hier.%20Es%20wird%20hoch%20an%20der%20Zeit,%20daß%20die%20%22Refutschies%20Wellkam%22-Genderweiber%20nicht%20nur%20Matratzen%20und%20Feldbetten%20spenden,%20sondern%20sich%20gleich%20drauflegen...' with link or location/anchor > 255 characters since it exceeds Excel's limit for URLS\n",
      "  force_unicode(url))\n",
      "C:\\Users\\pascal\\Anaconda3\\lib\\site-packages\\xlsxwriter\\worksheet.py:912: UserWarning: Ignoring URL 'http://nibelungen-kurier.de/gruenes-urgestein-unterstuetzt-afd-wahlkampf/Sauerborn%20II:%20Grünes%20Urgestein%20unterstützt%20AfD-Wahlkampf\n",
      "Sauerborn%20verlässt%20nach%2036%20Jahren%20die%20Grünen%20/%20Als%20Gründe%20nennt%20er%20„Kritik%20nicht%20nur%20an%20der%20Flüchtlingspolitik,%20die%20Grüne%20moralische%20Überheblichkeit%20und%20unerträgliche%20Intoleranz“' with link or location/anchor > 255 characters since it exceeds Excel's limit for URLS\n",
      "  force_unicode(url))\n",
      "C:\\Users\\pascal\\Anaconda3\\lib\\site-packages\\xlsxwriter\\worksheet.py:912: UserWarning: Ignoring URL 'https://youtu.be/Xyu-3I3mweI%20%20%20Es%20gibt%20keine%20Gerechtigkeit,%20bis%20die%20muslimische%20Terroristen%20zerstört%20die%20Gräber%20der%20Christen%20und%20Kreuze%20und%20ging%20nach%20Europa%20Asyl%20suchen,%20um%20sie%20in%20der%20Zukunft%20zu%20zerstören' with link or location/anchor > 255 characters since it exceeds Excel's limit for URLS\n",
      "  force_unicode(url))\n",
      "C:\\Users\\pascal\\Anaconda3\\lib\\site-packages\\xlsxwriter\\worksheet.py:912: UserWarning: Ignoring URL 'http://www.focus.de/politik/deutschland/um-gefaehrliche-reisen-zu-stoppen-merkel-will-fluechtlinge-direkt-nach-europa-bringen-lassen_id_5035188.html%20%20%20%22Um%20gefährliche%20Reisen%20zu%20stoppen%20Merkel%20will%20Flüchtlinge%20direkt%20nach%20Europa%20bringen%20lassen!%22%20Sagt%20mal%20Leute%20das%20ist%20doch%20nicht%20mehr%20normal%20?!%20Wie%20viele%20Flucht%20Impulse%20will%20Frau%20Merkel%20denn%20noch%20an%20die%20Massen%20senden%20?%20Schön,%20jetzt%20müssen%20sie%20nicht%20mal%20mehr%20die%20Strapazen%20auf%20sich%20nehmen%20sondern%20werden%20direkt%20abgeholt??!!' with link or location/anchor > 255 characters since it exceeds Excel's limit for URLS\n",
      "  force_unicode(url))\n",
      "C:\\Users\\pascal\\Anaconda3\\lib\\site-packages\\xlsxwriter\\worksheet.py:912: UserWarning: Ignoring URL 'http://www.focus.de/politik/deutschland/um-gefaehrliche-reisen-zu-stoppen-merkel-will-fluechtlinge-direkt-nach-europa-bringen-lassen_id_5035188.html?utm_source=facebook&utm_medium=social&utm_campaign=facebook-focus-online-politik&fbc=facebook-focus-online-politik&ts=201510231331%20Wir%20aber%20anscheinend%20noch%20lange%20nicht%20;)%20Gut,%20ich%20würde%20sagen%20das%20war%20es%20dann%20endgültig.%20Wer%20dachte%20es%20könnte%20nicht%20mehr%20schlimmer%20werden...............\n",
      ";)\n",
      "Die%20Diktatur%20in%20Berlin%20hat%20jetzt%20auch%20noch%20den%20Rest%20ihres%20Verstandes%20verloren%20und%20will%20die%20Vernichtung%20Deutschlands%20jetzt%20im%20schnellverfahren%20vorantreiben%20!!!' with link or location/anchor > 255 characters since it exceeds Excel's limit for URLS\n",
      "  force_unicode(url))\n",
      "C:\\Users\\pascal\\Anaconda3\\lib\\site-packages\\xlsxwriter\\worksheet.py:912: UserWarning: Ignoring URL 'https://m.facebook.com/story.php?story_fbid=768075896621270&id=569638976464964&refid=17&ref=bookmarks&_ft_=top_level_post_id.981567615215660%3Atl_objid.981567615215660%3Athid.100000872917701%3A306061129499414%3A2%3A0%3A1446361199%3A497489501687437190&__tn__=%2As' with link or location/anchor > 255 characters since it exceeds Excel's limit for URLS\n",
      "  force_unicode(url))\n",
      "C:\\Users\\pascal\\Anaconda3\\lib\\site-packages\\xlsxwriter\\worksheet.py:912: UserWarning: Ignoring URL 'http://www.t-online.de/unterhaltung/tv/id_75858546/integrationskanal-ard-und-zdf-planen-tv-angebot-fuer-fluechtlinge.html%20%20%20%20%20%20Nicht%20nur%20dass%20unsere%20Medien%20zensiert%20werden,%20jetzt%20gibt%20es%20auf%20ARD%20und%20ZDF%20auch%20ein%20spezielles%20Fernsehprogramm%20für%20die%20Flüchtlinge%20auf%20arabisch.%20Warum%20also%20noch%20deutsch%20lernen...%20.' with link or location/anchor > 255 characters since it exceeds Excel's limit for URLS\n",
      "  force_unicode(url))\n",
      "C:\\Users\\pascal\\Anaconda3\\lib\\site-packages\\xlsxwriter\\worksheet.py:912: UserWarning: Ignoring URL 'https://www.change.org/p/wir-fordern-den-r%C3%BCcktritt-der-bundeskanzlerin-dr-a-merkel-und-sofortige-neuwahl-der-bundesregierung-resignation-of-the-german-chancellor-dr-a-merkel-and-immediate-reelection-of-the-german-government?recruiter=408611939&utm_source=share_petition&utm_medium=copylink                                                                                                                                                                                                                                                                                                                                                                                  Wer hier noch nicht unterschrieben hat, möge das bitte schnell nachholen.' with link or location/anchor > 255 characters since it exceeds Excel's limit for URLS\n",
      "  force_unicode(url))\n",
      "C:\\Users\\pascal\\Anaconda3\\lib\\site-packages\\xlsxwriter\\worksheet.py:912: UserWarning: Ignoring URL 'http://youtu.be/z2nfyKAhvzQ%20.%20Mit%20den%20Mörderfahnen%20der%20ISIS%20demonstrierten%20in%20Hannover%20am%2023.10.15%20Tausende%20radikaler%20Muslime%20mit%20ihren%20verschleierten%20Frauen%20gegen%20%22%20Islamophobie%22,%20gegen%20die%20%22%20Abschiebung%20von%20Flüchtlingen%22%20und%20für%20die%22%20Weltherrschaft%20des%20Islam%22.%20Unterstützt%20wurden%20sie%20von%20Rote%20Fahne-%20Trägern%20aus%20der%20linksradikalen%20Ecke.%20Interessant%20ist,%20daß%20die%20Polizei%20NICHT%20gegen%20das%20Tragen%20der%20IS-%20Fahnen%20einschritt%20und%20die%20regierungstreuen%20Medien%20die%20ganze%20empörende%20Angelegenheit%20totschwiegen.' with link or location/anchor > 255 characters since it exceeds Excel's limit for URLS\n",
      "  force_unicode(url))\n",
      "C:\\Users\\pascal\\Anaconda3\\lib\\site-packages\\xlsxwriter\\worksheet.py:912: UserWarning: Ignoring URL 'https://mopo24.de/' with link or location/anchor > 255 characters since it exceeds Excel's limit for URLS\n",
      "  force_unicode(url))\n",
      "C:\\Users\\pascal\\Anaconda3\\lib\\site-packages\\xlsxwriter\\worksheet.py:912: UserWarning: Ignoring URL 'https://www.deutscher-engagementpreis.de/publikumspreis/\n",
      "Hier%20gibts%20einen%20Puplikumspreis%20zu%20vergeben!%20Meiner%20der%20Chemnitzer%20Verein%20für%20blinde!%20Schaut%20bitte%20mal%20rein%20und%20staunt%20wer%20alles%20abkassieren%20will.%20Vielleicht%20habt%20ihr%20auch%20Lust%20abzustimmen%20und%20zu%20teilen.' with link or location/anchor > 255 characters since it exceeds Excel's limit for URLS\n",
      "  force_unicode(url))\n",
      "C:\\Users\\pascal\\Anaconda3\\lib\\site-packages\\xlsxwriter\\worksheet.py:912: UserWarning: Ignoring URL 'http://\n",
      "Die%20islamische%20Welt%20brodelt%20wegen%20Jerusalem%20–%20Proteste%20gegen%20Trump%20und%20Israel.%20Da%20steht%20auf%20dem%20%22Schild%20echt%20stop%20Israel%20Terrorism%22.%20Wie%20sie%20sich%20immer%20als%20Opfer%20sehen,%20diese%20armen%20Moslems.' with link or location/anchor > 255 characters since it exceeds Excel's limit for URLS\n",
      "  force_unicode(url))\n",
      "C:\\Users\\pascal\\Anaconda3\\lib\\site-packages\\xlsxwriter\\worksheet.py:912: UserWarning: Ignoring URL 'http://\n",
      "Es%20lebe%20die%20Psychose:%20Türkischer%20Messerstecher%20freigesprochen.%20Jetzt%20wird%20er%20sein%20Leben%20lang%20in%20einer%20Klinik%20mit%20Essen%20und%20Medikamenten%20versorgt.%20Irgendwann%20werden%20nur%20die%20Klinikplätze%20knapp,%20bei%20all%20den%20psychisch%20Kranken%20die%20hier%20herkommen.' with link or location/anchor > 255 characters since it exceeds Excel's limit for URLS\n",
      "  force_unicode(url))\n",
      "C:\\Users\\pascal\\Anaconda3\\lib\\site-packages\\xlsxwriter\\worksheet.py:912: UserWarning: Ignoring URL 'http://\n",
      "\n",
      "Unglaublich%20unwichtig!\n",
      "Jetzt%20beleuchtet%20man%20hier%20das%20Privatleben%20einer%20fast%20unbek.%20AfD-Politikerin?Gäbe%20es%20da%20nicht%20wichtigere%20Politiker/innen,die%20man%20mal%20näher%20untersuchen%20könnte?%20Vor%20allem%20ihre%20Vergangenheit%20in%20der%20ehemaligen%20DDR!%20' with link or location/anchor > 255 characters since it exceeds Excel's limit for URLS\n",
      "  force_unicode(url))\n",
      "C:\\Users\\pascal\\Anaconda3\\lib\\site-packages\\xlsxwriter\\worksheet.py:912: UserWarning: Ignoring URL 'http://\n",
      "Nach%20Ansicht%20der%20Bundesanwaltschaft%20soll%20es%20bereits%20eine%20terroristische%20Straftat%20sein,%20wenn%20jemand%20zum%20%22Staatsvolk%22%20des%20IS%20gehört%20hat.%20Frauen,%20die%20sich%20dem%20IS%20angeschlossen%20haben,%20gehören%20einer%20ausländischen%20terroristischen%20Organisation%20an.' with link or location/anchor > 255 characters since it exceeds Excel's limit for URLS\n",
      "  force_unicode(url))\n",
      "C:\\Users\\pascal\\Anaconda3\\lib\\site-packages\\xlsxwriter\\worksheet.py:912: UserWarning: Ignoring URL 'http://\n",
      "GB:%20Verteidigungsminister%20will%20britische%20Dschihadisten%20töten%20lassen.%20Auch%20ohne%20die%20Bedrohung%20durch%20den%20IS%20wäre%20England%20geradezu%20eine%20Brutstätte%20für%20den%20Dschihad.%20Der%20„point%20of%20no%20return“%20scheint%20schon%20längst%20überschritten.' with link or location/anchor > 255 characters since it exceeds Excel's limit for URLS\n",
      "  force_unicode(url))\n",
      "C:\\Users\\pascal\\Anaconda3\\lib\\site-packages\\xlsxwriter\\worksheet.py:912: UserWarning: Ignoring URL 'http://\n",
      "Die%20Politiker,%20%22die%20immer%20weitere%20Ausländer%20aus%20der%20antisemitischsten%20Weltregion%20unerlaubt%20einreisen%20lassen%22%20verkünden,%20sie%20würden%20%22alles%20gegen%20Antisemetismus%20tun%22,...%20Schon%20irgendwie%20komisch%20oder?%20%20🤔' with link or location/anchor > 255 characters since it exceeds Excel's limit for URLS\n",
      "  force_unicode(url))\n",
      "C:\\Users\\pascal\\Anaconda3\\lib\\site-packages\\xlsxwriter\\worksheet.py:912: UserWarning: Ignoring URL 'http://\n",
      "%22Keine%20Möglichkeit,%20euch%20bei%20uns%20aufzuhalten%22:%20Merkel-Klartext%20zu%20kriminellen%20Flüchtlingen.%20Die%20Frau%20leidet%20doch%20an%20einer%20geistigen%20Störung.%20Sie%20holt%20kriminelle%20ins%20Land,%20bekommt%20sie%20nicht%20mehr%20raus%20und%20bringt%20dann%20so%20einen%20Spruch.' with link or location/anchor > 255 characters since it exceeds Excel's limit for URLS\n",
      "  force_unicode(url))\n"
     ]
    }
   ],
   "source": [
    "df.to_csv('export/combined_iwg_fb-tw_polly.csv', index=False)\n",
    "df.to_excel('export/combined_iwg_fb-tw_polly.xlsx', index=False)"
   ]
  },
  {
   "cell_type": "code",
   "execution_count": null,
   "metadata": {},
   "outputs": [],
   "source": []
  }
 ],
 "metadata": {
  "kernelspec": {
   "display_name": "Python 3",
   "language": "python",
   "name": "python3"
  },
  "language_info": {
   "codemirror_mode": {
    "name": "ipython",
    "version": 3
   },
   "file_extension": ".py",
   "mimetype": "text/x-python",
   "name": "python",
   "nbconvert_exporter": "python",
   "pygments_lexer": "ipython3",
   "version": "3.7.1"
  }
 },
 "nbformat": 4,
 "nbformat_minor": 2
}
