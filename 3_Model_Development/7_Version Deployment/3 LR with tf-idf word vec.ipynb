{
 "cells": [
  {
   "cell_type": "code",
   "execution_count": 29,
   "metadata": {},
   "outputs": [],
   "source": [
    "import pandas as pd"
   ]
  },
  {
   "cell_type": "markdown",
   "metadata": {},
   "source": [
    "# read in"
   ]
  },
  {
   "cell_type": "code",
   "execution_count": 30,
   "metadata": {},
   "outputs": [
    {
     "data": {
      "text/html": [
       "<div>\n",
       "<style scoped>\n",
       "    .dataframe tbody tr th:only-of-type {\n",
       "        vertical-align: middle;\n",
       "    }\n",
       "\n",
       "    .dataframe tbody tr th {\n",
       "        vertical-align: top;\n",
       "    }\n",
       "\n",
       "    .dataframe thead th {\n",
       "        text-align: right;\n",
       "    }\n",
       "</style>\n",
       "<table border=\"1\" class=\"dataframe\">\n",
       "  <thead>\n",
       "    <tr style=\"text-align: right;\">\n",
       "      <th></th>\n",
       "      <th>raw_text</th>\n",
       "      <th>severity</th>\n",
       "      <th>binary_label</th>\n",
       "    </tr>\n",
       "  </thead>\n",
       "  <tbody>\n",
       "    <tr>\n",
       "      <th>0</th>\n",
       "      <td>ist ekelhaft  bei ihren Klos kannst du nur mit...</td>\n",
       "      <td>0.0</td>\n",
       "      <td>False</td>\n",
       "    </tr>\n",
       "    <tr>\n",
       "      <th>1</th>\n",
       "      <td>Bevor Sie mit Jud...</td>\n",
       "      <td>1.0</td>\n",
       "      <td>True</td>\n",
       "    </tr>\n",
       "    <tr>\n",
       "      <th>2</th>\n",
       "      <td>Und de Amis freut es wenn die Heuschrecken Eur...</td>\n",
       "      <td>0.0</td>\n",
       "      <td>False</td>\n",
       "    </tr>\n",
       "    <tr>\n",
       "      <th>3</th>\n",
       "      <td>:    Die Krim ist ein heißer Tip, auch zum In...</td>\n",
       "      <td>1.0</td>\n",
       "      <td>True</td>\n",
       "    </tr>\n",
       "    <tr>\n",
       "      <th>4</th>\n",
       "      <td>: Es muss in #Deutschland eine politische Kra...</td>\n",
       "      <td>1.0</td>\n",
       "      <td>True</td>\n",
       "    </tr>\n",
       "  </tbody>\n",
       "</table>\n",
       "</div>"
      ],
      "text/plain": [
       "                                            raw_text  severity  binary_label\n",
       "0  ist ekelhaft  bei ihren Klos kannst du nur mit...       0.0         False\n",
       "1                               Bevor Sie mit Jud...       1.0          True\n",
       "2  Und de Amis freut es wenn die Heuschrecken Eur...       0.0         False\n",
       "3   :    Die Krim ist ein heißer Tip, auch zum In...       1.0          True\n",
       "4   : Es muss in #Deutschland eine politische Kra...       1.0          True"
      ]
     },
     "execution_count": 30,
     "metadata": {},
     "output_type": "execute_result"
    }
   ],
   "source": [
    "df = pd.read_csv('../../2_Feature_Engineering/export/combined_polly_bretschneider_iwg.csv')\n",
    "df.head()"
   ]
  },
  {
   "cell_type": "markdown",
   "metadata": {},
   "source": [
    "# clean"
   ]
  },
  {
   "cell_type": "code",
   "execution_count": 31,
   "metadata": {},
   "outputs": [],
   "source": [
    "import sys\n",
    "sys.path.insert(0, r'..\\..\\0_common')\n",
    "from model_helpers import clean_all as ci"
   ]
  },
  {
   "cell_type": "code",
   "execution_count": 32,
   "metadata": {},
   "outputs": [
    {
     "data": {
      "text/html": [
       "<div>\n",
       "<style scoped>\n",
       "    .dataframe tbody tr th:only-of-type {\n",
       "        vertical-align: middle;\n",
       "    }\n",
       "\n",
       "    .dataframe tbody tr th {\n",
       "        vertical-align: top;\n",
       "    }\n",
       "\n",
       "    .dataframe thead th {\n",
       "        text-align: right;\n",
       "    }\n",
       "</style>\n",
       "<table border=\"1\" class=\"dataframe\">\n",
       "  <thead>\n",
       "    <tr style=\"text-align: right;\">\n",
       "      <th></th>\n",
       "      <th>raw_text</th>\n",
       "      <th>severity</th>\n",
       "      <th>binary_label</th>\n",
       "      <th>cleaned_text</th>\n",
       "    </tr>\n",
       "  </thead>\n",
       "  <tbody>\n",
       "    <tr>\n",
       "      <th>0</th>\n",
       "      <td>ist ekelhaft  bei ihren Klos kannst du nur mit...</td>\n",
       "      <td>0.0</td>\n",
       "      <td>False</td>\n",
       "      <td>ekelhaft klos kannst gummistiefel gehen stinkt...</td>\n",
       "    </tr>\n",
       "    <tr>\n",
       "      <th>1</th>\n",
       "      <td>Bevor Sie mit Jud...</td>\n",
       "      <td>1.0</td>\n",
       "      <td>True</td>\n",
       "      <td>bevor judenstern markiert worden juden ganze ...</td>\n",
       "    </tr>\n",
       "    <tr>\n",
       "      <th>2</th>\n",
       "      <td>Und de Amis freut es wenn die Heuschrecken Eur...</td>\n",
       "      <td>0.0</td>\n",
       "      <td>False</td>\n",
       "      <td>de amis freut heuschrecken europa klein wirtsc...</td>\n",
       "    </tr>\n",
       "    <tr>\n",
       "      <th>3</th>\n",
       "      <td>:    Die Krim ist ein heißer Tip, auch zum In...</td>\n",
       "      <td>1.0</td>\n",
       "      <td>True</td>\n",
       "      <td>krim heißer tip investieren muß bürger landes...</td>\n",
       "    </tr>\n",
       "    <tr>\n",
       "      <th>4</th>\n",
       "      <td>: Es muss in #Deutschland eine politische Kra...</td>\n",
       "      <td>1.0</td>\n",
       "      <td>True</td>\n",
       "      <td>deutschland politische kraft geben sozial sch...</td>\n",
       "    </tr>\n",
       "  </tbody>\n",
       "</table>\n",
       "</div>"
      ],
      "text/plain": [
       "                                            raw_text  severity  binary_label  \\\n",
       "0  ist ekelhaft  bei ihren Klos kannst du nur mit...       0.0         False   \n",
       "1                               Bevor Sie mit Jud...       1.0          True   \n",
       "2  Und de Amis freut es wenn die Heuschrecken Eur...       0.0         False   \n",
       "3   :    Die Krim ist ein heißer Tip, auch zum In...       1.0          True   \n",
       "4   : Es muss in #Deutschland eine politische Kra...       1.0          True   \n",
       "\n",
       "                                        cleaned_text  \n",
       "0  ekelhaft klos kannst gummistiefel gehen stinkt...  \n",
       "1   bevor judenstern markiert worden juden ganze ...  \n",
       "2  de amis freut heuschrecken europa klein wirtsc...  \n",
       "3   krim heißer tip investieren muß bürger landes...  \n",
       "4   deutschland politische kraft geben sozial sch...  "
      ]
     },
     "execution_count": 32,
     "metadata": {},
     "output_type": "execute_result"
    }
   ],
   "source": [
    "df['cleaned_text'] = df['raw_text'].apply(ci)\n",
    "df.head()"
   ]
  },
  {
   "cell_type": "code",
   "execution_count": 33,
   "metadata": {},
   "outputs": [
    {
     "data": {
      "text/plain": [
       "(9169, 4)"
      ]
     },
     "execution_count": 33,
     "metadata": {},
     "output_type": "execute_result"
    }
   ],
   "source": [
    "df.shape"
   ]
  },
  {
   "cell_type": "markdown",
   "metadata": {},
   "source": [
    "# vectorize"
   ]
  },
  {
   "cell_type": "code",
   "execution_count": 34,
   "metadata": {},
   "outputs": [],
   "source": [
    "from sklearn.feature_extraction.text import TfidfVectorizer"
   ]
  },
  {
   "cell_type": "code",
   "execution_count": 35,
   "metadata": {},
   "outputs": [],
   "source": [
    "vec = TfidfVectorizer(ngram_range=(1,3), analyzer='word', max_features=100000)"
   ]
  },
  {
   "cell_type": "code",
   "execution_count": 36,
   "metadata": {},
   "outputs": [],
   "source": [
    "X_features = vec.fit_transform(df['cleaned_text'])"
   ]
  },
  {
   "cell_type": "code",
   "execution_count": 37,
   "metadata": {},
   "outputs": [
    {
     "data": {
      "text/plain": [
       "(9169, 100000)"
      ]
     },
     "execution_count": 37,
     "metadata": {},
     "output_type": "execute_result"
    }
   ],
   "source": [
    "X_features.shape"
   ]
  },
  {
   "cell_type": "markdown",
   "metadata": {},
   "source": [
    "# initialize model"
   ]
  },
  {
   "cell_type": "code",
   "execution_count": 38,
   "metadata": {},
   "outputs": [],
   "source": [
    "from sklearn.linear_model import LogisticRegression\n",
    "clf = LogisticRegression(solver='liblinear', penalty='l2', C=0.23357214690901212) # params from earlier grid search"
   ]
  },
  {
   "cell_type": "markdown",
   "metadata": {},
   "source": [
    "# Cross validation"
   ]
  },
  {
   "cell_type": "code",
   "execution_count": 39,
   "metadata": {},
   "outputs": [],
   "source": [
    "from sklearn.model_selection import cross_validate\n",
    "scores = cross_validate(clf, X_features, df['binary_label'], cv=5,\n",
    "                        scoring=('f1', 'roc_auc', 'precision', 'recall'),\n",
    "                        return_train_score=True)"
   ]
  },
  {
   "cell_type": "code",
   "execution_count": 40,
   "metadata": {},
   "outputs": [
    {
     "data": {
      "text/plain": [
       "['fit_time',\n",
       " 'score_time',\n",
       " 'test_f1',\n",
       " 'test_precision',\n",
       " 'test_recall',\n",
       " 'test_roc_auc',\n",
       " 'train_f1',\n",
       " 'train_precision',\n",
       " 'train_recall',\n",
       " 'train_roc_auc']"
      ]
     },
     "execution_count": 40,
     "metadata": {},
     "output_type": "execute_result"
    }
   ],
   "source": [
    "sorted(scores.keys())"
   ]
  },
  {
   "cell_type": "code",
   "execution_count": 41,
   "metadata": {},
   "outputs": [
    {
     "data": {
      "text/html": [
       "<div>\n",
       "<style scoped>\n",
       "    .dataframe tbody tr th:only-of-type {\n",
       "        vertical-align: middle;\n",
       "    }\n",
       "\n",
       "    .dataframe tbody tr th {\n",
       "        vertical-align: top;\n",
       "    }\n",
       "\n",
       "    .dataframe thead th {\n",
       "        text-align: right;\n",
       "    }\n",
       "</style>\n",
       "<table border=\"1\" class=\"dataframe\">\n",
       "  <thead>\n",
       "    <tr style=\"text-align: right;\">\n",
       "      <th></th>\n",
       "      <th>fit_time</th>\n",
       "      <th>score_time</th>\n",
       "      <th>test_f1</th>\n",
       "      <th>train_f1</th>\n",
       "      <th>test_roc_auc</th>\n",
       "      <th>train_roc_auc</th>\n",
       "      <th>test_precision</th>\n",
       "      <th>train_precision</th>\n",
       "      <th>test_recall</th>\n",
       "      <th>train_recall</th>\n",
       "    </tr>\n",
       "  </thead>\n",
       "  <tbody>\n",
       "    <tr>\n",
       "      <th>0</th>\n",
       "      <td>0.030918</td>\n",
       "      <td>0.004987</td>\n",
       "      <td>0.776139</td>\n",
       "      <td>0.907467</td>\n",
       "      <td>0.925068</td>\n",
       "      <td>0.985410</td>\n",
       "      <td>0.921975</td>\n",
       "      <td>0.969408</td>\n",
       "      <td>0.670139</td>\n",
       "      <td>0.852967</td>\n",
       "    </tr>\n",
       "    <tr>\n",
       "      <th>1</th>\n",
       "      <td>0.031914</td>\n",
       "      <td>0.003989</td>\n",
       "      <td>0.769648</td>\n",
       "      <td>0.907860</td>\n",
       "      <td>0.926829</td>\n",
       "      <td>0.985864</td>\n",
       "      <td>0.928105</td>\n",
       "      <td>0.968812</td>\n",
       "      <td>0.657407</td>\n",
       "      <td>0.854124</td>\n",
       "    </tr>\n",
       "    <tr>\n",
       "      <th>2</th>\n",
       "      <td>0.028923</td>\n",
       "      <td>0.003989</td>\n",
       "      <td>0.736915</td>\n",
       "      <td>0.907775</td>\n",
       "      <td>0.918888</td>\n",
       "      <td>0.985460</td>\n",
       "      <td>0.909864</td>\n",
       "      <td>0.969737</td>\n",
       "      <td>0.619213</td>\n",
       "      <td>0.853256</td>\n",
       "    </tr>\n",
       "    <tr>\n",
       "      <th>3</th>\n",
       "      <td>0.032909</td>\n",
       "      <td>0.003989</td>\n",
       "      <td>0.754301</td>\n",
       "      <td>0.907270</td>\n",
       "      <td>0.930309</td>\n",
       "      <td>0.984929</td>\n",
       "      <td>0.930390</td>\n",
       "      <td>0.969707</td>\n",
       "      <td>0.634259</td>\n",
       "      <td>0.852388</td>\n",
       "    </tr>\n",
       "    <tr>\n",
       "      <th>4</th>\n",
       "      <td>0.033909</td>\n",
       "      <td>0.003989</td>\n",
       "      <td>0.768617</td>\n",
       "      <td>0.905695</td>\n",
       "      <td>0.929423</td>\n",
       "      <td>0.985301</td>\n",
       "      <td>0.901716</td>\n",
       "      <td>0.970559</td>\n",
       "      <td>0.669757</td>\n",
       "      <td>0.848958</td>\n",
       "    </tr>\n",
       "  </tbody>\n",
       "</table>\n",
       "</div>"
      ],
      "text/plain": [
       "   fit_time  score_time   test_f1  train_f1  test_roc_auc  train_roc_auc  \\\n",
       "0  0.030918    0.004987  0.776139  0.907467      0.925068       0.985410   \n",
       "1  0.031914    0.003989  0.769648  0.907860      0.926829       0.985864   \n",
       "2  0.028923    0.003989  0.736915  0.907775      0.918888       0.985460   \n",
       "3  0.032909    0.003989  0.754301  0.907270      0.930309       0.984929   \n",
       "4  0.033909    0.003989  0.768617  0.905695      0.929423       0.985301   \n",
       "\n",
       "   test_precision  train_precision  test_recall  train_recall  \n",
       "0        0.921975         0.969408     0.670139      0.852967  \n",
       "1        0.928105         0.968812     0.657407      0.854124  \n",
       "2        0.909864         0.969737     0.619213      0.853256  \n",
       "3        0.930390         0.969707     0.634259      0.852388  \n",
       "4        0.901716         0.970559     0.669757      0.848958  "
      ]
     },
     "execution_count": 41,
     "metadata": {},
     "output_type": "execute_result"
    }
   ],
   "source": [
    "scores_df = pd.DataFrame(scores)\n",
    "scores_df"
   ]
  },
  {
   "cell_type": "code",
   "execution_count": 42,
   "metadata": {},
   "outputs": [
    {
     "data": {
      "text/plain": [
       "test_f1           0.761124\n",
       "test_roc_auc      0.926103\n",
       "test_precision    0.918410\n",
       "test_recall       0.650155\n",
       "dtype: float64"
      ]
     },
     "execution_count": 42,
     "metadata": {},
     "output_type": "execute_result"
    }
   ],
   "source": [
    "# metrics\n",
    "scores_df[['test_f1', 'test_roc_auc', 'test_precision', 'test_recall']].mean()"
   ]
  },
  {
   "cell_type": "code",
   "execution_count": null,
   "metadata": {},
   "outputs": [],
   "source": []
  }
 ],
 "metadata": {
  "kernelspec": {
   "display_name": "Python 3",
   "language": "python",
   "name": "python3"
  },
  "language_info": {
   "codemirror_mode": {
    "name": "ipython",
    "version": 3
   },
   "file_extension": ".py",
   "mimetype": "text/x-python",
   "name": "python",
   "nbconvert_exporter": "python",
   "pygments_lexer": "ipython3",
   "version": "3.7.1"
  }
 },
 "nbformat": 4,
 "nbformat_minor": 2
}
