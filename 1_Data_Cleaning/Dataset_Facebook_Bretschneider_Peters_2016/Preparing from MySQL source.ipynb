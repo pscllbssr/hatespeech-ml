{
 "cells": [
  {
   "cell_type": "markdown",
   "metadata": {},
   "source": [
    "# Preparing Data --> CSV"
   ]
  },
  {
   "cell_type": "markdown",
   "metadata": {},
   "source": [
    "The data set is from http://www.ub-web.de/research/index.html. For information about the given data head over to the website.\n",
    "\n",
    "I am using the SQL-Version of the dataset. So to follow along it is necessary to have a mysql-server installed and imported the mysql-dump from the source."
   ]
  },
  {
   "cell_type": "code",
   "execution_count": 40,
   "metadata": {},
   "outputs": [
    {
     "name": "stdout",
     "output_type": "stream",
     "text": [
      "Requirement already satisfied: mysql-connector in c:\\users\\pascal\\anaconda3\\lib\\site-packages (2.1.6)\n"
     ]
    }
   ],
   "source": [
    "# install mysql-connector\n",
    "import sys\n",
    "!{sys.executable} -m pip install mysql-connector"
   ]
  },
  {
   "cell_type": "code",
   "execution_count": 41,
   "metadata": {},
   "outputs": [
    {
     "name": "stdout",
     "output_type": "stream",
     "text": [
      "<mysql.connector.connection.MySQLConnection object at 0x00000151F1C033C8>\n"
     ]
    }
   ],
   "source": [
    "# import connector and test connection\n",
    "import mysql.connector\n",
    "\n",
    "mydb = mysql.connector.connect(\n",
    "  host=\"localhost\",\n",
    "  user=\"root\",\n",
    "  passwd=\"\",\n",
    "    database=\"hate_speech_fb\"\n",
    ")\n",
    "\n",
    "print(mydb)"
   ]
  },
  {
   "cell_type": "code",
   "execution_count": 42,
   "metadata": {},
   "outputs": [],
   "source": [
    "query = \"select `c`.`comment_id` AS `comment_id`,`c`.`message` AS `comment`,`c`.`anonymized_user` AS `author`,group_concat(`a`.`valence` separator ',') AS `valence`,group_concat(`a`.`annotator_id` separator ',') AS `expert_ids`,group_concat(`a`.`target_type` separator ',') AS `target_type`,`p`.`post_id` AS `post_id`,`p`.`post_message` AS `post` from ((`comments` `c` left join `annotated_comments` `a` on((`a`.`comment_id` = `c`.`comment_id`))) left join `posts` `p` on((`p`.`post_id` = `c`.`post_id`))) group by `c`.`comment_id`\""
   ]
  },
  {
   "cell_type": "code",
   "execution_count": 43,
   "metadata": {},
   "outputs": [],
   "source": [
    "mycursor = mydb.cursor(dictionary=True)\n",
    "\n",
    "mycursor.execute(query)\n",
    "\n",
    "myresult = mycursor.fetchall()\n"
   ]
  },
  {
   "cell_type": "code",
   "execution_count": 45,
   "metadata": {},
   "outputs": [
    {
     "name": "stdout",
     "output_type": "stream",
     "text": [
      "{'comment_id': 1, 'comment': 'gleich an die wand stellen und erschiessen..', 'author': 'd766dfb93914e8da', 'valence': '2,2', 'expert_ids': '1,3', 'target_type': '2,2', 'post_id': 1, 'post': 'tja .... das Ergebniss ungebremsten Zuzug ...'}\n",
      "{'comment_id': 2, 'comment': 'nicht dass ich der Grundbotschaft dieses Post\\'s widersprechen würde, aber 1 Rechtschreib- und 1 Grammatikfehler in einer so kurzen Beschreibung stärkt leider nur das clichee \"blau-Wähler haben nichts im Hirn\" bei dem politischen Gegenüber.', 'author': '6e49f84e2a5a1f05', 'valence': None, 'expert_ids': None, 'target_type': None, 'post_id': 1, 'post': 'tja .... das Ergebniss ungebremsten Zuzug ...'}\n",
      "{'comment_id': 3, 'comment': 'Das mit dem \"an die Wand stellen und erschiessen\"', 'author': '6ab1ef4615c45a79', 'valence': None, 'expert_ids': None, 'target_type': None, 'post_id': 1, 'post': 'tja .... das Ergebniss ungebremsten Zuzug ...'}\n",
      "{'comment_id': 4, 'comment': 'Seit dem \"an die Wand stellen und erschiessen\" sind in Deutschland nun etwa 60 Jahre her.', 'author': '6ab1ef4615c45a79', 'valence': None, 'expert_ids': None, 'target_type': None, 'post_id': 1, 'post': 'tja .... das Ergebniss ungebremsten Zuzug ...'}\n",
      "{'comment_id': 5, 'comment': 'Ja ja die Kriminelle Heimatpartei FPÖ von Kinderpornografie beim Orts Chef von Burgenlabd bis Waffenhandel von Betrug Verhetzung bis Körperverletzung von falscher Zeugenaussage bis Mord bei RFJ....bezirksleiter schießt 13 Jährige über den Haufen Bundesrat wegen Wiederbetätigung verurteilt', 'author': '03c34eadeee054d7', 'valence': None, 'expert_ids': None, 'target_type': None, 'post_id': 1, 'post': 'tja .... das Ergebniss ungebremsten Zuzug ...'}\n",
      "{'comment_id': 6, 'comment': 'Ihr seids empfindlich . . Is beste wos uns passieren kann is , das Sie die Herrschaften selbst Niederfeiln . Und Ihr grünen . Euch wollte ich Danken . Euch Hurenkinder können wir den ganzen Scheiß verdanken.', 'author': '0a2677e4af5c892b', 'valence': '2,2', 'expert_ids': '1,3', 'target_type': '5,5', 'post_id': 2, 'post': '........19-jähriger Tschetschene, ........ bei der ein 20-jähriger Afghane..................../////// Tja'}\n",
      "{'comment_id': 7, 'comment': 'Mei bitte, sie sollen sich alle gegenseitig abstechen! Problem gelöst!', 'author': 'a083e009d85b9476', 'valence': '2,2', 'expert_ids': '1,3', 'target_type': '2,2', 'post_id': 2, 'post': '........19-jähriger Tschetschene, ........ bei der ein 20-jähriger Afghane..................../////// Tja'}\n",
      "{'comment_id': 8, 'comment': 'Wahnsinn.... :-(', 'author': 'd5d9e05c5bc9cff0', 'valence': None, 'expert_ids': None, 'target_type': None, 'post_id': 2, 'post': '........19-jähriger Tschetschene, ........ bei der ein 20-jähriger Afghane..................../////// Tja'}\n",
      "{'comment_id': 9, 'comment': 'Alles nur traumatisierte Kindlein.  Die von den Grünen bezahlten Anwälte werden es schon richten. ?', 'author': '8acea189036f77df', 'valence': None, 'expert_ids': None, 'target_type': None, 'post_id': 2, 'post': '........19-jähriger Tschetschene, ........ bei der ein 20-jähriger Afghane..................../////// Tja'}\n",
      "{'comment_id': 10, 'comment': 'Fachkräfte bei der Arbeit. Ein Hirnchirurg und ein Atomphysiker...', 'author': '0d7f58a3b74f2739', 'valence': None, 'expert_ids': None, 'target_type': None, 'post_id': 2, 'post': '........19-jähriger Tschetschene, ........ bei der ein 20-jähriger Afghane..................../////// Tja'}\n",
      "{'comment_id': 11, 'comment': 'Unglaublich, was für ausländerfeindliche Kommentare man immer wieder zu lesen bekommt und unglaublich, wieviel Nazi noch in vielen Deutschen drinsteckt.', 'author': '6ab1ef4615c45a79', 'valence': '2,2', 'expert_ids': '1,3', 'target_type': '5,5', 'post_id': 2, 'post': '........19-jähriger Tschetschene, ........ bei der ein 20-jähriger Afghane..................../////// Tja'}\n"
     ]
    }
   ],
   "source": [
    "for x in myresult:\n",
    "    print(x)\n",
    "    if(x['comment_id'] > 10):\n",
    "        break"
   ]
  },
  {
   "cell_type": "code",
   "execution_count": 46,
   "metadata": {},
   "outputs": [],
   "source": [
    "import csv"
   ]
  },
  {
   "cell_type": "code",
   "execution_count": 56,
   "metadata": {},
   "outputs": [],
   "source": [
    "with open('comments.csv', 'w', encoding='utf-8') as f:    \n",
    "    c = csv.writer(f)\n",
    "    columns = myresult[0].keys()\n",
    "    c.writerow(columns)\n",
    "    for x in myresult:\n",
    "        row = x.values()\n",
    "        c.writerow(row)\n",
    "f.close()"
   ]
  },
  {
   "cell_type": "code",
   "execution_count": 48,
   "metadata": {},
   "outputs": [],
   "source": [
    "import pandas as pd"
   ]
  },
  {
   "cell_type": "code",
   "execution_count": 57,
   "metadata": {},
   "outputs": [
    {
     "data": {
      "text/html": [
       "<div>\n",
       "<style scoped>\n",
       "    .dataframe tbody tr th:only-of-type {\n",
       "        vertical-align: middle;\n",
       "    }\n",
       "\n",
       "    .dataframe tbody tr th {\n",
       "        vertical-align: top;\n",
       "    }\n",
       "\n",
       "    .dataframe thead th {\n",
       "        text-align: right;\n",
       "    }\n",
       "</style>\n",
       "<table border=\"1\" class=\"dataframe\">\n",
       "  <thead>\n",
       "    <tr style=\"text-align: right;\">\n",
       "      <th></th>\n",
       "      <th>comment_id</th>\n",
       "      <th>comment</th>\n",
       "      <th>author</th>\n",
       "      <th>valence</th>\n",
       "      <th>expert_ids</th>\n",
       "      <th>target_type</th>\n",
       "      <th>post_id</th>\n",
       "      <th>post</th>\n",
       "    </tr>\n",
       "  </thead>\n",
       "  <tbody>\n",
       "    <tr>\n",
       "      <th>0</th>\n",
       "      <td>1</td>\n",
       "      <td>gleich an die wand stellen und erschiessen..</td>\n",
       "      <td>d766dfb93914e8da</td>\n",
       "      <td>2,2</td>\n",
       "      <td>1,3</td>\n",
       "      <td>2,2</td>\n",
       "      <td>1</td>\n",
       "      <td>tja .... das Ergebniss ungebremsten Zuzug ...</td>\n",
       "    </tr>\n",
       "    <tr>\n",
       "      <th>1</th>\n",
       "      <td>2</td>\n",
       "      <td>nicht dass ich der Grundbotschaft dieses Post'...</td>\n",
       "      <td>6e49f84e2a5a1f05</td>\n",
       "      <td>NaN</td>\n",
       "      <td>NaN</td>\n",
       "      <td>NaN</td>\n",
       "      <td>1</td>\n",
       "      <td>tja .... das Ergebniss ungebremsten Zuzug ...</td>\n",
       "    </tr>\n",
       "    <tr>\n",
       "      <th>2</th>\n",
       "      <td>3</td>\n",
       "      <td>Das mit dem \"an die Wand stellen und erschiessen\"</td>\n",
       "      <td>6ab1ef4615c45a79</td>\n",
       "      <td>NaN</td>\n",
       "      <td>NaN</td>\n",
       "      <td>NaN</td>\n",
       "      <td>1</td>\n",
       "      <td>tja .... das Ergebniss ungebremsten Zuzug ...</td>\n",
       "    </tr>\n",
       "    <tr>\n",
       "      <th>3</th>\n",
       "      <td>4</td>\n",
       "      <td>Seit dem \"an die Wand stellen und erschiessen\"...</td>\n",
       "      <td>6ab1ef4615c45a79</td>\n",
       "      <td>NaN</td>\n",
       "      <td>NaN</td>\n",
       "      <td>NaN</td>\n",
       "      <td>1</td>\n",
       "      <td>tja .... das Ergebniss ungebremsten Zuzug ...</td>\n",
       "    </tr>\n",
       "    <tr>\n",
       "      <th>4</th>\n",
       "      <td>5</td>\n",
       "      <td>Ja ja die Kriminelle Heimatpartei FPÖ von Kind...</td>\n",
       "      <td>03c34eadeee054d7</td>\n",
       "      <td>NaN</td>\n",
       "      <td>NaN</td>\n",
       "      <td>NaN</td>\n",
       "      <td>1</td>\n",
       "      <td>tja .... das Ergebniss ungebremsten Zuzug ...</td>\n",
       "    </tr>\n",
       "  </tbody>\n",
       "</table>\n",
       "</div>"
      ],
      "text/plain": [
       "   comment_id                                            comment  \\\n",
       "0           1       gleich an die wand stellen und erschiessen..   \n",
       "1           2  nicht dass ich der Grundbotschaft dieses Post'...   \n",
       "2           3  Das mit dem \"an die Wand stellen und erschiessen\"   \n",
       "3           4  Seit dem \"an die Wand stellen und erschiessen\"...   \n",
       "4           5  Ja ja die Kriminelle Heimatpartei FPÖ von Kind...   \n",
       "\n",
       "             author valence expert_ids target_type  post_id  \\\n",
       "0  d766dfb93914e8da     2,2        1,3         2,2        1   \n",
       "1  6e49f84e2a5a1f05     NaN        NaN         NaN        1   \n",
       "2  6ab1ef4615c45a79     NaN        NaN         NaN        1   \n",
       "3  6ab1ef4615c45a79     NaN        NaN         NaN        1   \n",
       "4  03c34eadeee054d7     NaN        NaN         NaN        1   \n",
       "\n",
       "                                            post  \n",
       "0  tja .... das Ergebniss ungebremsten Zuzug ...  \n",
       "1  tja .... das Ergebniss ungebremsten Zuzug ...  \n",
       "2  tja .... das Ergebniss ungebremsten Zuzug ...  \n",
       "3  tja .... das Ergebniss ungebremsten Zuzug ...  \n",
       "4  tja .... das Ergebniss ungebremsten Zuzug ...  "
      ]
     },
     "execution_count": 57,
     "metadata": {},
     "output_type": "execute_result"
    }
   ],
   "source": [
    "df = pd.read_csv('comments.csv')\n",
    "df.head()"
   ]
  },
  {
   "cell_type": "code",
   "execution_count": null,
   "metadata": {},
   "outputs": [],
   "source": []
  }
 ],
 "metadata": {
  "kernelspec": {
   "display_name": "Python 3",
   "language": "python",
   "name": "python3"
  },
  "language_info": {
   "codemirror_mode": {
    "name": "ipython",
    "version": 3
   },
   "file_extension": ".py",
   "mimetype": "text/x-python",
   "name": "python",
   "nbconvert_exporter": "python",
   "pygments_lexer": "ipython3",
   "version": "3.7.1"
  }
 },
 "nbformat": 4,
 "nbformat_minor": 2
}
