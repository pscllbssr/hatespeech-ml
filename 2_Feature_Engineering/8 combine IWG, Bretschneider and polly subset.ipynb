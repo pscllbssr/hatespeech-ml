{
 "cells": [
  {
   "cell_type": "code",
   "execution_count": 1,
   "metadata": {},
   "outputs": [],
   "source": [
    "import pandas as pd\n",
    "import numpy as np"
   ]
  },
  {
   "cell_type": "code",
   "execution_count": 2,
   "metadata": {},
   "outputs": [],
   "source": [
    "set_1 = pd.read_csv(r\"data/normalized_tweets_refugees.csv\")"
   ]
  },
  {
   "cell_type": "code",
   "execution_count": 3,
   "metadata": {},
   "outputs": [],
   "source": [
    "set_2 = pd.read_csv(r\"data/normalized_facebook_comments.csv\", dtype={'binary_label': np.bool})"
   ]
  },
  {
   "cell_type": "code",
   "execution_count": 4,
   "metadata": {},
   "outputs": [],
   "source": [
    "set_3 = pd.read_csv(r\"data/subset_polly_hatespeech.csv\")"
   ]
  },
  {
   "cell_type": "code",
   "execution_count": 5,
   "metadata": {},
   "outputs": [
    {
     "name": "stdout",
     "output_type": "stream",
     "text": [
      "<class 'pandas.core.frame.DataFrame'>\n",
      "RangeIndex: 469 entries, 0 to 468\n",
      "Data columns (total 3 columns):\n",
      "raw_text        469 non-null object\n",
      "severity        469 non-null float64\n",
      "binary_label    469 non-null bool\n",
      "dtypes: bool(1), float64(1), object(1)\n",
      "memory usage: 7.9+ KB\n"
     ]
    }
   ],
   "source": [
    "set_1.info(verbose=True)"
   ]
  },
  {
   "cell_type": "code",
   "execution_count": 6,
   "metadata": {},
   "outputs": [
    {
     "name": "stdout",
     "output_type": "stream",
     "text": [
      "<class 'pandas.core.frame.DataFrame'>\n",
      "RangeIndex: 5837 entries, 0 to 5836\n",
      "Data columns (total 3 columns):\n",
      "raw_text        5837 non-null object\n",
      "severity        5836 non-null float64\n",
      "binary_label    5836 non-null object\n",
      "dtypes: float64(1), object(2)\n",
      "memory usage: 136.9+ KB\n"
     ]
    }
   ],
   "source": [
    "set_2.info(verbose=True)"
   ]
  },
  {
   "cell_type": "code",
   "execution_count": 7,
   "metadata": {},
   "outputs": [
    {
     "name": "stdout",
     "output_type": "stream",
     "text": [
      "<class 'pandas.core.frame.DataFrame'>\n",
      "RangeIndex: 3593 entries, 0 to 3592\n",
      "Data columns (total 3 columns):\n",
      "raw_text        3593 non-null object\n",
      "severity        3593 non-null int64\n",
      "binary_label    3593 non-null bool\n",
      "dtypes: bool(1), int64(1), object(1)\n",
      "memory usage: 59.7+ KB\n"
     ]
    }
   ],
   "source": [
    "set_3.info(verbose=True)"
   ]
  },
  {
   "cell_type": "code",
   "execution_count": 8,
   "metadata": {},
   "outputs": [
    {
     "data": {
      "text/plain": [
       "array([True, False, nan], dtype=object)"
      ]
     },
     "execution_count": 8,
     "metadata": {},
     "output_type": "execute_result"
    }
   ],
   "source": [
    "set_2.binary_label.unique()"
   ]
  },
  {
   "cell_type": "code",
   "execution_count": 9,
   "metadata": {
    "scrolled": true
   },
   "outputs": [
    {
     "data": {
      "text/html": [
       "<div>\n",
       "<style scoped>\n",
       "    .dataframe tbody tr th:only-of-type {\n",
       "        vertical-align: middle;\n",
       "    }\n",
       "\n",
       "    .dataframe tbody tr th {\n",
       "        vertical-align: top;\n",
       "    }\n",
       "\n",
       "    .dataframe thead th {\n",
       "        text-align: right;\n",
       "    }\n",
       "</style>\n",
       "<table border=\"1\" class=\"dataframe\">\n",
       "  <thead>\n",
       "    <tr style=\"text-align: right;\">\n",
       "      <th></th>\n",
       "      <th>raw_text</th>\n",
       "      <th>severity</th>\n",
       "      <th>binary_label</th>\n",
       "    </tr>\n",
       "  </thead>\n",
       "  <tbody>\n",
       "    <tr>\n",
       "      <th>2596</th>\n",
       "      <td>Das macht Angst....</td>\n",
       "      <td>NaN</td>\n",
       "      <td>NaN</td>\n",
       "    </tr>\n",
       "  </tbody>\n",
       "</table>\n",
       "</div>"
      ],
      "text/plain": [
       "                  raw_text  severity binary_label\n",
       "2596  Das macht Angst....        NaN          NaN"
      ]
     },
     "execution_count": 9,
     "metadata": {},
     "output_type": "execute_result"
    }
   ],
   "source": [
    "set_2[set_2['binary_label'].isna()]"
   ]
  },
  {
   "cell_type": "code",
   "execution_count": 10,
   "metadata": {
    "scrolled": true
   },
   "outputs": [
    {
     "name": "stdout",
     "output_type": "stream",
     "text": [
      "<class 'pandas.core.frame.DataFrame'>\n",
      "Int64Index: 5836 entries, 0 to 5836\n",
      "Data columns (total 3 columns):\n",
      "raw_text        5836 non-null object\n",
      "severity        5836 non-null float64\n",
      "binary_label    5836 non-null bool\n",
      "dtypes: bool(1), float64(1), object(1)\n",
      "memory usage: 142.5+ KB\n"
     ]
    }
   ],
   "source": [
    "set_2 = set_2[set_2['binary_label'].notna()]\n",
    "set_2 = set_2.astype({'binary_label': np.bool})\n",
    "set_2.info(verbose=True)"
   ]
  },
  {
   "cell_type": "code",
   "execution_count": 11,
   "metadata": {},
   "outputs": [
    {
     "data": {
      "text/html": [
       "<div>\n",
       "<style scoped>\n",
       "    .dataframe tbody tr th:only-of-type {\n",
       "        vertical-align: middle;\n",
       "    }\n",
       "\n",
       "    .dataframe tbody tr th {\n",
       "        vertical-align: top;\n",
       "    }\n",
       "\n",
       "    .dataframe thead th {\n",
       "        text-align: right;\n",
       "    }\n",
       "</style>\n",
       "<table border=\"1\" class=\"dataframe\">\n",
       "  <thead>\n",
       "    <tr style=\"text-align: right;\">\n",
       "      <th></th>\n",
       "      <th>raw_text</th>\n",
       "      <th>severity</th>\n",
       "      <th>binary_label</th>\n",
       "    </tr>\n",
       "  </thead>\n",
       "  <tbody>\n",
       "    <tr>\n",
       "      <th>0</th>\n",
       "      <td>gleich an die wand stellen und erschiessen..</td>\n",
       "      <td>1.0</td>\n",
       "      <td>True</td>\n",
       "    </tr>\n",
       "    <tr>\n",
       "      <th>1</th>\n",
       "      <td>nicht dass ich der Grundbotschaft dieses Post'...</td>\n",
       "      <td>0.0</td>\n",
       "      <td>False</td>\n",
       "    </tr>\n",
       "    <tr>\n",
       "      <th>2</th>\n",
       "      <td>Das mit dem \"an die Wand stellen und erschiessen\"</td>\n",
       "      <td>0.0</td>\n",
       "      <td>False</td>\n",
       "    </tr>\n",
       "    <tr>\n",
       "      <th>3</th>\n",
       "      <td>Seit dem \"an die Wand stellen und erschiessen\"...</td>\n",
       "      <td>0.0</td>\n",
       "      <td>False</td>\n",
       "    </tr>\n",
       "    <tr>\n",
       "      <th>4</th>\n",
       "      <td>Ja ja die Kriminelle Heimatpartei FPÖ von Kind...</td>\n",
       "      <td>0.0</td>\n",
       "      <td>False</td>\n",
       "    </tr>\n",
       "  </tbody>\n",
       "</table>\n",
       "</div>"
      ],
      "text/plain": [
       "                                            raw_text  severity  binary_label\n",
       "0       gleich an die wand stellen und erschiessen..       1.0          True\n",
       "1  nicht dass ich der Grundbotschaft dieses Post'...       0.0         False\n",
       "2  Das mit dem \"an die Wand stellen und erschiessen\"       0.0         False\n",
       "3  Seit dem \"an die Wand stellen und erschiessen\"...       0.0         False\n",
       "4  Ja ja die Kriminelle Heimatpartei FPÖ von Kind...       0.0         False"
      ]
     },
     "execution_count": 11,
     "metadata": {},
     "output_type": "execute_result"
    }
   ],
   "source": [
    "set_2.head()"
   ]
  },
  {
   "cell_type": "code",
   "execution_count": 12,
   "metadata": {},
   "outputs": [
    {
     "data": {
      "text/html": [
       "<div>\n",
       "<style scoped>\n",
       "    .dataframe tbody tr th:only-of-type {\n",
       "        vertical-align: middle;\n",
       "    }\n",
       "\n",
       "    .dataframe tbody tr th {\n",
       "        vertical-align: top;\n",
       "    }\n",
       "\n",
       "    .dataframe thead th {\n",
       "        text-align: right;\n",
       "    }\n",
       "</style>\n",
       "<table border=\"1\" class=\"dataframe\">\n",
       "  <thead>\n",
       "    <tr style=\"text-align: right;\">\n",
       "      <th></th>\n",
       "      <th>raw_text</th>\n",
       "      <th>severity</th>\n",
       "      <th>binary_label</th>\n",
       "    </tr>\n",
       "  </thead>\n",
       "  <tbody>\n",
       "    <tr>\n",
       "      <th>0</th>\n",
       "      <td>Für Führer, Volk und Vaterland!!!</td>\n",
       "      <td>1</td>\n",
       "      <td>True</td>\n",
       "    </tr>\n",
       "    <tr>\n",
       "      <th>1</th>\n",
       "      <td>das war ein Zitat aus der goebbels rede als ...</td>\n",
       "      <td>1</td>\n",
       "      <td>True</td>\n",
       "    </tr>\n",
       "    <tr>\n",
       "      <th>2</th>\n",
       "      <td>Nun Volk steh auf und Sturm brich los!!!</td>\n",
       "      <td>1</td>\n",
       "      <td>True</td>\n",
       "    </tr>\n",
       "    <tr>\n",
       "      <th>3</th>\n",
       "      <td>20 Jahre friedliche Revolution in Mitteldeutsc...</td>\n",
       "      <td>1</td>\n",
       "      <td>True</td>\n",
       "    </tr>\n",
       "    <tr>\n",
       "      <th>4</th>\n",
       "      <td>Es bedarf nicht vieler Worte\\r\\n\\r\\nDeutschlan...</td>\n",
       "      <td>1</td>\n",
       "      <td>True</td>\n",
       "    </tr>\n",
       "  </tbody>\n",
       "</table>\n",
       "</div>"
      ],
      "text/plain": [
       "                                            raw_text  severity  binary_label\n",
       "0                  Für Führer, Volk und Vaterland!!!         1          True\n",
       "1    das war ein Zitat aus der goebbels rede als ...         1          True\n",
       "2           Nun Volk steh auf und Sturm brich los!!!         1          True\n",
       "3  20 Jahre friedliche Revolution in Mitteldeutsc...         1          True\n",
       "4  Es bedarf nicht vieler Worte\\r\\n\\r\\nDeutschlan...         1          True"
      ]
     },
     "execution_count": 12,
     "metadata": {},
     "output_type": "execute_result"
    }
   ],
   "source": [
    "set_3.head()"
   ]
  },
  {
   "cell_type": "markdown",
   "metadata": {},
   "source": [
    "# remove long comments"
   ]
  },
  {
   "cell_type": "code",
   "execution_count": 13,
   "metadata": {},
   "outputs": [],
   "source": [
    "threshold = 300\n",
    "set_1 = set_1[set_1['raw_text'].str.len() <= threshold]\n",
    "set_2 = set_2[set_2['raw_text'].str.len() <= threshold]\n",
    "set_3 = set_3[set_3['raw_text'].str.len() <= threshold]"
   ]
  },
  {
   "cell_type": "code",
   "execution_count": 14,
   "metadata": {},
   "outputs": [
    {
     "data": {
      "text/plain": [
       "\"\\nthreshold_min = 50\\nset_1 = set_1[set_1['raw_text'].str.len() >= threshold_min]\\nset_2 = set_2[set_2['raw_text'].str.len() >= threshold_min]\\nset_3 = set_3[set_3['raw_text'].str.len() >= threshold_min]\\n\""
      ]
     },
     "execution_count": 14,
     "metadata": {},
     "output_type": "execute_result"
    }
   ],
   "source": [
    "'''\n",
    "threshold_min = 50\n",
    "set_1 = set_1[set_1['raw_text'].str.len() >= threshold_min]\n",
    "set_2 = set_2[set_2['raw_text'].str.len() >= threshold_min]\n",
    "set_3 = set_3[set_3['raw_text'].str.len() >= threshold_min]\n",
    "'''"
   ]
  },
  {
   "cell_type": "markdown",
   "metadata": {},
   "source": [
    "# combining datasets\n",
    "as we have normalized the different datasets before, we can combine them"
   ]
  },
  {
   "cell_type": "code",
   "execution_count": 15,
   "metadata": {
    "scrolled": true
   },
   "outputs": [
    {
     "name": "stdout",
     "output_type": "stream",
     "text": [
      "<class 'pandas.core.frame.DataFrame'>\n",
      "Int64Index: 9169 entries, 0 to 3592\n",
      "Data columns (total 3 columns):\n",
      "raw_text        9169 non-null object\n",
      "severity        9169 non-null float64\n",
      "binary_label    9169 non-null bool\n",
      "dtypes: bool(1), float64(1), object(1)\n",
      "memory usage: 223.9+ KB\n"
     ]
    }
   ],
   "source": [
    "df = pd.concat([set_1, set_2, set_3])\n",
    "df.info(verbose=True)"
   ]
  },
  {
   "cell_type": "code",
   "execution_count": 16,
   "metadata": {},
   "outputs": [
    {
     "name": "stdout",
     "output_type": "stream",
     "text": [
      "There are 9169 rows, 4321 are hate speech, 4848 not.\n"
     ]
    }
   ],
   "source": [
    "print(\"There are {} rows, {} are hate speech, {} not.\".format(len(df), len(df[df['binary_label'] == True]), len(df[df['binary_label'] == False])))"
   ]
  },
  {
   "cell_type": "markdown",
   "metadata": {},
   "source": [
    "seems about right"
   ]
  },
  {
   "cell_type": "code",
   "execution_count": 17,
   "metadata": {},
   "outputs": [
    {
     "data": {
      "text/html": [
       "<div>\n",
       "<style scoped>\n",
       "    .dataframe tbody tr th:only-of-type {\n",
       "        vertical-align: middle;\n",
       "    }\n",
       "\n",
       "    .dataframe tbody tr th {\n",
       "        vertical-align: top;\n",
       "    }\n",
       "\n",
       "    .dataframe thead th {\n",
       "        text-align: right;\n",
       "    }\n",
       "</style>\n",
       "<table border=\"1\" class=\"dataframe\">\n",
       "  <thead>\n",
       "    <tr style=\"text-align: right;\">\n",
       "      <th></th>\n",
       "      <th>raw_text</th>\n",
       "      <th>severity</th>\n",
       "      <th>binary_label</th>\n",
       "    </tr>\n",
       "  </thead>\n",
       "  <tbody>\n",
       "    <tr>\n",
       "      <th>0</th>\n",
       "      <td>#Rosenmontag ist abgesagt. #Rapefugees also wi...</td>\n",
       "      <td>0.5</td>\n",
       "      <td>True</td>\n",
       "    </tr>\n",
       "    <tr>\n",
       "      <th>3</th>\n",
       "      <td>Den verfluchten #Rapefugees den Krieg erklären...</td>\n",
       "      <td>0.5</td>\n",
       "      <td>True</td>\n",
       "    </tr>\n",
       "    <tr>\n",
       "      <th>4</th>\n",
       "      <td>War das Wochenende im Ruhrpott unterwegs. Über...</td>\n",
       "      <td>1.0</td>\n",
       "      <td>True</td>\n",
       "    </tr>\n",
       "    <tr>\n",
       "      <th>9</th>\n",
       "      <td>Offenes, freies WLAN im #Sophienhof #Kiel. Mit...</td>\n",
       "      <td>0.5</td>\n",
       "      <td>True</td>\n",
       "    </tr>\n",
       "    <tr>\n",
       "      <th>11</th>\n",
       "      <td>Regeln und Gesetze der Einheimischen sind ein ...</td>\n",
       "      <td>0.5</td>\n",
       "      <td>True</td>\n",
       "    </tr>\n",
       "    <tr>\n",
       "      <th>12</th>\n",
       "      <td>#Blutrache, #Zwangsbekehrung, #Scharia, #Kinde...</td>\n",
       "      <td>0.5</td>\n",
       "      <td>True</td>\n",
       "    </tr>\n",
       "    <tr>\n",
       "      <th>14</th>\n",
       "      <td>Claudia #Roth: Wer Sex-Attacken von Asylanten ...</td>\n",
       "      <td>0.5</td>\n",
       "      <td>True</td>\n",
       "    </tr>\n",
       "    <tr>\n",
       "      <th>16</th>\n",
       "      <td>Die Unterbringung im Gefängnis nur weil man Ve...</td>\n",
       "      <td>0.5</td>\n",
       "      <td>True</td>\n",
       "    </tr>\n",
       "    <tr>\n",
       "      <th>24</th>\n",
       "      <td>#illner. erst hieß es, es kämen nur top Arbeit...</td>\n",
       "      <td>1.0</td>\n",
       "      <td>True</td>\n",
       "    </tr>\n",
       "    <tr>\n",
       "      <th>30</th>\n",
       "      <td>Pöbelnde #Asylanten zeigen Kopf-ab-Gesten und ...</td>\n",
       "      <td>0.5</td>\n",
       "      <td>True</td>\n",
       "    </tr>\n",
       "    <tr>\n",
       "      <th>31</th>\n",
       "      <td>Geld aus der Portokasse von #Merkel, oder doch...</td>\n",
       "      <td>0.5</td>\n",
       "      <td>True</td>\n",
       "    </tr>\n",
       "    <tr>\n",
       "      <th>34</th>\n",
       "      <td>Wenn sich der Hass in #Deutschland mal seinen ...</td>\n",
       "      <td>0.5</td>\n",
       "      <td>True</td>\n",
       "    </tr>\n",
       "    <tr>\n",
       "      <th>38</th>\n",
       "      <td>#hartaberfair Andere #EU Länder sind Land und ...</td>\n",
       "      <td>0.5</td>\n",
       "      <td>True</td>\n",
       "    </tr>\n",
       "    <tr>\n",
       "      <th>39</th>\n",
       "      <td>#besorgteGutmenschen regen sich auf :  #Khaled...</td>\n",
       "      <td>1.0</td>\n",
       "      <td>True</td>\n",
       "    </tr>\n",
       "    <tr>\n",
       "      <th>41</th>\n",
       "      <td>Idee: #Hartzer VS #Asylanten im Einzelkampf . ...</td>\n",
       "      <td>0.5</td>\n",
       "      <td>True</td>\n",
       "    </tr>\n",
       "    <tr>\n",
       "      <th>43</th>\n",
       "      <td>Utter zbale in this hashtag #rapefugees</td>\n",
       "      <td>0.5</td>\n",
       "      <td>True</td>\n",
       "    </tr>\n",
       "    <tr>\n",
       "      <th>44</th>\n",
       "      <td>Gestern kamen die #Asylanten. Heute Nacht wurd...</td>\n",
       "      <td>0.5</td>\n",
       "      <td>True</td>\n",
       "    </tr>\n",
       "    <tr>\n",
       "      <th>45</th>\n",
       "      <td>Erschreckend, daß es #Frauen sind, die 30 Jahr...</td>\n",
       "      <td>1.0</td>\n",
       "      <td>True</td>\n",
       "    </tr>\n",
       "    <tr>\n",
       "      <th>46</th>\n",
       "      <td>#Deutschland übt #Karneval nach den Regeln der...</td>\n",
       "      <td>0.5</td>\n",
       "      <td>True</td>\n",
       "    </tr>\n",
       "    <tr>\n",
       "      <th>52</th>\n",
       "      <td>#Arabisch als Schulsprache - #Islamisierung #D...</td>\n",
       "      <td>0.5</td>\n",
       "      <td>True</td>\n",
       "    </tr>\n",
       "    <tr>\n",
       "      <th>55</th>\n",
       "      <td>lieber #Horst #Seehofer,der #Bayerische #Staat...</td>\n",
       "      <td>0.5</td>\n",
       "      <td>True</td>\n",
       "    </tr>\n",
       "    <tr>\n",
       "      <th>59</th>\n",
       "      <td>#maischberger Fratscher:Geld für Migranten als...</td>\n",
       "      <td>1.0</td>\n",
       "      <td>True</td>\n",
       "    </tr>\n",
       "    <tr>\n",
       "      <th>62</th>\n",
       "      <td>#Reker beugt sich #Islam und #Scharia, schafft...</td>\n",
       "      <td>0.5</td>\n",
       "      <td>True</td>\n",
       "    </tr>\n",
       "    <tr>\n",
       "      <th>63</th>\n",
       "      <td>#maischberger Liefers: Wir achten Frauen.... F...</td>\n",
       "      <td>1.0</td>\n",
       "      <td>True</td>\n",
       "    </tr>\n",
       "    <tr>\n",
       "      <th>65</th>\n",
       "      <td>Wir werden noch gemeinsam auf #PEGIDA stehen, ...</td>\n",
       "      <td>0.5</td>\n",
       "      <td>True</td>\n",
       "    </tr>\n",
       "    <tr>\n",
       "      <th>67</th>\n",
       "      <td>Ich habe bis heute nicht verstanden, was an Du...</td>\n",
       "      <td>1.0</td>\n",
       "      <td>True</td>\n",
       "    </tr>\n",
       "    <tr>\n",
       "      <th>76</th>\n",
       "      <td>DANKE #Clausnitz FÜR EUREN #WIDERSTAND ! IHR S...</td>\n",
       "      <td>1.0</td>\n",
       "      <td>True</td>\n",
       "    </tr>\n",
       "    <tr>\n",
       "      <th>78</th>\n",
       "      <td>#Asylanten betteln jetzt auch in den Nachbardö...</td>\n",
       "      <td>0.5</td>\n",
       "      <td>True</td>\n",
       "    </tr>\n",
       "    <tr>\n",
       "      <th>81</th>\n",
       "      <td>Könnten wir Schmarotzer und Kriminelle loswerd...</td>\n",
       "      <td>1.0</td>\n",
       "      <td>True</td>\n",
       "    </tr>\n",
       "    <tr>\n",
       "      <th>89</th>\n",
       "      <td>Integrierte werden abgeschoben?Illegale TÄTER ...</td>\n",
       "      <td>0.5</td>\n",
       "      <td>True</td>\n",
       "    </tr>\n",
       "    <tr>\n",
       "      <th>93</th>\n",
       "      <td>Die #Islamisierung des #Abendlandes ist die sc...</td>\n",
       "      <td>1.0</td>\n",
       "      <td>True</td>\n",
       "    </tr>\n",
       "    <tr>\n",
       "      <th>97</th>\n",
       "      <td>Ich brauche einen Blog, glaube ich, 140 Zeiche...</td>\n",
       "      <td>1.0</td>\n",
       "      <td>True</td>\n",
       "    </tr>\n",
       "    <tr>\n",
       "      <th>102</th>\n",
       "      <td>Seit beginn der #Asylflut sprunghafter Anstieg...</td>\n",
       "      <td>0.5</td>\n",
       "      <td>True</td>\n",
       "    </tr>\n",
       "    <tr>\n",
       "      <th>105</th>\n",
       "      <td>#Kiel Wer jetzt immer noch die Blockparteien w...</td>\n",
       "      <td>0.5</td>\n",
       "      <td>True</td>\n",
       "    </tr>\n",
       "    <tr>\n",
       "      <th>106</th>\n",
       "      <td>Deutsche Frauen an #rapefugees opfern. #wasist...</td>\n",
       "      <td>1.0</td>\n",
       "      <td>True</td>\n",
       "    </tr>\n",
       "    <tr>\n",
       "      <th>112</th>\n",
       "      <td>Die heutige Tagesscheisse heist #Hoaxmap. Die ...</td>\n",
       "      <td>0.5</td>\n",
       "      <td>True</td>\n",
       "    </tr>\n",
       "    <tr>\n",
       "      <th>115</th>\n",
       "      <td>Wenn sie gesagt hätte: \"\"#Domian´, ich hasse d...</td>\n",
       "      <td>0.5</td>\n",
       "      <td>True</td>\n",
       "    </tr>\n",
       "    <tr>\n",
       "      <th>117</th>\n",
       "      <td>Gerüchten zufolge finden sich in den Netzen de...</td>\n",
       "      <td>0.5</td>\n",
       "      <td>True</td>\n",
       "    </tr>\n",
       "    <tr>\n",
       "      <th>118</th>\n",
       "      <td>Ich würde gern mal eine #Sondersendung zur täg...</td>\n",
       "      <td>0.5</td>\n",
       "      <td>True</td>\n",
       "    </tr>\n",
       "    <tr>\n",
       "      <th>119</th>\n",
       "      <td>Was die allermeisten immer noch nicht begriffe...</td>\n",
       "      <td>1.0</td>\n",
       "      <td>True</td>\n",
       "    </tr>\n",
       "    <tr>\n",
       "      <th>124</th>\n",
       "      <td>Flüchtlinge zwangsweise in Privathaushalten ei...</td>\n",
       "      <td>0.5</td>\n",
       "      <td>True</td>\n",
       "    </tr>\n",
       "    <tr>\n",
       "      <th>126</th>\n",
       "      <td>Warum ist #deutschland nicht solidarisch mit d...</td>\n",
       "      <td>0.5</td>\n",
       "      <td>True</td>\n",
       "    </tr>\n",
       "    <tr>\n",
       "      <th>128</th>\n",
       "      <td>#Schwulenhilfe #Berlin richtet für Schwule #As...</td>\n",
       "      <td>1.0</td>\n",
       "      <td>True</td>\n",
       "    </tr>\n",
       "    <tr>\n",
       "      <th>129</th>\n",
       "      <td>Alles recht ominös mit dem Zugunglück. Wüsste ...</td>\n",
       "      <td>0.5</td>\n",
       "      <td>True</td>\n",
       "    </tr>\n",
       "    <tr>\n",
       "      <th>130</th>\n",
       "      <td>Dürfen in Stuttgart \"\"#Flüchtlinge\"\" und \"\"#Ra...</td>\n",
       "      <td>0.5</td>\n",
       "      <td>True</td>\n",
       "    </tr>\n",
       "    <tr>\n",
       "      <th>132</th>\n",
       "      <td>Flüchtlinsheime in denen nicht jeden Tag grati...</td>\n",
       "      <td>0.5</td>\n",
       "      <td>True</td>\n",
       "    </tr>\n",
       "    <tr>\n",
       "      <th>134</th>\n",
       "      <td>Ich bin für die #Schweinefleischpflicht !!! Hi...</td>\n",
       "      <td>0.5</td>\n",
       "      <td>True</td>\n",
       "    </tr>\n",
       "    <tr>\n",
       "      <th>135</th>\n",
       "      <td>#Europa ist groß, weil es nie islamisch war. U...</td>\n",
       "      <td>0.5</td>\n",
       "      <td>True</td>\n",
       "    </tr>\n",
       "    <tr>\n",
       "      <th>139</th>\n",
       "      <td>#Griechenland #Grenze #Mazedonien man muß dies...</td>\n",
       "      <td>0.5</td>\n",
       "      <td>True</td>\n",
       "    </tr>\n",
       "    <tr>\n",
       "      <th>147</th>\n",
       "      <td>Kostenloses, aber zu langsames Internet in Flü...</td>\n",
       "      <td>0.5</td>\n",
       "      <td>True</td>\n",
       "    </tr>\n",
       "  </tbody>\n",
       "</table>\n",
       "</div>"
      ],
      "text/plain": [
       "                                              raw_text  severity  binary_label\n",
       "0    #Rosenmontag ist abgesagt. #Rapefugees also wi...       0.5          True\n",
       "3    Den verfluchten #Rapefugees den Krieg erklären...       0.5          True\n",
       "4    War das Wochenende im Ruhrpott unterwegs. Über...       1.0          True\n",
       "9    Offenes, freies WLAN im #Sophienhof #Kiel. Mit...       0.5          True\n",
       "11   Regeln und Gesetze der Einheimischen sind ein ...       0.5          True\n",
       "12   #Blutrache, #Zwangsbekehrung, #Scharia, #Kinde...       0.5          True\n",
       "14   Claudia #Roth: Wer Sex-Attacken von Asylanten ...       0.5          True\n",
       "16   Die Unterbringung im Gefängnis nur weil man Ve...       0.5          True\n",
       "24   #illner. erst hieß es, es kämen nur top Arbeit...       1.0          True\n",
       "30   Pöbelnde #Asylanten zeigen Kopf-ab-Gesten und ...       0.5          True\n",
       "31   Geld aus der Portokasse von #Merkel, oder doch...       0.5          True\n",
       "34   Wenn sich der Hass in #Deutschland mal seinen ...       0.5          True\n",
       "38   #hartaberfair Andere #EU Länder sind Land und ...       0.5          True\n",
       "39   #besorgteGutmenschen regen sich auf :  #Khaled...       1.0          True\n",
       "41   Idee: #Hartzer VS #Asylanten im Einzelkampf . ...       0.5          True\n",
       "43             Utter zbale in this hashtag #rapefugees       0.5          True\n",
       "44   Gestern kamen die #Asylanten. Heute Nacht wurd...       0.5          True\n",
       "45   Erschreckend, daß es #Frauen sind, die 30 Jahr...       1.0          True\n",
       "46   #Deutschland übt #Karneval nach den Regeln der...       0.5          True\n",
       "52   #Arabisch als Schulsprache - #Islamisierung #D...       0.5          True\n",
       "55   lieber #Horst #Seehofer,der #Bayerische #Staat...       0.5          True\n",
       "59   #maischberger Fratscher:Geld für Migranten als...       1.0          True\n",
       "62   #Reker beugt sich #Islam und #Scharia, schafft...       0.5          True\n",
       "63   #maischberger Liefers: Wir achten Frauen.... F...       1.0          True\n",
       "65   Wir werden noch gemeinsam auf #PEGIDA stehen, ...       0.5          True\n",
       "67   Ich habe bis heute nicht verstanden, was an Du...       1.0          True\n",
       "76   DANKE #Clausnitz FÜR EUREN #WIDERSTAND ! IHR S...       1.0          True\n",
       "78   #Asylanten betteln jetzt auch in den Nachbardö...       0.5          True\n",
       "81   Könnten wir Schmarotzer und Kriminelle loswerd...       1.0          True\n",
       "89   Integrierte werden abgeschoben?Illegale TÄTER ...       0.5          True\n",
       "93   Die #Islamisierung des #Abendlandes ist die sc...       1.0          True\n",
       "97   Ich brauche einen Blog, glaube ich, 140 Zeiche...       1.0          True\n",
       "102  Seit beginn der #Asylflut sprunghafter Anstieg...       0.5          True\n",
       "105  #Kiel Wer jetzt immer noch die Blockparteien w...       0.5          True\n",
       "106  Deutsche Frauen an #rapefugees opfern. #wasist...       1.0          True\n",
       "112  Die heutige Tagesscheisse heist #Hoaxmap. Die ...       0.5          True\n",
       "115  Wenn sie gesagt hätte: \"\"#Domian´, ich hasse d...       0.5          True\n",
       "117  Gerüchten zufolge finden sich in den Netzen de...       0.5          True\n",
       "118  Ich würde gern mal eine #Sondersendung zur täg...       0.5          True\n",
       "119  Was die allermeisten immer noch nicht begriffe...       1.0          True\n",
       "124  Flüchtlinge zwangsweise in Privathaushalten ei...       0.5          True\n",
       "126  Warum ist #deutschland nicht solidarisch mit d...       0.5          True\n",
       "128  #Schwulenhilfe #Berlin richtet für Schwule #As...       1.0          True\n",
       "129  Alles recht ominös mit dem Zugunglück. Wüsste ...       0.5          True\n",
       "130  Dürfen in Stuttgart \"\"#Flüchtlinge\"\" und \"\"#Ra...       0.5          True\n",
       "132  Flüchtlinsheime in denen nicht jeden Tag grati...       0.5          True\n",
       "134  Ich bin für die #Schweinefleischpflicht !!! Hi...       0.5          True\n",
       "135  #Europa ist groß, weil es nie islamisch war. U...       0.5          True\n",
       "139  #Griechenland #Grenze #Mazedonien man muß dies...       0.5          True\n",
       "147  Kostenloses, aber zu langsames Internet in Flü...       0.5          True"
      ]
     },
     "execution_count": 17,
     "metadata": {},
     "output_type": "execute_result"
    }
   ],
   "source": [
    "df[df['binary_label'] == True].head(50)"
   ]
  },
  {
   "cell_type": "code",
   "execution_count": 18,
   "metadata": {},
   "outputs": [
    {
     "name": "stdout",
     "output_type": "stream",
     "text": [
      "raw_text        9169\n",
      "severity        9169\n",
      "binary_label    9169\n",
      "dtype: int64\n",
      "\n",
      "raw_text        9169\n",
      "severity        9169\n",
      "binary_label    9169\n",
      "dtype: int64\n"
     ]
    },
    {
     "data": {
      "text/html": [
       "<div>\n",
       "<style scoped>\n",
       "    .dataframe tbody tr th:only-of-type {\n",
       "        vertical-align: middle;\n",
       "    }\n",
       "\n",
       "    .dataframe tbody tr th {\n",
       "        vertical-align: top;\n",
       "    }\n",
       "\n",
       "    .dataframe thead th {\n",
       "        text-align: right;\n",
       "    }\n",
       "</style>\n",
       "<table border=\"1\" class=\"dataframe\">\n",
       "  <thead>\n",
       "    <tr style=\"text-align: right;\">\n",
       "      <th></th>\n",
       "      <th>raw_text</th>\n",
       "      <th>severity</th>\n",
       "      <th>binary_label</th>\n",
       "    </tr>\n",
       "  </thead>\n",
       "  <tbody>\n",
       "    <tr>\n",
       "      <th>2718</th>\n",
       "      <td>ist ekelhaft  bei ihren Klos kannst du nur mit...</td>\n",
       "      <td>0.0</td>\n",
       "      <td>False</td>\n",
       "    </tr>\n",
       "    <tr>\n",
       "      <th>2818</th>\n",
       "      <td>Bevor Sie mit Jud...</td>\n",
       "      <td>1.0</td>\n",
       "      <td>True</td>\n",
       "    </tr>\n",
       "    <tr>\n",
       "      <th>865</th>\n",
       "      <td>Und de Amis freut es wenn die Heuschrecken Eur...</td>\n",
       "      <td>0.0</td>\n",
       "      <td>False</td>\n",
       "    </tr>\n",
       "    <tr>\n",
       "      <th>2974</th>\n",
       "      <td>:    Die Krim ist ein heißer Tip, auch zum In...</td>\n",
       "      <td>1.0</td>\n",
       "      <td>True</td>\n",
       "    </tr>\n",
       "    <tr>\n",
       "      <th>743</th>\n",
       "      <td>: Es muss in #Deutschland eine politische Kra...</td>\n",
       "      <td>1.0</td>\n",
       "      <td>True</td>\n",
       "    </tr>\n",
       "  </tbody>\n",
       "</table>\n",
       "</div>"
      ],
      "text/plain": [
       "                                               raw_text  severity  \\\n",
       "2718  ist ekelhaft  bei ihren Klos kannst du nur mit...       0.0   \n",
       "2818                               Bevor Sie mit Jud...       1.0   \n",
       "865   Und de Amis freut es wenn die Heuschrecken Eur...       0.0   \n",
       "2974   :    Die Krim ist ein heißer Tip, auch zum In...       1.0   \n",
       "743    : Es muss in #Deutschland eine politische Kra...       1.0   \n",
       "\n",
       "      binary_label  \n",
       "2718         False  \n",
       "2818          True  \n",
       "865          False  \n",
       "2974          True  \n",
       "743           True  "
      ]
     },
     "execution_count": 18,
     "metadata": {},
     "output_type": "execute_result"
    }
   ],
   "source": [
    "import numpy as np\n",
    "print(df.count())\n",
    "print()\n",
    "chosen_idx = np.random.choice(len(df), size=len(df))\n",
    "df = df.iloc[chosen_idx]\n",
    "print(df.count())\n",
    "df.head()"
   ]
  },
  {
   "cell_type": "markdown",
   "metadata": {},
   "source": [
    "# Export Training Set"
   ]
  },
  {
   "cell_type": "code",
   "execution_count": 20,
   "metadata": {},
   "outputs": [],
   "source": [
    "df.to_csv('export/combined_polly_bretschneider_iwg.csv', index=False)\n",
    "df.to_excel('export/combined_polly_bretschneider_iwg.xlsx', index=False)"
   ]
  },
  {
   "cell_type": "code",
   "execution_count": null,
   "metadata": {},
   "outputs": [],
   "source": []
  }
 ],
 "metadata": {
  "kernelspec": {
   "display_name": "Python 3",
   "language": "python",
   "name": "python3"
  },
  "language_info": {
   "codemirror_mode": {
    "name": "ipython",
    "version": 3
   },
   "file_extension": ".py",
   "mimetype": "text/x-python",
   "name": "python",
   "nbconvert_exporter": "python",
   "pygments_lexer": "ipython3",
   "version": "3.7.1"
  }
 },
 "nbformat": 4,
 "nbformat_minor": 2
}
