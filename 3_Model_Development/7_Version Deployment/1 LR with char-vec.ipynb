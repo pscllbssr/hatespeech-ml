{
 "cells": [
  {
   "cell_type": "code",
   "execution_count": 1,
   "metadata": {},
   "outputs": [],
   "source": [
    "import pandas as pd"
   ]
  },
  {
   "cell_type": "markdown",
   "metadata": {},
   "source": [
    "# read in"
   ]
  },
  {
   "cell_type": "code",
   "execution_count": 2,
   "metadata": {},
   "outputs": [
    {
     "data": {
      "text/html": [
       "<div>\n",
       "<style scoped>\n",
       "    .dataframe tbody tr th:only-of-type {\n",
       "        vertical-align: middle;\n",
       "    }\n",
       "\n",
       "    .dataframe tbody tr th {\n",
       "        vertical-align: top;\n",
       "    }\n",
       "\n",
       "    .dataframe thead th {\n",
       "        text-align: right;\n",
       "    }\n",
       "</style>\n",
       "<table border=\"1\" class=\"dataframe\">\n",
       "  <thead>\n",
       "    <tr style=\"text-align: right;\">\n",
       "      <th></th>\n",
       "      <th>raw_text</th>\n",
       "      <th>severity</th>\n",
       "      <th>binary_label</th>\n",
       "    </tr>\n",
       "  </thead>\n",
       "  <tbody>\n",
       "    <tr>\n",
       "      <th>0</th>\n",
       "      <td>ist ekelhaft  bei ihren Klos kannst du nur mit...</td>\n",
       "      <td>0.0</td>\n",
       "      <td>False</td>\n",
       "    </tr>\n",
       "    <tr>\n",
       "      <th>1</th>\n",
       "      <td>Bevor Sie mit Jud...</td>\n",
       "      <td>1.0</td>\n",
       "      <td>True</td>\n",
       "    </tr>\n",
       "    <tr>\n",
       "      <th>2</th>\n",
       "      <td>Und de Amis freut es wenn die Heuschrecken Eur...</td>\n",
       "      <td>0.0</td>\n",
       "      <td>False</td>\n",
       "    </tr>\n",
       "    <tr>\n",
       "      <th>3</th>\n",
       "      <td>:    Die Krim ist ein heißer Tip, auch zum In...</td>\n",
       "      <td>1.0</td>\n",
       "      <td>True</td>\n",
       "    </tr>\n",
       "    <tr>\n",
       "      <th>4</th>\n",
       "      <td>: Es muss in #Deutschland eine politische Kra...</td>\n",
       "      <td>1.0</td>\n",
       "      <td>True</td>\n",
       "    </tr>\n",
       "  </tbody>\n",
       "</table>\n",
       "</div>"
      ],
      "text/plain": [
       "                                            raw_text  severity  binary_label\n",
       "0  ist ekelhaft  bei ihren Klos kannst du nur mit...       0.0         False\n",
       "1                               Bevor Sie mit Jud...       1.0          True\n",
       "2  Und de Amis freut es wenn die Heuschrecken Eur...       0.0         False\n",
       "3   :    Die Krim ist ein heißer Tip, auch zum In...       1.0          True\n",
       "4   : Es muss in #Deutschland eine politische Kra...       1.0          True"
      ]
     },
     "execution_count": 2,
     "metadata": {},
     "output_type": "execute_result"
    }
   ],
   "source": [
    "df = pd.read_csv('../../2_Feature_Engineering/export/combined_polly_bretschneider_iwg.csv')\n",
    "df.head()"
   ]
  },
  {
   "cell_type": "markdown",
   "metadata": {},
   "source": [
    "# clean"
   ]
  },
  {
   "cell_type": "code",
   "execution_count": 3,
   "metadata": {},
   "outputs": [],
   "source": [
    "import sys\n",
    "sys.path.insert(0, r'..\\..\\0_common')\n",
    "from model_helpers import clean_all as ci"
   ]
  },
  {
   "cell_type": "code",
   "execution_count": 4,
   "metadata": {},
   "outputs": [
    {
     "data": {
      "text/html": [
       "<div>\n",
       "<style scoped>\n",
       "    .dataframe tbody tr th:only-of-type {\n",
       "        vertical-align: middle;\n",
       "    }\n",
       "\n",
       "    .dataframe tbody tr th {\n",
       "        vertical-align: top;\n",
       "    }\n",
       "\n",
       "    .dataframe thead th {\n",
       "        text-align: right;\n",
       "    }\n",
       "</style>\n",
       "<table border=\"1\" class=\"dataframe\">\n",
       "  <thead>\n",
       "    <tr style=\"text-align: right;\">\n",
       "      <th></th>\n",
       "      <th>raw_text</th>\n",
       "      <th>severity</th>\n",
       "      <th>binary_label</th>\n",
       "      <th>cleaned_text</th>\n",
       "    </tr>\n",
       "  </thead>\n",
       "  <tbody>\n",
       "    <tr>\n",
       "      <th>0</th>\n",
       "      <td>ist ekelhaft  bei ihren Klos kannst du nur mit...</td>\n",
       "      <td>0.0</td>\n",
       "      <td>False</td>\n",
       "      <td>ekelhaft klos kannst gummistiefel gehen stinkt...</td>\n",
       "    </tr>\n",
       "    <tr>\n",
       "      <th>1</th>\n",
       "      <td>Bevor Sie mit Jud...</td>\n",
       "      <td>1.0</td>\n",
       "      <td>True</td>\n",
       "      <td>bevor judenstern markiert worden juden ganze ...</td>\n",
       "    </tr>\n",
       "    <tr>\n",
       "      <th>2</th>\n",
       "      <td>Und de Amis freut es wenn die Heuschrecken Eur...</td>\n",
       "      <td>0.0</td>\n",
       "      <td>False</td>\n",
       "      <td>de amis freut heuschrecken europa klein wirtsc...</td>\n",
       "    </tr>\n",
       "    <tr>\n",
       "      <th>3</th>\n",
       "      <td>:    Die Krim ist ein heißer Tip, auch zum In...</td>\n",
       "      <td>1.0</td>\n",
       "      <td>True</td>\n",
       "      <td>krim heißer tip investieren muß bürger landes...</td>\n",
       "    </tr>\n",
       "    <tr>\n",
       "      <th>4</th>\n",
       "      <td>: Es muss in #Deutschland eine politische Kra...</td>\n",
       "      <td>1.0</td>\n",
       "      <td>True</td>\n",
       "      <td>deutschland politische kraft geben sozial sch...</td>\n",
       "    </tr>\n",
       "  </tbody>\n",
       "</table>\n",
       "</div>"
      ],
      "text/plain": [
       "                                            raw_text  severity  binary_label  \\\n",
       "0  ist ekelhaft  bei ihren Klos kannst du nur mit...       0.0         False   \n",
       "1                               Bevor Sie mit Jud...       1.0          True   \n",
       "2  Und de Amis freut es wenn die Heuschrecken Eur...       0.0         False   \n",
       "3   :    Die Krim ist ein heißer Tip, auch zum In...       1.0          True   \n",
       "4   : Es muss in #Deutschland eine politische Kra...       1.0          True   \n",
       "\n",
       "                                        cleaned_text  \n",
       "0  ekelhaft klos kannst gummistiefel gehen stinkt...  \n",
       "1   bevor judenstern markiert worden juden ganze ...  \n",
       "2  de amis freut heuschrecken europa klein wirtsc...  \n",
       "3   krim heißer tip investieren muß bürger landes...  \n",
       "4   deutschland politische kraft geben sozial sch...  "
      ]
     },
     "execution_count": 4,
     "metadata": {},
     "output_type": "execute_result"
    }
   ],
   "source": [
    "df['cleaned_text'] = df['raw_text'].apply(ci)\n",
    "df.head()"
   ]
  },
  {
   "cell_type": "code",
   "execution_count": 5,
   "metadata": {},
   "outputs": [
    {
     "data": {
      "text/plain": [
       "(9169, 4)"
      ]
     },
     "execution_count": 5,
     "metadata": {},
     "output_type": "execute_result"
    }
   ],
   "source": [
    "df.shape"
   ]
  },
  {
   "cell_type": "markdown",
   "metadata": {},
   "source": [
    "# vectorize"
   ]
  },
  {
   "cell_type": "code",
   "execution_count": 6,
   "metadata": {},
   "outputs": [],
   "source": [
    "from sklearn.feature_extraction.text import CountVectorizer"
   ]
  },
  {
   "cell_type": "code",
   "execution_count": 7,
   "metadata": {},
   "outputs": [],
   "source": [
    "vec = CountVectorizer(ngram_range=(3,5), analyzer='char_wb', max_features=100000)"
   ]
  },
  {
   "cell_type": "code",
   "execution_count": 8,
   "metadata": {},
   "outputs": [],
   "source": [
    "X_features = vec.fit_transform(df['cleaned_text'])"
   ]
  },
  {
   "cell_type": "code",
   "execution_count": 9,
   "metadata": {},
   "outputs": [
    {
     "data": {
      "text/plain": [
       "(9169, 74355)"
      ]
     },
     "execution_count": 9,
     "metadata": {},
     "output_type": "execute_result"
    }
   ],
   "source": [
    "X_features.shape"
   ]
  },
  {
   "cell_type": "markdown",
   "metadata": {},
   "source": [
    "# initialize model"
   ]
  },
  {
   "cell_type": "code",
   "execution_count": 26,
   "metadata": {},
   "outputs": [],
   "source": [
    "from sklearn.linear_model import LogisticRegression\n",
    "clf = LogisticRegression(solver='liblinear', penalty='l2', C=0.23357214690901212) # params from earlier grid search"
   ]
  },
  {
   "cell_type": "markdown",
   "metadata": {},
   "source": [
    "# Cross validation"
   ]
  },
  {
   "cell_type": "code",
   "execution_count": 31,
   "metadata": {},
   "outputs": [],
   "source": [
    "from sklearn.model_selection import cross_validate\n",
    "scores = cross_validate(clf, X_features, df['binary_label'], cv=5,\n",
    "                        scoring=('f1', 'roc_auc', 'precision', 'recall'),\n",
    "                        return_train_score=True)"
   ]
  },
  {
   "cell_type": "code",
   "execution_count": 32,
   "metadata": {},
   "outputs": [
    {
     "data": {
      "text/plain": [
       "['fit_time',\n",
       " 'score_time',\n",
       " 'test_f1',\n",
       " 'test_precision',\n",
       " 'test_recall',\n",
       " 'test_roc_auc',\n",
       " 'train_f1',\n",
       " 'train_precision',\n",
       " 'train_recall',\n",
       " 'train_roc_auc']"
      ]
     },
     "execution_count": 32,
     "metadata": {},
     "output_type": "execute_result"
    }
   ],
   "source": [
    "sorted(scores.keys())"
   ]
  },
  {
   "cell_type": "code",
   "execution_count": 33,
   "metadata": {},
   "outputs": [
    {
     "data": {
      "text/html": [
       "<div>\n",
       "<style scoped>\n",
       "    .dataframe tbody tr th:only-of-type {\n",
       "        vertical-align: middle;\n",
       "    }\n",
       "\n",
       "    .dataframe tbody tr th {\n",
       "        vertical-align: top;\n",
       "    }\n",
       "\n",
       "    .dataframe thead th {\n",
       "        text-align: right;\n",
       "    }\n",
       "</style>\n",
       "<table border=\"1\" class=\"dataframe\">\n",
       "  <thead>\n",
       "    <tr style=\"text-align: right;\">\n",
       "      <th></th>\n",
       "      <th>fit_time</th>\n",
       "      <th>score_time</th>\n",
       "      <th>test_f1</th>\n",
       "      <th>train_f1</th>\n",
       "      <th>test_roc_auc</th>\n",
       "      <th>train_roc_auc</th>\n",
       "      <th>test_precision</th>\n",
       "      <th>train_precision</th>\n",
       "      <th>test_recall</th>\n",
       "      <th>train_recall</th>\n",
       "    </tr>\n",
       "  </thead>\n",
       "  <tbody>\n",
       "    <tr>\n",
       "      <th>0</th>\n",
       "      <td>0.673151</td>\n",
       "      <td>0.010982</td>\n",
       "      <td>0.902810</td>\n",
       "      <td>0.992885</td>\n",
       "      <td>0.953503</td>\n",
       "      <td>0.999755</td>\n",
       "      <td>0.913507</td>\n",
       "      <td>0.996212</td>\n",
       "      <td>0.892361</td>\n",
       "      <td>0.989580</td>\n",
       "    </tr>\n",
       "    <tr>\n",
       "      <th>1</th>\n",
       "      <td>0.756977</td>\n",
       "      <td>0.010970</td>\n",
       "      <td>0.909305</td>\n",
       "      <td>0.992739</td>\n",
       "      <td>0.958194</td>\n",
       "      <td>0.999817</td>\n",
       "      <td>0.925659</td>\n",
       "      <td>0.996211</td>\n",
       "      <td>0.893519</td>\n",
       "      <td>0.989291</td>\n",
       "    </tr>\n",
       "    <tr>\n",
       "      <th>2</th>\n",
       "      <td>0.717080</td>\n",
       "      <td>0.009973</td>\n",
       "      <td>0.895981</td>\n",
       "      <td>0.991557</td>\n",
       "      <td>0.958750</td>\n",
       "      <td>0.999748</td>\n",
       "      <td>0.915459</td>\n",
       "      <td>0.997365</td>\n",
       "      <td>0.877315</td>\n",
       "      <td>0.985818</td>\n",
       "    </tr>\n",
       "    <tr>\n",
       "      <th>3</th>\n",
       "      <td>0.684167</td>\n",
       "      <td>0.012966</td>\n",
       "      <td>0.911124</td>\n",
       "      <td>0.991995</td>\n",
       "      <td>0.967356</td>\n",
       "      <td>0.999842</td>\n",
       "      <td>0.926946</td>\n",
       "      <td>0.997658</td>\n",
       "      <td>0.895833</td>\n",
       "      <td>0.986397</td>\n",
       "    </tr>\n",
       "    <tr>\n",
       "      <th>4</th>\n",
       "      <td>0.850725</td>\n",
       "      <td>0.010969</td>\n",
       "      <td>0.912565</td>\n",
       "      <td>0.993318</td>\n",
       "      <td>0.964706</td>\n",
       "      <td>0.999814</td>\n",
       "      <td>0.912037</td>\n",
       "      <td>0.997375</td>\n",
       "      <td>0.913094</td>\n",
       "      <td>0.989294</td>\n",
       "    </tr>\n",
       "  </tbody>\n",
       "</table>\n",
       "</div>"
      ],
      "text/plain": [
       "   fit_time  score_time   test_f1  train_f1  test_roc_auc  train_roc_auc  \\\n",
       "0  0.673151    0.010982  0.902810  0.992885      0.953503       0.999755   \n",
       "1  0.756977    0.010970  0.909305  0.992739      0.958194       0.999817   \n",
       "2  0.717080    0.009973  0.895981  0.991557      0.958750       0.999748   \n",
       "3  0.684167    0.012966  0.911124  0.991995      0.967356       0.999842   \n",
       "4  0.850725    0.010969  0.912565  0.993318      0.964706       0.999814   \n",
       "\n",
       "   test_precision  train_precision  test_recall  train_recall  \n",
       "0        0.913507         0.996212     0.892361      0.989580  \n",
       "1        0.925659         0.996211     0.893519      0.989291  \n",
       "2        0.915459         0.997365     0.877315      0.985818  \n",
       "3        0.926946         0.997658     0.895833      0.986397  \n",
       "4        0.912037         0.997375     0.913094      0.989294  "
      ]
     },
     "execution_count": 33,
     "metadata": {},
     "output_type": "execute_result"
    }
   ],
   "source": [
    "scores_df = pd.DataFrame(scores)\n",
    "scores_df"
   ]
  },
  {
   "cell_type": "code",
   "execution_count": 36,
   "metadata": {},
   "outputs": [
    {
     "data": {
      "text/plain": [
       "test_f1           0.906357\n",
       "test_roc_auc      0.960502\n",
       "test_precision    0.918722\n",
       "test_recall       0.894424\n",
       "dtype: float64"
      ]
     },
     "execution_count": 36,
     "metadata": {},
     "output_type": "execute_result"
    }
   ],
   "source": [
    "# metrics\n",
    "scores_df[['test_f1', 'test_roc_auc', 'test_precision', 'test_recall']].mean()"
   ]
  },
  {
   "cell_type": "code",
   "execution_count": null,
   "metadata": {},
   "outputs": [],
   "source": []
  }
 ],
 "metadata": {
  "kernelspec": {
   "display_name": "Python 3",
   "language": "python",
   "name": "python3"
  },
  "language_info": {
   "codemirror_mode": {
    "name": "ipython",
    "version": 3
   },
   "file_extension": ".py",
   "mimetype": "text/x-python",
   "name": "python",
   "nbconvert_exporter": "python",
   "pygments_lexer": "ipython3",
   "version": "3.7.1"
  }
 },
 "nbformat": 4,
 "nbformat_minor": 2
}
