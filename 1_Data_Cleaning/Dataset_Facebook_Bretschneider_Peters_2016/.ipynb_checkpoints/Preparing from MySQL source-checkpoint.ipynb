{
 "cells": [
  {
   "cell_type": "markdown",
   "metadata": {},
   "source": [
    "# Preparing Data --> CSV"
   ]
  },
  {
   "cell_type": "markdown",
   "metadata": {},
   "source": [
    "The data set is from http://www.ub-web.de/research/index.html. For information about the given data head over to the website.\n",
    "\n",
    "I am using the SQL-Version of the dataset. So to follow along it is necessary to have a mysql-server installed and imported the mysql-dump from the source."
   ]
  },
  {
   "cell_type": "code",
   "execution_count": 4,
   "metadata": {},
   "outputs": [
    {
     "name": "stdout",
     "output_type": "stream",
     "text": [
      "Collecting mysql-connector\n",
      "  Downloading https://files.pythonhosted.org/packages/59/e0/775bf5fb3dd4c7f9aa6877907d4a96eecca6886c603dedfea6e843e94560/mysql-connector-2.1.6.tar.gz (11.8MB)\n",
      "Building wheels for collected packages: mysql-connector\n",
      "  Running setup.py bdist_wheel for mysql-connector: started\n",
      "  Running setup.py bdist_wheel for mysql-connector: finished with status 'done'\n",
      "  Stored in directory: C:\\Users\\pascal\\AppData\\Local\\pip\\Cache\\wheels\\8a\\35\\dd\\9324d413c350bd1a9f92ee2894d78a4b4e19eb32477a69cd1c\n",
      "Successfully built mysql-connector\n",
      "Installing collected packages: mysql-connector\n",
      "Successfully installed mysql-connector-2.1.6\n"
     ]
    }
   ],
   "source": [
    "# install mysql-connector\n",
    "import sys\n",
    "!{sys.executable} -m pip install mysql-connector"
   ]
  },
  {
   "cell_type": "code",
   "execution_count": 9,
   "metadata": {},
   "outputs": [
    {
     "name": "stdout",
     "output_type": "stream",
     "text": [
      "<mysql.connector.connection.MySQLConnection object at 0x00000151EC50A5C0>\n"
     ]
    }
   ],
   "source": [
    "# import connector and test connection\n",
    "import mysql.connector\n",
    "\n",
    "mydb = mysql.connector.connect(\n",
    "  host=\"localhost\",\n",
    "  user=\"root\",\n",
    "  passwd=\"\",\n",
    "    database=\"hate_speech_fb\"\n",
    ")\n",
    "\n",
    "print(mydb)"
   ]
  },
  {
   "cell_type": "code",
   "execution_count": 10,
   "metadata": {},
   "outputs": [],
   "source": [
    "query = \"select `c`.`comment_id` AS `comment_id`,`c`.`message` AS `comment`,`c`.`anonymized_user` AS `author`,group_concat(`a`.`valence` separator ',') AS `valence`,group_concat(`a`.`annotator_id` separator ',') AS `expert_ids`,group_concat(`a`.`target_type` separator ',') AS `target_type`,`p`.`post_id` AS `post_id`,`p`.`post_message` AS `post` from ((`comments` `c` left join `annotated_comments` `a` on((`a`.`comment_id` = `c`.`comment_id`))) left join `posts` `p` on((`p`.`post_id` = `c`.`post_id`))) group by `c`.`comment_id`\""
   ]
  },
  {
   "cell_type": "code",
   "execution_count": 11,
   "metadata": {},
   "outputs": [],
   "source": [
    "mycursor = mydb.cursor()\n",
    "\n",
    "mycursor.execute(query)\n",
    "\n",
    "myresult = mycursor.fetchall()"
   ]
  },
  {
   "cell_type": "code",
   "execution_count": 15,
   "metadata": {},
   "outputs": [
    {
     "name": "stdout",
     "output_type": "stream",
     "text": [
      "(1, 'gleich an die wand stellen und erschiessen..', 'd766dfb93914e8da', '2,2', '1,3', '2,2', 1, 'tja .... das Ergebniss ungebremsten Zuzug ...')\n",
      "(2, 'nicht dass ich der Grundbotschaft dieses Post\\'s widersprechen würde, aber 1 Rechtschreib- und 1 Grammatikfehler in einer so kurzen Beschreibung stärkt leider nur das clichee \"blau-Wähler haben nichts im Hirn\" bei dem politischen Gegenüber.', '6e49f84e2a5a1f05', None, None, None, 1, 'tja .... das Ergebniss ungebremsten Zuzug ...')\n",
      "(3, 'Das mit dem \"an die Wand stellen und erschiessen\"', '6ab1ef4615c45a79', None, None, None, 1, 'tja .... das Ergebniss ungebremsten Zuzug ...')\n",
      "(4, 'Seit dem \"an die Wand stellen und erschiessen\" sind in Deutschland nun etwa 60 Jahre her.', '6ab1ef4615c45a79', None, None, None, 1, 'tja .... das Ergebniss ungebremsten Zuzug ...')\n",
      "(5, 'Ja ja die Kriminelle Heimatpartei FPÖ von Kinderpornografie beim Orts Chef von Burgenlabd bis Waffenhandel von Betrug Verhetzung bis Körperverletzung von falscher Zeugenaussage bis Mord bei RFJ....bezirksleiter schießt 13 Jährige über den Haufen Bundesrat wegen Wiederbetätigung verurteilt', '03c34eadeee054d7', None, None, None, 1, 'tja .... das Ergebniss ungebremsten Zuzug ...')\n",
      "(6, 'Ihr seids empfindlich . . Is beste wos uns passieren kann is , das Sie die Herrschaften selbst Niederfeiln . Und Ihr grünen . Euch wollte ich Danken . Euch Hurenkinder können wir den ganzen Scheiß verdanken.', '0a2677e4af5c892b', '2,2', '1,3', '5,5', 2, '........19-jähriger Tschetschene, ........ bei der ein 20-jähriger Afghane..................../////// Tja')\n",
      "(7, 'Mei bitte, sie sollen sich alle gegenseitig abstechen! Problem gelöst!', 'a083e009d85b9476', '2,2', '1,3', '2,2', 2, '........19-jähriger Tschetschene, ........ bei der ein 20-jähriger Afghane..................../////// Tja')\n",
      "(8, 'Wahnsinn.... :-(', 'd5d9e05c5bc9cff0', None, None, None, 2, '........19-jähriger Tschetschene, ........ bei der ein 20-jähriger Afghane..................../////// Tja')\n",
      "(9, 'Alles nur traumatisierte Kindlein.  Die von den Grünen bezahlten Anwälte werden es schon richten. ?', '8acea189036f77df', None, None, None, 2, '........19-jähriger Tschetschene, ........ bei der ein 20-jähriger Afghane..................../////// Tja')\n",
      "(10, 'Fachkräfte bei der Arbeit. Ein Hirnchirurg und ein Atomphysiker...', '0d7f58a3b74f2739', None, None, None, 2, '........19-jähriger Tschetschene, ........ bei der ein 20-jähriger Afghane..................../////// Tja')\n",
      "(11, 'Unglaublich, was für ausländerfeindliche Kommentare man immer wieder zu lesen bekommt und unglaublich, wieviel Nazi noch in vielen Deutschen drinsteckt.', '6ab1ef4615c45a79', '2,2', '1,3', '5,5', 2, '........19-jähriger Tschetschene, ........ bei der ein 20-jähriger Afghane..................../////// Tja')\n"
     ]
    }
   ],
   "source": [
    "for x in myresult:\n",
    "    print(x)\n",
    "    if(x[0] > 10):\n",
    "        break"
   ]
  },
  {
   "cell_type": "code",
   "execution_count": 16,
   "metadata": {},
   "outputs": [],
   "source": [
    "import csv"
   ]
  },
  {
   "cell_type": "code",
   "execution_count": 22,
   "metadata": {},
   "outputs": [],
   "source": [
    "with open('comments.csv', 'w', encoding='utf-8') as f:    \n",
    "    c = csv.writer(f)\n",
    "    for x in myresult:\n",
    "        c.writerow(x)\n"
   ]
  },
  {
   "cell_type": "code",
   "execution_count": null,
   "metadata": {},
   "outputs": [],
   "source": []
  }
 ],
 "metadata": {
  "kernelspec": {
   "display_name": "Python 3",
   "language": "python",
   "name": "python3"
  },
  "language_info": {
   "codemirror_mode": {
    "name": "ipython",
    "version": 3
   },
   "file_extension": ".py",
   "mimetype": "text/x-python",
   "name": "python",
   "nbconvert_exporter": "python",
   "pygments_lexer": "ipython3",
   "version": "3.7.1"
  }
 },
 "nbformat": 4,
 "nbformat_minor": 2
}
