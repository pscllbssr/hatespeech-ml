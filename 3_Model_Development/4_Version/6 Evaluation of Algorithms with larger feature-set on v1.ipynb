{
 "cells": [
  {
   "cell_type": "code",
   "execution_count": 1,
   "metadata": {},
   "outputs": [],
   "source": [
    "import pandas as pd"
   ]
  },
  {
   "cell_type": "markdown",
   "metadata": {},
   "source": [
    "# read in"
   ]
  },
  {
   "cell_type": "code",
   "execution_count": 2,
   "metadata": {},
   "outputs": [
    {
     "data": {
      "text/html": [
       "<div>\n",
       "<style scoped>\n",
       "    .dataframe tbody tr th:only-of-type {\n",
       "        vertical-align: middle;\n",
       "    }\n",
       "\n",
       "    .dataframe tbody tr th {\n",
       "        vertical-align: top;\n",
       "    }\n",
       "\n",
       "    .dataframe thead th {\n",
       "        text-align: right;\n",
       "    }\n",
       "</style>\n",
       "<table border=\"1\" class=\"dataframe\">\n",
       "  <thead>\n",
       "    <tr style=\"text-align: right;\">\n",
       "      <th></th>\n",
       "      <th>raw_text</th>\n",
       "      <th>severity</th>\n",
       "      <th>binary_label</th>\n",
       "    </tr>\n",
       "  </thead>\n",
       "  <tbody>\n",
       "    <tr>\n",
       "      <th>0</th>\n",
       "      <td>Ich warte schon darauf, dass man die Terrorist...</td>\n",
       "      <td>0.0</td>\n",
       "      <td>False</td>\n",
       "    </tr>\n",
       "    <tr>\n",
       "      <th>1</th>\n",
       "      <td>Holt Björn Höcke ins Boot vielleicht haben wir...</td>\n",
       "      <td>0.0</td>\n",
       "      <td>False</td>\n",
       "    </tr>\n",
       "    <tr>\n",
       "      <th>2</th>\n",
       "      <td>Deutscher, turkmenischer Abstammung bitte. Was...</td>\n",
       "      <td>0.0</td>\n",
       "      <td>False</td>\n",
       "    </tr>\n",
       "    <tr>\n",
       "      <th>3</th>\n",
       "      <td>Wer glaubt die gehen wieder , ist einfach nur ...</td>\n",
       "      <td>0.0</td>\n",
       "      <td>False</td>\n",
       "    </tr>\n",
       "    <tr>\n",
       "      <th>4</th>\n",
       "      <td>Man wünscht sich eine schlagkräftige Bürgerweh...</td>\n",
       "      <td>0.0</td>\n",
       "      <td>False</td>\n",
       "    </tr>\n",
       "  </tbody>\n",
       "</table>\n",
       "</div>"
      ],
      "text/plain": [
       "                                            raw_text  severity  binary_label\n",
       "0  Ich warte schon darauf, dass man die Terrorist...       0.0         False\n",
       "1  Holt Björn Höcke ins Boot vielleicht haben wir...       0.0         False\n",
       "2  Deutscher, turkmenischer Abstammung bitte. Was...       0.0         False\n",
       "3  Wer glaubt die gehen wieder , ist einfach nur ...       0.0         False\n",
       "4  Man wünscht sich eine schlagkräftige Bürgerweh...       0.0         False"
      ]
     },
     "execution_count": 2,
     "metadata": {},
     "output_type": "execute_result"
    }
   ],
   "source": [
    "df = pd.read_csv('../../2_Feature_Engineering/export/randomized_balanced_dataset.csv')\n",
    "df.head()"
   ]
  },
  {
   "cell_type": "markdown",
   "metadata": {},
   "source": [
    "# clean"
   ]
  },
  {
   "cell_type": "code",
   "execution_count": 3,
   "metadata": {},
   "outputs": [],
   "source": [
    "import sys\n",
    "sys.path.insert(0, r'..\\..\\0_common')\n",
    "from model_helpers import clean_all as ci"
   ]
  },
  {
   "cell_type": "code",
   "execution_count": 4,
   "metadata": {},
   "outputs": [
    {
     "data": {
      "text/html": [
       "<div>\n",
       "<style scoped>\n",
       "    .dataframe tbody tr th:only-of-type {\n",
       "        vertical-align: middle;\n",
       "    }\n",
       "\n",
       "    .dataframe tbody tr th {\n",
       "        vertical-align: top;\n",
       "    }\n",
       "\n",
       "    .dataframe thead th {\n",
       "        text-align: right;\n",
       "    }\n",
       "</style>\n",
       "<table border=\"1\" class=\"dataframe\">\n",
       "  <thead>\n",
       "    <tr style=\"text-align: right;\">\n",
       "      <th></th>\n",
       "      <th>raw_text</th>\n",
       "      <th>severity</th>\n",
       "      <th>binary_label</th>\n",
       "      <th>cleaned_text</th>\n",
       "    </tr>\n",
       "  </thead>\n",
       "  <tbody>\n",
       "    <tr>\n",
       "      <th>0</th>\n",
       "      <td>Ich warte schon darauf, dass man die Terrorist...</td>\n",
       "      <td>0.0</td>\n",
       "      <td>False</td>\n",
       "      <td>warte schon darauf das terroristen opfern mach...</td>\n",
       "    </tr>\n",
       "    <tr>\n",
       "      <th>1</th>\n",
       "      <td>Holt Björn Höcke ins Boot vielleicht haben wir...</td>\n",
       "      <td>0.0</td>\n",
       "      <td>False</td>\n",
       "      <td>holt björn höcke boot vielleicht letzte chance...</td>\n",
       "    </tr>\n",
       "    <tr>\n",
       "      <th>2</th>\n",
       "      <td>Deutscher, turkmenischer Abstammung bitte. Was...</td>\n",
       "      <td>0.0</td>\n",
       "      <td>False</td>\n",
       "      <td>deutscher turkmenischer abstammung bitte graue...</td>\n",
       "    </tr>\n",
       "    <tr>\n",
       "      <th>3</th>\n",
       "      <td>Wer glaubt die gehen wieder , ist einfach nur ...</td>\n",
       "      <td>0.0</td>\n",
       "      <td>False</td>\n",
       "      <td>wer glaubt gehen einfach blauäugig</td>\n",
       "    </tr>\n",
       "    <tr>\n",
       "      <th>4</th>\n",
       "      <td>Man wünscht sich eine schlagkräftige Bürgerweh...</td>\n",
       "      <td>0.0</td>\n",
       "      <td>False</td>\n",
       "      <td>wünscht schlagkräftige bürgerwehr sophienhof p...</td>\n",
       "    </tr>\n",
       "  </tbody>\n",
       "</table>\n",
       "</div>"
      ],
      "text/plain": [
       "                                            raw_text  severity  binary_label  \\\n",
       "0  Ich warte schon darauf, dass man die Terrorist...       0.0         False   \n",
       "1  Holt Björn Höcke ins Boot vielleicht haben wir...       0.0         False   \n",
       "2  Deutscher, turkmenischer Abstammung bitte. Was...       0.0         False   \n",
       "3  Wer glaubt die gehen wieder , ist einfach nur ...       0.0         False   \n",
       "4  Man wünscht sich eine schlagkräftige Bürgerweh...       0.0         False   \n",
       "\n",
       "                                        cleaned_text  \n",
       "0  warte schon darauf das terroristen opfern mach...  \n",
       "1  holt björn höcke boot vielleicht letzte chance...  \n",
       "2  deutscher turkmenischer abstammung bitte graue...  \n",
       "3                wer glaubt gehen einfach blauäugig   \n",
       "4  wünscht schlagkräftige bürgerwehr sophienhof p...  "
      ]
     },
     "execution_count": 4,
     "metadata": {},
     "output_type": "execute_result"
    }
   ],
   "source": [
    "df['cleaned_text'] = df['raw_text'].apply(ci)\n",
    "df.head()"
   ]
  },
  {
   "cell_type": "markdown",
   "metadata": {},
   "source": [
    "# vectorize"
   ]
  },
  {
   "cell_type": "code",
   "execution_count": 5,
   "metadata": {},
   "outputs": [],
   "source": [
    "from sklearn.feature_extraction.text import CountVectorizer"
   ]
  },
  {
   "cell_type": "code",
   "execution_count": 6,
   "metadata": {},
   "outputs": [],
   "source": [
    "vec = CountVectorizer(ngram_range=(2,5), analyzer='char_wb', stop_words='german', max_features=100000)"
   ]
  },
  {
   "cell_type": "code",
   "execution_count": 7,
   "metadata": {},
   "outputs": [],
   "source": [
    "X_features = vec.fit_transform(df['cleaned_text'])"
   ]
  },
  {
   "cell_type": "code",
   "execution_count": 8,
   "metadata": {},
   "outputs": [
    {
     "data": {
      "text/plain": [
       "(1828, 45712)"
      ]
     },
     "execution_count": 8,
     "metadata": {},
     "output_type": "execute_result"
    }
   ],
   "source": [
    "X_features.shape"
   ]
  },
  {
   "cell_type": "markdown",
   "metadata": {},
   "source": [
    "# main function"
   ]
  },
  {
   "cell_type": "code",
   "execution_count": 9,
   "metadata": {},
   "outputs": [],
   "source": [
    "def split_train_score(features, labels, clf):\n",
    "    \n",
    "    # split\n",
    "    from sklearn.model_selection import train_test_split\n",
    "    X_train, X_test, y_train, y_test = train_test_split(features, labels, test_size=0.2, shuffle=True)\n",
    "    \n",
    "    #train    \n",
    "    clf.fit(X_train, y_train)\n",
    "    \n",
    "    # score\n",
    "    from sklearn.metrics import precision_recall_fscore_support as score\n",
    "    y_pred = clf.predict(X_test)\n",
    "    precision, recall, fscore, support = score(y_test, y_pred, pos_label=True, average='binary')\n",
    "    \n",
    "    # confusion matrix\n",
    "    from sklearn.metrics import confusion_matrix\n",
    "    matrix = confusion_matrix(y_test, y_pred)\n",
    "    m_df = pd.DataFrame(\n",
    "    matrix, \n",
    "    columns=[\"Negatives\", \"Positives\"],\n",
    "    index=[\"Negatives\", \"Positives\"])\n",
    "    \n",
    "    return fscore, precision, recall, m_df"
   ]
  },
  {
   "cell_type": "markdown",
   "metadata": {},
   "source": [
    "# Evaluate Function"
   ]
  },
  {
   "cell_type": "code",
   "execution_count": 10,
   "metadata": {},
   "outputs": [],
   "source": [
    "scores = {}\n",
    "matrices = {}"
   ]
  },
  {
   "cell_type": "code",
   "execution_count": 11,
   "metadata": {},
   "outputs": [],
   "source": [
    "def evaluate_algo(key, clf):\n",
    "    scores[key] = []\n",
    "    matrices[key] = []\n",
    "\n",
    "    for i in range(10):\n",
    "        fscore, precision, recall, confusion_matrix = split_train_score(X_features, df['binary_label'], clf)\n",
    "        scores[key].append([fscore, precision, recall])\n",
    "        matrices[key].append(confusion_matrix)\n",
    "\n",
    "    scores_df = pd.DataFrame(scores[key], columns=['fscore', 'precision', 'recall']) \n",
    "    fscore_avg = round(scores_df['fscore'].mean(),3)\n",
    "    prec_avg = round(scores_df['precision'].mean(),3)\n",
    "    rec_avg = round(scores_df['recall'].mean(),3)\n",
    "    \n",
    "    '''\n",
    "    print(key.upper())\n",
    "    print('---')\n",
    "    print('Fscore: ', fscore_avg)\n",
    "    print('Min/Max: {} / {} '.format(round(scores_df['fscore'].max(), 3), round(scores_df['fscore'].min(),3)))\n",
    "    '''\n",
    "    \n",
    "    return fscore_avg, prec_avg, rec_avg"
   ]
  },
  {
   "cell_type": "markdown",
   "metadata": {},
   "source": [
    "# Evaluate"
   ]
  },
  {
   "cell_type": "code",
   "execution_count": 12,
   "metadata": {},
   "outputs": [],
   "source": [
    "from sklearn.linear_model import LogisticRegression\n",
    "from sklearn.tree import DecisionTreeClassifier\n",
    "from sklearn.naive_bayes import BernoulliNB\n",
    "from sklearn.linear_model import SGDClassifier\n",
    "from sklearn.naive_bayes import MultinomialNB\n",
    "from sklearn.ensemble import RandomForestClassifier\n",
    "\n",
    "algos = {\n",
    "    'lr': LogisticRegression(),\n",
    "    'dct': DecisionTreeClassifier(),\n",
    "    'bnb': BernoulliNB(),\n",
    "    'mnb': MultinomialNB(),\n",
    "    'svm': SGDClassifier(),\n",
    "    'rf': RandomForestClassifier()\n",
    "}"
   ]
  },
  {
   "cell_type": "code",
   "execution_count": 13,
   "metadata": {},
   "outputs": [
    {
     "name": "stderr",
     "output_type": "stream",
     "text": [
      "C:\\Users\\pascal\\Anaconda3\\lib\\site-packages\\sklearn\\linear_model\\logistic.py:433: FutureWarning: Default solver will be changed to 'lbfgs' in 0.22. Specify a solver to silence this warning.\n",
      "  FutureWarning)\n",
      "C:\\Users\\pascal\\Anaconda3\\lib\\site-packages\\sklearn\\linear_model\\stochastic_gradient.py:166: FutureWarning: max_iter and tol parameters have been added in SGDClassifier in 0.19. If both are left unset, they default to max_iter=5 and tol=None. If tol is not None, max_iter defaults to max_iter=1000. From 0.21, default max_iter will be 1000, and default tol will be 1e-3.\n",
      "  FutureWarning)\n",
      "C:\\Users\\pascal\\Anaconda3\\lib\\site-packages\\sklearn\\ensemble\\forest.py:246: FutureWarning: The default value of n_estimators will change from 10 in version 0.20 to 100 in 0.22.\n",
      "  \"10 in version 0.20 to 100 in 0.22.\", FutureWarning)\n"
     ]
    },
    {
     "name": "stdout",
     "output_type": "stream",
     "text": [
      "     fscore  precision  recall\n",
      "lr    0.728      0.765   0.695\n",
      "mnb   0.727      0.709   0.748\n",
      "dct   0.701      0.714   0.691\n",
      "svm   0.681      0.654   0.723\n",
      "rf    0.668      0.762   0.597\n",
      "bnb   0.615      0.769   0.512\n"
     ]
    },
    {
     "name": "stderr",
     "output_type": "stream",
     "text": [
      "C:\\Users\\pascal\\Anaconda3\\lib\\site-packages\\sklearn\\linear_model\\logistic.py:433: FutureWarning: Default solver will be changed to 'lbfgs' in 0.22. Specify a solver to silence this warning.\n",
      "  FutureWarning)\n",
      "C:\\Users\\pascal\\Anaconda3\\lib\\site-packages\\sklearn\\linear_model\\stochastic_gradient.py:166: FutureWarning: max_iter and tol parameters have been added in SGDClassifier in 0.19. If both are left unset, they default to max_iter=5 and tol=None. If tol is not None, max_iter defaults to max_iter=1000. From 0.21, default max_iter will be 1000, and default tol will be 1e-3.\n",
      "  FutureWarning)\n"
     ]
    },
    {
     "name": "stdout",
     "output_type": "stream",
     "text": [
      "     fscore  precision  recall\n",
      "lr    0.736      0.758   0.716\n",
      "mnb   0.717      0.695   0.742\n",
      "dct   0.712      0.725   0.702\n",
      "rf    0.667      0.776   0.585\n",
      "svm   0.666      0.683   0.665\n",
      "bnb   0.620      0.773   0.519\n"
     ]
    },
    {
     "name": "stderr",
     "output_type": "stream",
     "text": [
      "C:\\Users\\pascal\\Anaconda3\\lib\\site-packages\\sklearn\\linear_model\\logistic.py:433: FutureWarning: Default solver will be changed to 'lbfgs' in 0.22. Specify a solver to silence this warning.\n",
      "  FutureWarning)\n",
      "C:\\Users\\pascal\\Anaconda3\\lib\\site-packages\\sklearn\\linear_model\\stochastic_gradient.py:166: FutureWarning: max_iter and tol parameters have been added in SGDClassifier in 0.19. If both are left unset, they default to max_iter=5 and tol=None. If tol is not None, max_iter defaults to max_iter=1000. From 0.21, default max_iter will be 1000, and default tol will be 1e-3.\n",
      "  FutureWarning)\n"
     ]
    },
    {
     "name": "stdout",
     "output_type": "stream",
     "text": [
      "     fscore  precision  recall\n",
      "lr    0.746      0.778   0.717\n",
      "mnb   0.720      0.710   0.733\n",
      "dct   0.710      0.726   0.695\n",
      "svm   0.672      0.674   0.694\n",
      "rf    0.661      0.780   0.575\n",
      "bnb   0.591      0.754   0.488\n"
     ]
    }
   ],
   "source": [
    "for i in range(3):    \n",
    "    results = {}\n",
    "\n",
    "    for index, clf in algos.items():\n",
    "        fscore, precision, recall = evaluate_algo(index, clf)\n",
    "        results[index] = [fscore, precision, recall]\n",
    "\n",
    "    result_df = pd.DataFrame.from_dict(results, orient = 'index', columns=['fscore', 'precision', 'recall']).sort_values('fscore', ascending=False)\n",
    "    print(result_df)"
   ]
  },
  {
   "cell_type": "code",
   "execution_count": null,
   "metadata": {},
   "outputs": [],
   "source": []
  }
 ],
 "metadata": {
  "kernelspec": {
   "display_name": "Python 3",
   "language": "python",
   "name": "python3"
  },
  "language_info": {
   "codemirror_mode": {
    "name": "ipython",
    "version": 3
   },
   "file_extension": ".py",
   "mimetype": "text/x-python",
   "name": "python",
   "nbconvert_exporter": "python",
   "pygments_lexer": "ipython3",
   "version": "3.7.1"
  }
 },
 "nbformat": 4,
 "nbformat_minor": 2
}
