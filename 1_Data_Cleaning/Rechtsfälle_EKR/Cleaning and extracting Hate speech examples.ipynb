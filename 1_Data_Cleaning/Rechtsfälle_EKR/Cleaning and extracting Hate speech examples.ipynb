{
 "cells": [
  {
   "cell_type": "code",
   "execution_count": 1,
   "metadata": {},
   "outputs": [],
   "source": [
    "import pandas as pd"
   ]
  },
  {
   "cell_type": "code",
   "execution_count": 2,
   "metadata": {},
   "outputs": [],
   "source": [
    "df = pd.read_csv('sammlung_rechtsfaelle.csv')"
   ]
  },
  {
   "cell_type": "code",
   "execution_count": 3,
   "metadata": {},
   "outputs": [
    {
     "data": {
      "text/html": [
       "<div>\n",
       "<style scoped>\n",
       "    .dataframe tbody tr th:only-of-type {\n",
       "        vertical-align: middle;\n",
       "    }\n",
       "\n",
       "    .dataframe tbody tr th {\n",
       "        vertical-align: top;\n",
       "    }\n",
       "\n",
       "    .dataframe thead th {\n",
       "        text-align: right;\n",
       "    }\n",
       "</style>\n",
       "<table border=\"1\" class=\"dataframe\">\n",
       "  <thead>\n",
       "    <tr style=\"text-align: right;\">\n",
       "      <th></th>\n",
       "      <th>Gesellschaftliches Umfeld</th>\n",
       "      <th>Ideologie</th>\n",
       "      <th>Opfergruppen</th>\n",
       "      <th>Tatmittel</th>\n",
       "      <th>Tätergruppen</th>\n",
       "      <th>link</th>\n",
       "      <th>result</th>\n",
       "      <th>text</th>\n",
       "      <th>year</th>\n",
       "    </tr>\n",
       "  </thead>\n",
       "  <tbody>\n",
       "    <tr>\n",
       "      <th>0</th>\n",
       "      <td>Vereine / Verbände / Organisationen;\\r\\nMassen...</td>\n",
       "      <td>Antisemitismus;\\r\\nWeitere Ideologien</td>\n",
       "      <td>Juden</td>\n",
       "      <td>Schrift;\\r\\nVerbreiten von rassistischem Material</td>\n",
       "      <td>Privatpersonen</td>\n",
       "      <td>http://www.ekr.admin.ch/dienstleistungen/d524/...</td>\n",
       "      <td>1. kantonale Instanz verurteilt den Angeklagte...</td>\n",
       "      <td>#Kurzfassung\\r\\nDer Angeklagte wurde angeklagt...</td>\n",
       "      <td>2001</td>\n",
       "    </tr>\n",
       "    <tr>\n",
       "      <th>1</th>\n",
       "      <td>Vereine / Verbände / Organisationen;\\r\\nMassen...</td>\n",
       "      <td>Antisemitismus;\\r\\nWeitere Ideologien</td>\n",
       "      <td>Juden</td>\n",
       "      <td>Schrift;\\r\\nVerbreiten von rassistischem Material</td>\n",
       "      <td>Privatpersonen</td>\n",
       "      <td>http://www.ekr.admin.ch/dienstleistungen/d524/...</td>\n",
       "      <td>1. kantonale Instanz verurteilt den Angeklagte...</td>\n",
       "      <td>#Kurzfassung\\r\\nDer Angeklagte wurde angeklagt...</td>\n",
       "      <td>2001</td>\n",
       "    </tr>\n",
       "    <tr>\n",
       "      <th>2</th>\n",
       "      <td>Kunst und Wissenschaft;\\r\\nMassenmedien (inkl....</td>\n",
       "      <td>Antisemitismus;\\r\\nRassismus (Nationalität / H...</td>\n",
       "      <td>Juden</td>\n",
       "      <td>Wort;\\r\\nTon / Bild;\\r\\nVerbreiten von rassist...</td>\n",
       "      <td>Rechtsextreme</td>\n",
       "      <td>http://www.ekr.admin.ch/dienstleistungen/d524/...</td>\n",
       "      <td>Die zuständige Strafverfolgungsbehörde stellt ...</td>\n",
       "      <td>#Kurzfassung\\r\\nDie zuständige Untersuchungsbe...</td>\n",
       "      <td>2007</td>\n",
       "    </tr>\n",
       "    <tr>\n",
       "      <th>3</th>\n",
       "      <td>Massenmedien (inkl. Internet)</td>\n",
       "      <td>Rassismus (Hautfarbe)</td>\n",
       "      <td>Schwarze / Dunkelhäutige</td>\n",
       "      <td>Schrift</td>\n",
       "      <td>Politische Akteure</td>\n",
       "      <td>http://www.ekr.admin.ch/dienstleistungen/d524/...</td>\n",
       "      <td>Die 1. Instanz verurteilt den Angeklagten.</td>\n",
       "      <td>#Kurzfassung\\r\\nDer Angeklagte ist Präsident d...</td>\n",
       "      <td>2009</td>\n",
       "    </tr>\n",
       "    <tr>\n",
       "      <th>4</th>\n",
       "      <td>Massenmedien (inkl. Internet)</td>\n",
       "      <td>Rassismus (Nationalität / Herkunft)</td>\n",
       "      <td>Ausländer / verschiedene Ethnien</td>\n",
       "      <td>Elektronische Kommunikation</td>\n",
       "      <td>Privatpersonen</td>\n",
       "      <td>http://www.ekr.admin.ch/dienstleistungen/d524/...</td>\n",
       "      <td>Die zuständige Strafverfolgungsbehörde verurte...</td>\n",
       "      <td>#Kurzfassung\\r\\nWegen eines E-Mails, in dem be...</td>\n",
       "      <td>2010</td>\n",
       "    </tr>\n",
       "  </tbody>\n",
       "</table>\n",
       "</div>"
      ],
      "text/plain": [
       "                           Gesellschaftliches Umfeld  \\\n",
       "0  Vereine / Verbände / Organisationen;\\r\\nMassen...   \n",
       "1  Vereine / Verbände / Organisationen;\\r\\nMassen...   \n",
       "2  Kunst und Wissenschaft;\\r\\nMassenmedien (inkl....   \n",
       "3                      Massenmedien (inkl. Internet)   \n",
       "4                      Massenmedien (inkl. Internet)   \n",
       "\n",
       "                                           Ideologie  \\\n",
       "0              Antisemitismus;\\r\\nWeitere Ideologien   \n",
       "1              Antisemitismus;\\r\\nWeitere Ideologien   \n",
       "2  Antisemitismus;\\r\\nRassismus (Nationalität / H...   \n",
       "3                              Rassismus (Hautfarbe)   \n",
       "4                Rassismus (Nationalität / Herkunft)   \n",
       "\n",
       "                       Opfergruppen  \\\n",
       "0                             Juden   \n",
       "1                             Juden   \n",
       "2                             Juden   \n",
       "3          Schwarze / Dunkelhäutige   \n",
       "4  Ausländer / verschiedene Ethnien   \n",
       "\n",
       "                                           Tatmittel        Tätergruppen  \\\n",
       "0  Schrift;\\r\\nVerbreiten von rassistischem Material      Privatpersonen   \n",
       "1  Schrift;\\r\\nVerbreiten von rassistischem Material      Privatpersonen   \n",
       "2  Wort;\\r\\nTon / Bild;\\r\\nVerbreiten von rassist...       Rechtsextreme   \n",
       "3                                            Schrift  Politische Akteure   \n",
       "4                        Elektronische Kommunikation      Privatpersonen   \n",
       "\n",
       "                                                link  \\\n",
       "0  http://www.ekr.admin.ch/dienstleistungen/d524/...   \n",
       "1  http://www.ekr.admin.ch/dienstleistungen/d524/...   \n",
       "2  http://www.ekr.admin.ch/dienstleistungen/d524/...   \n",
       "3  http://www.ekr.admin.ch/dienstleistungen/d524/...   \n",
       "4  http://www.ekr.admin.ch/dienstleistungen/d524/...   \n",
       "\n",
       "                                              result  \\\n",
       "0  1. kantonale Instanz verurteilt den Angeklagte...   \n",
       "1  1. kantonale Instanz verurteilt den Angeklagte...   \n",
       "2  Die zuständige Strafverfolgungsbehörde stellt ...   \n",
       "3         Die 1. Instanz verurteilt den Angeklagten.   \n",
       "4  Die zuständige Strafverfolgungsbehörde verurte...   \n",
       "\n",
       "                                                text  year  \n",
       "0  #Kurzfassung\\r\\nDer Angeklagte wurde angeklagt...  2001  \n",
       "1  #Kurzfassung\\r\\nDer Angeklagte wurde angeklagt...  2001  \n",
       "2  #Kurzfassung\\r\\nDie zuständige Untersuchungsbe...  2007  \n",
       "3  #Kurzfassung\\r\\nDer Angeklagte ist Präsident d...  2009  \n",
       "4  #Kurzfassung\\r\\nWegen eines E-Mails, in dem be...  2010  "
      ]
     },
     "execution_count": 3,
     "metadata": {},
     "output_type": "execute_result"
    }
   ],
   "source": [
    "df.head()"
   ]
  },
  {
   "cell_type": "code",
   "execution_count": 4,
   "metadata": {},
   "outputs": [],
   "source": [
    "pattern = r\"([«„])([A-Za-z0-9 _\\./\\\\-]*)([»“])\""
   ]
  },
  {
   "cell_type": "code",
   "execution_count": 5,
   "metadata": {},
   "outputs": [],
   "source": [
    "import re"
   ]
  },
  {
   "cell_type": "code",
   "execution_count": 6,
   "metadata": {},
   "outputs": [
    {
     "data": {
      "text/plain": [
       "0    organisierten Juden;widerliche Verlogenheit;wi...\n",
       "1    organisierten Juden;widerliche Verlogenheit;wi...\n",
       "2                Dissens;Dissens;Dissens;Mammon;Mammon\n",
       "3    Die Schwarzen vom Thunersee;Schwarzen;illegal ...\n",
       "4                                                     \n",
       "Name: hate_samples, dtype: object"
      ]
     },
     "execution_count": 6,
     "metadata": {},
     "output_type": "execute_result"
    }
   ],
   "source": [
    "def extract_hate(text, pattern):\n",
    "    \n",
    "    m = re.findall(pattern, \"\".join(filter(None,text)))\n",
    "    samples = [item[1].strip() for item in m]\n",
    "    return \";\".join(samples)\n",
    "\n",
    "df['hate_samples'] = df['text'].apply(lambda x: extract_hate(x, pattern))\n",
    "df.head().hate_samples"
   ]
  },
  {
   "cell_type": "code",
   "execution_count": 7,
   "metadata": {},
   "outputs": [],
   "source": [
    "probable_hate_speech = df['hate_samples'].values"
   ]
  },
  {
   "cell_type": "code",
   "execution_count": 8,
   "metadata": {},
   "outputs": [
    {
     "name": "stdout",
     "output_type": "stream",
     "text": [
      "<class 'numpy.ndarray'>\n"
     ]
    }
   ],
   "source": [
    "print(type(probable_hate_speech))"
   ]
  },
  {
   "cell_type": "code",
   "execution_count": 9,
   "metadata": {},
   "outputs": [],
   "source": [
    "probable_hate_speech = [t for t in probable_hate_speech if len(t) > 0]"
   ]
  },
  {
   "cell_type": "code",
   "execution_count": 10,
   "metadata": {},
   "outputs": [
    {
     "data": {
      "text/plain": [
       "['organisierten Juden;widerliche Verlogenheit;widerliche Verlogenheit der organisierten Juden;klassisch;Verlogenheit;widerliche Verlogenheit der organisierten Juden;Nazi-Schergen;widerlich;anwidert;judenfeindlich;als Mensch;nur;als Mensch;nur;prozessualen Verschuldens',\n",
       " 'organisierten Juden;widerliche Verlogenheit;widerliche Verlogenheit der organisierten Juden;klassisch;Verlogenheit;widerliche Verlogenheit der organisierten Juden;Nazi-Schergen;widerlich;anwidert;judenfeindlich;als Mensch;nur;als Mensch;nur;prozessualen Verschuldens',\n",
       " 'Dissens;Dissens;Dissens;Mammon;Mammon',\n",
       " 'Die Schwarzen vom Thunersee;Schwarzen;illegal anwesend;Rassismus;Exemplar;Homo sapiens;Primaten;Primat;Affe;Rassismus',\n",
       " '20 Minutes;20 Minutes',\n",
       " 'Quartiere unter der Lupe',\n",
       " 'Befreier;evakuiert;Holocaus-Indoktrination;dem dritten Reich zugeneigt',\n",
       " 'serbische Roma;nigerianische Asylbewerber;vor allem;auffallend;in der Regel;Schweizer Demokrat;serbische Roma;nigerianische Asylbewerber;korrupte Italiener;sollten allesamt aus der Schweiz hinausgeworfen werden;vor allem;auffallend;in der Regel',\n",
       " 'Doppelseitiger Niger und Judenschlachter',\n",
       " 'Tod den JUDEN',\n",
       " 'mythes;contes;fables;lobby juif;lobby juif',\n",
       " 'diskriminierungstaktischer Vorwand;rassistisch motiviertes Alibi',\n",
       " 'Ideologien',\n",
       " 'Der Islam ist eben politisch und somit wird er nie in eine Demokratie passen;ISIS video claims to show beheading of British hostage David Haines;fuck islam;Gruppe von Personen;ausrotten;Ausrottung;Aufrufen;Aufreizen;Weisheit des Tages;Schizlam;Aufreizen;Aufrufen;Aufreizen;Islamischer Staat;Islamischen Staats;Islamischer Staat;IS;ausrotten;hirnlos;Facebook;Weisheit des Tages;dumm;dumm;Facebook;Schizlam;Hitlergruss;verbreitet;Verbreitens;Werben;Propagieren;Aufrufe',\n",
       " 'Du warst ein grosser Mann. Deine Taten sind von grossem Wert. Du hast das Werk begonnen und wir werden es mit aller Kraft versuchen zu beenden.;Heil Kameraden',\n",
       " 'Kristallnacht;Kristallnacht;Kristallnacht-Tweet;Kristallnacht-Tweet;Kristallnacht-Tweet;damit die Regierung aufwacht;Kristallnacht-Tweet;Kristallnacht;vielleicht brauchen wir wieder eine Kristallnacht;Kristallnacht-Tweet;Kristallnacht-Tweet;Kristallnacht-Tweet;Kristallnacht-Tweet;Kristallnacht-Tweet;Kristallnacht-Tweet;Kristallnacht-Tweets;Kristallnacht-Tweet;Kristallnacht-Tweets;Kristallnacht-Tweet;vielleicht brauchen wir wieder eine Kristallnacht;Kristallnacht-Tweets;Kristallnacht-Tweet;Kristallnacht-Tweet;Kristallnacht-Tweet;Kristallnacht-Tweet;Kristallnacht-Tweet;Kristallnacht-Tweets;Kristallnacht-Tweet;Kristallnacht-Tweets;Kristallnacht-Tweet;Kristallnacht;vielleicht brauchen wir wieder eine Kristallnacht;Kristallnacht-Tweets',\n",
       " 'Scheiss juden',\n",
       " 'Post',\n",
       " 'JEDEM DAS SEINE',\n",
       " 'Die Juden wurden jeder jahundert ausgerottet es wird mal wieder zeit das ein wie Kaiser Nero oder Aleksander der grosse. Oder onkel Adolf.',\n",
       " 'integrieren;Arab youth harass Jews in Jerusalem the capital of Israel;Weltgemeinschaft',\n",
       " 'connard;faire la peau',\n",
       " 'gas;lager',\n",
       " 'juifs;lobby juif;les juifs;lobby juif;lobby juif;juifs;juif;lobby;lobby juif',\n",
       " 'Und ihr juden von den amerikanern. Da denke ich nur das hitler was falsch gemacht hat.;Hahahahah komm jetzt Heil Hitler',\n",
       " 'scheiss judeeeeee',\n",
       " 'I will Hitler Back',\n",
       " 'Doch judeviertel ish guet die pussys hen denn mol richtigi gegners und nit kinder und fraue',\n",
       " 'Blick am Abend;Albtraum aus der Vergangenheit schockiert auch heute noch;Blick am Abend',\n",
       " 'Blick am Abend;Welcome Challenge',\n",
       " 'Experte Hamed Abdel-Sam ad warnt vor den Embracher Islamisten',\n",
       " '20Minuten',\n",
       " 'Hitlergruss',\n",
       " 'Blick;Blick;Fotze;du Fotze;bisch wieder bsoffe auto gfahre du alkoholikerinn',\n",
       " 'Waffen SS',\n",
       " 'Scheiss;halbbatzig;Scheiss',\n",
       " 'Kopftuch;Tiere;Stufe;Tiere;Vormachtstellung;Tier;diese Leute;Kopftuch;Stufe;Ethnie;Ethnie',\n",
       " 'Holocaust;Hand in Hand gemeinsam gegen die Zionisten. Der Zionismus bedroht den Weltfrieden;Israel Terrorist',\n",
       " 'zu Sex zu gebrauchen sind',\n",
       " 'Aschi Locher',\n",
       " 'die wahre Religion',\n",
       " 'O BABA HITLER kuje tash kur na duhesh',\n",
       " 'letzten Deutschen;Macht endlich Schluss mit diesen extremen Unmenschen. Am besten in ein Flugzeug und auf nimmersehen...',\n",
       " 'ras le bol;raciste contre les personnes',\n",
       " '1.6 mia. Zellen']"
      ]
     },
     "execution_count": 10,
     "metadata": {},
     "output_type": "execute_result"
    }
   ],
   "source": [
    "probable_hate_speech"
   ]
  },
  {
   "cell_type": "code",
   "execution_count": 11,
   "metadata": {},
   "outputs": [
    {
     "data": {
      "text/plain": [
       "{'1.6 mia. Zellen',\n",
       " '20 Minutes',\n",
       " '20Minuten',\n",
       " 'Affe',\n",
       " 'Albtraum aus der Vergangenheit schockiert auch heute noch',\n",
       " 'Arab youth harass Jews in Jerusalem the capital of Israel',\n",
       " 'Aschi Locher',\n",
       " 'Aufreizen',\n",
       " 'Aufrufe',\n",
       " 'Aufrufen',\n",
       " 'Ausrottung',\n",
       " 'Befreier',\n",
       " 'Blick',\n",
       " 'Blick am Abend',\n",
       " 'Der Islam ist eben politisch und somit wird er nie in eine Demokratie passen',\n",
       " 'Die Juden wurden jeder jahundert ausgerottet es wird mal wieder zeit das ein wie Kaiser Nero oder Aleksander der grosse. Oder onkel Adolf.',\n",
       " 'Die Schwarzen vom Thunersee',\n",
       " 'Dissens',\n",
       " 'Doch judeviertel ish guet die pussys hen denn mol richtigi gegners und nit kinder und fraue',\n",
       " 'Doppelseitiger Niger und Judenschlachter',\n",
       " 'Du warst ein grosser Mann. Deine Taten sind von grossem Wert. Du hast das Werk begonnen und wir werden es mit aller Kraft versuchen zu beenden.',\n",
       " 'Ethnie',\n",
       " 'Exemplar',\n",
       " 'Experte Hamed Abdel-Sam ad warnt vor den Embracher Islamisten',\n",
       " 'Facebook',\n",
       " 'Fotze',\n",
       " 'Gruppe von Personen',\n",
       " 'Hahahahah komm jetzt Heil Hitler',\n",
       " 'Hand in Hand gemeinsam gegen die Zionisten. Der Zionismus bedroht den Weltfrieden',\n",
       " 'Heil Kameraden',\n",
       " 'Hitlergruss',\n",
       " 'Holocaus-Indoktrination',\n",
       " 'Holocaust',\n",
       " 'Homo sapiens',\n",
       " 'I will Hitler Back',\n",
       " 'IS',\n",
       " 'ISIS video claims to show beheading of British hostage David Haines',\n",
       " 'Ideologien',\n",
       " 'Islamischen Staats',\n",
       " 'Islamischer Staat',\n",
       " 'Israel Terrorist',\n",
       " 'JEDEM DAS SEINE',\n",
       " 'Kopftuch',\n",
       " 'Kristallnacht',\n",
       " 'Kristallnacht-Tweet',\n",
       " 'Kristallnacht-Tweets',\n",
       " 'Macht endlich Schluss mit diesen extremen Unmenschen. Am besten in ein Flugzeug und auf nimmersehen...',\n",
       " 'Mammon',\n",
       " 'Nazi-Schergen',\n",
       " 'O BABA HITLER kuje tash kur na duhesh',\n",
       " 'Post',\n",
       " 'Primat',\n",
       " 'Primaten',\n",
       " 'Propagieren',\n",
       " 'Quartiere unter der Lupe',\n",
       " 'Rassismus',\n",
       " 'Scheiss',\n",
       " 'Scheiss juden',\n",
       " 'Schizlam',\n",
       " 'Schwarzen',\n",
       " 'Schweizer Demokrat',\n",
       " 'Stufe',\n",
       " 'Tier',\n",
       " 'Tiere',\n",
       " 'Tod den JUDEN',\n",
       " 'Und ihr juden von den amerikanern. Da denke ich nur das hitler was falsch gemacht hat.',\n",
       " 'Verbreitens',\n",
       " 'Verlogenheit',\n",
       " 'Vormachtstellung',\n",
       " 'Waffen SS',\n",
       " 'Weisheit des Tages',\n",
       " 'Welcome Challenge',\n",
       " 'Weltgemeinschaft',\n",
       " 'Werben',\n",
       " 'als Mensch',\n",
       " 'anwidert',\n",
       " 'auffallend',\n",
       " 'ausrotten',\n",
       " 'bisch wieder bsoffe auto gfahre du alkoholikerinn',\n",
       " 'connard',\n",
       " 'contes',\n",
       " 'damit die Regierung aufwacht',\n",
       " 'dem dritten Reich zugeneigt',\n",
       " 'die wahre Religion',\n",
       " 'diese Leute',\n",
       " 'diskriminierungstaktischer Vorwand',\n",
       " 'du Fotze',\n",
       " 'dumm',\n",
       " 'evakuiert',\n",
       " 'fables',\n",
       " 'faire la peau',\n",
       " 'fuck islam',\n",
       " 'gas',\n",
       " 'halbbatzig',\n",
       " 'hirnlos',\n",
       " 'illegal anwesend',\n",
       " 'in der Regel',\n",
       " 'integrieren',\n",
       " 'judenfeindlich',\n",
       " 'juif',\n",
       " 'juifs',\n",
       " 'klassisch',\n",
       " 'korrupte Italiener',\n",
       " 'lager',\n",
       " 'les juifs',\n",
       " 'letzten Deutschen',\n",
       " 'lobby',\n",
       " 'lobby juif',\n",
       " 'mythes',\n",
       " 'nigerianische Asylbewerber',\n",
       " 'nur',\n",
       " 'organisierten Juden',\n",
       " 'prozessualen Verschuldens',\n",
       " 'raciste contre les personnes',\n",
       " 'ras le bol',\n",
       " 'rassistisch motiviertes Alibi',\n",
       " 'scheiss judeeeeee',\n",
       " 'serbische Roma',\n",
       " 'sollten allesamt aus der Schweiz hinausgeworfen werden',\n",
       " 'verbreitet',\n",
       " 'vielleicht brauchen wir wieder eine Kristallnacht',\n",
       " 'vor allem',\n",
       " 'widerlich',\n",
       " 'widerliche Verlogenheit',\n",
       " 'widerliche Verlogenheit der organisierten Juden',\n",
       " 'zu Sex zu gebrauchen sind'}"
      ]
     },
     "execution_count": 11,
     "metadata": {},
     "output_type": "execute_result"
    }
   ],
   "source": [
    "hate_string = \";\".join(probable_hate_speech)\n",
    "unique_values = set(hate_string.split(';'))\n",
    "unique_values"
   ]
  },
  {
   "cell_type": "markdown",
   "metadata": {},
   "source": [
    "# Auswertung \n",
    "Die Daten scheinen nicht wirklich brauchbar, da praktisch gar keine ganzen Kommentare vorkommen, sondern nur die jeweils relevanten Teile direkt zitiert werden. Allenfalls könnten die Daten als Wörter-Korpus gebraucht werden."
   ]
  },
  {
   "cell_type": "code",
   "execution_count": 12,
   "metadata": {},
   "outputs": [],
   "source": [
    "with open(\"hasskommentare_de_fr.txt\", \"w\") as text_file:\n",
    "    text_file.write(\";\".join(probable_hate_speech))"
   ]
  },
  {
   "cell_type": "code",
   "execution_count": null,
   "metadata": {},
   "outputs": [],
   "source": []
  }
 ],
 "metadata": {
  "kernelspec": {
   "display_name": "Python 3",
   "language": "python",
   "name": "python3"
  },
  "language_info": {
   "codemirror_mode": {
    "name": "ipython",
    "version": 3
   },
   "file_extension": ".py",
   "mimetype": "text/x-python",
   "name": "python",
   "nbconvert_exporter": "python",
   "pygments_lexer": "ipython3",
   "version": "3.7.1"
  }
 },
 "nbformat": 4,
 "nbformat_minor": 2
}
