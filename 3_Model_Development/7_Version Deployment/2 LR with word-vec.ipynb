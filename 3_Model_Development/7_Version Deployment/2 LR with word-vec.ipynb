{
 "cells": [
  {
   "cell_type": "code",
   "execution_count": 43,
   "metadata": {},
   "outputs": [],
   "source": [
    "import pandas as pd"
   ]
  },
  {
   "cell_type": "markdown",
   "metadata": {},
   "source": [
    "# read in"
   ]
  },
  {
   "cell_type": "code",
   "execution_count": 44,
   "metadata": {},
   "outputs": [
    {
     "data": {
      "text/html": [
       "<div>\n",
       "<style scoped>\n",
       "    .dataframe tbody tr th:only-of-type {\n",
       "        vertical-align: middle;\n",
       "    }\n",
       "\n",
       "    .dataframe tbody tr th {\n",
       "        vertical-align: top;\n",
       "    }\n",
       "\n",
       "    .dataframe thead th {\n",
       "        text-align: right;\n",
       "    }\n",
       "</style>\n",
       "<table border=\"1\" class=\"dataframe\">\n",
       "  <thead>\n",
       "    <tr style=\"text-align: right;\">\n",
       "      <th></th>\n",
       "      <th>raw_text</th>\n",
       "      <th>severity</th>\n",
       "      <th>binary_label</th>\n",
       "    </tr>\n",
       "  </thead>\n",
       "  <tbody>\n",
       "    <tr>\n",
       "      <th>0</th>\n",
       "      <td>ist ekelhaft  bei ihren Klos kannst du nur mit...</td>\n",
       "      <td>0.0</td>\n",
       "      <td>False</td>\n",
       "    </tr>\n",
       "    <tr>\n",
       "      <th>1</th>\n",
       "      <td>Bevor Sie mit Jud...</td>\n",
       "      <td>1.0</td>\n",
       "      <td>True</td>\n",
       "    </tr>\n",
       "    <tr>\n",
       "      <th>2</th>\n",
       "      <td>Und de Amis freut es wenn die Heuschrecken Eur...</td>\n",
       "      <td>0.0</td>\n",
       "      <td>False</td>\n",
       "    </tr>\n",
       "    <tr>\n",
       "      <th>3</th>\n",
       "      <td>:    Die Krim ist ein heißer Tip, auch zum In...</td>\n",
       "      <td>1.0</td>\n",
       "      <td>True</td>\n",
       "    </tr>\n",
       "    <tr>\n",
       "      <th>4</th>\n",
       "      <td>: Es muss in #Deutschland eine politische Kra...</td>\n",
       "      <td>1.0</td>\n",
       "      <td>True</td>\n",
       "    </tr>\n",
       "  </tbody>\n",
       "</table>\n",
       "</div>"
      ],
      "text/plain": [
       "                                            raw_text  severity  binary_label\n",
       "0  ist ekelhaft  bei ihren Klos kannst du nur mit...       0.0         False\n",
       "1                               Bevor Sie mit Jud...       1.0          True\n",
       "2  Und de Amis freut es wenn die Heuschrecken Eur...       0.0         False\n",
       "3   :    Die Krim ist ein heißer Tip, auch zum In...       1.0          True\n",
       "4   : Es muss in #Deutschland eine politische Kra...       1.0          True"
      ]
     },
     "execution_count": 44,
     "metadata": {},
     "output_type": "execute_result"
    }
   ],
   "source": [
    "df = pd.read_csv('../../2_Feature_Engineering/export/combined_polly_bretschneider_iwg.csv')\n",
    "df.head()"
   ]
  },
  {
   "cell_type": "markdown",
   "metadata": {},
   "source": [
    "# clean"
   ]
  },
  {
   "cell_type": "code",
   "execution_count": 45,
   "metadata": {},
   "outputs": [],
   "source": [
    "import sys\n",
    "sys.path.insert(0, r'..\\..\\0_common')\n",
    "from model_helpers import clean_all as ci"
   ]
  },
  {
   "cell_type": "code",
   "execution_count": 46,
   "metadata": {},
   "outputs": [
    {
     "data": {
      "text/html": [
       "<div>\n",
       "<style scoped>\n",
       "    .dataframe tbody tr th:only-of-type {\n",
       "        vertical-align: middle;\n",
       "    }\n",
       "\n",
       "    .dataframe tbody tr th {\n",
       "        vertical-align: top;\n",
       "    }\n",
       "\n",
       "    .dataframe thead th {\n",
       "        text-align: right;\n",
       "    }\n",
       "</style>\n",
       "<table border=\"1\" class=\"dataframe\">\n",
       "  <thead>\n",
       "    <tr style=\"text-align: right;\">\n",
       "      <th></th>\n",
       "      <th>raw_text</th>\n",
       "      <th>severity</th>\n",
       "      <th>binary_label</th>\n",
       "      <th>cleaned_text</th>\n",
       "    </tr>\n",
       "  </thead>\n",
       "  <tbody>\n",
       "    <tr>\n",
       "      <th>0</th>\n",
       "      <td>ist ekelhaft  bei ihren Klos kannst du nur mit...</td>\n",
       "      <td>0.0</td>\n",
       "      <td>False</td>\n",
       "      <td>ekelhaft klos kannst gummistiefel gehen stinkt...</td>\n",
       "    </tr>\n",
       "    <tr>\n",
       "      <th>1</th>\n",
       "      <td>Bevor Sie mit Jud...</td>\n",
       "      <td>1.0</td>\n",
       "      <td>True</td>\n",
       "      <td>bevor judenstern markiert worden juden ganze ...</td>\n",
       "    </tr>\n",
       "    <tr>\n",
       "      <th>2</th>\n",
       "      <td>Und de Amis freut es wenn die Heuschrecken Eur...</td>\n",
       "      <td>0.0</td>\n",
       "      <td>False</td>\n",
       "      <td>de amis freut heuschrecken europa klein wirtsc...</td>\n",
       "    </tr>\n",
       "    <tr>\n",
       "      <th>3</th>\n",
       "      <td>:    Die Krim ist ein heißer Tip, auch zum In...</td>\n",
       "      <td>1.0</td>\n",
       "      <td>True</td>\n",
       "      <td>krim heißer tip investieren muß bürger landes...</td>\n",
       "    </tr>\n",
       "    <tr>\n",
       "      <th>4</th>\n",
       "      <td>: Es muss in #Deutschland eine politische Kra...</td>\n",
       "      <td>1.0</td>\n",
       "      <td>True</td>\n",
       "      <td>deutschland politische kraft geben sozial sch...</td>\n",
       "    </tr>\n",
       "  </tbody>\n",
       "</table>\n",
       "</div>"
      ],
      "text/plain": [
       "                                            raw_text  severity  binary_label  \\\n",
       "0  ist ekelhaft  bei ihren Klos kannst du nur mit...       0.0         False   \n",
       "1                               Bevor Sie mit Jud...       1.0          True   \n",
       "2  Und de Amis freut es wenn die Heuschrecken Eur...       0.0         False   \n",
       "3   :    Die Krim ist ein heißer Tip, auch zum In...       1.0          True   \n",
       "4   : Es muss in #Deutschland eine politische Kra...       1.0          True   \n",
       "\n",
       "                                        cleaned_text  \n",
       "0  ekelhaft klos kannst gummistiefel gehen stinkt...  \n",
       "1   bevor judenstern markiert worden juden ganze ...  \n",
       "2  de amis freut heuschrecken europa klein wirtsc...  \n",
       "3   krim heißer tip investieren muß bürger landes...  \n",
       "4   deutschland politische kraft geben sozial sch...  "
      ]
     },
     "execution_count": 46,
     "metadata": {},
     "output_type": "execute_result"
    }
   ],
   "source": [
    "df['cleaned_text'] = df['raw_text'].apply(ci)\n",
    "df.head()"
   ]
  },
  {
   "cell_type": "code",
   "execution_count": 47,
   "metadata": {},
   "outputs": [
    {
     "data": {
      "text/plain": [
       "(9169, 4)"
      ]
     },
     "execution_count": 47,
     "metadata": {},
     "output_type": "execute_result"
    }
   ],
   "source": [
    "df.shape"
   ]
  },
  {
   "cell_type": "markdown",
   "metadata": {},
   "source": [
    "# vectorize"
   ]
  },
  {
   "cell_type": "code",
   "execution_count": 48,
   "metadata": {},
   "outputs": [],
   "source": [
    "from sklearn.feature_extraction.text import CountVectorizer"
   ]
  },
  {
   "cell_type": "code",
   "execution_count": 49,
   "metadata": {},
   "outputs": [],
   "source": [
    "vec = CountVectorizer(ngram_range=(1,3), analyzer='word', max_features=100000)"
   ]
  },
  {
   "cell_type": "code",
   "execution_count": 50,
   "metadata": {},
   "outputs": [],
   "source": [
    "X_features = vec.fit_transform(df['cleaned_text'])"
   ]
  },
  {
   "cell_type": "code",
   "execution_count": 51,
   "metadata": {},
   "outputs": [
    {
     "data": {
      "text/plain": [
       "(9169, 100000)"
      ]
     },
     "execution_count": 51,
     "metadata": {},
     "output_type": "execute_result"
    }
   ],
   "source": [
    "X_features.shape"
   ]
  },
  {
   "cell_type": "markdown",
   "metadata": {},
   "source": [
    "# initialize model"
   ]
  },
  {
   "cell_type": "code",
   "execution_count": 52,
   "metadata": {},
   "outputs": [],
   "source": [
    "from sklearn.linear_model import LogisticRegression\n",
    "clf = LogisticRegression(solver='liblinear', penalty='l2', C=0.23357214690901212) # params from earlier grid search"
   ]
  },
  {
   "cell_type": "markdown",
   "metadata": {},
   "source": [
    "# Cross validation"
   ]
  },
  {
   "cell_type": "code",
   "execution_count": 53,
   "metadata": {},
   "outputs": [],
   "source": [
    "from sklearn.model_selection import cross_validate\n",
    "scores = cross_validate(clf, X_features, df['binary_label'], cv=5,\n",
    "                        scoring=('f1', 'roc_auc', 'precision', 'recall'),\n",
    "                        return_train_score=True)"
   ]
  },
  {
   "cell_type": "code",
   "execution_count": 54,
   "metadata": {},
   "outputs": [
    {
     "data": {
      "text/plain": [
       "['fit_time',\n",
       " 'score_time',\n",
       " 'test_f1',\n",
       " 'test_precision',\n",
       " 'test_recall',\n",
       " 'test_roc_auc',\n",
       " 'train_f1',\n",
       " 'train_precision',\n",
       " 'train_recall',\n",
       " 'train_roc_auc']"
      ]
     },
     "execution_count": 54,
     "metadata": {},
     "output_type": "execute_result"
    }
   ],
   "source": [
    "sorted(scores.keys())"
   ]
  },
  {
   "cell_type": "code",
   "execution_count": 55,
   "metadata": {},
   "outputs": [
    {
     "data": {
      "text/html": [
       "<div>\n",
       "<style scoped>\n",
       "    .dataframe tbody tr th:only-of-type {\n",
       "        vertical-align: middle;\n",
       "    }\n",
       "\n",
       "    .dataframe tbody tr th {\n",
       "        vertical-align: top;\n",
       "    }\n",
       "\n",
       "    .dataframe thead th {\n",
       "        text-align: right;\n",
       "    }\n",
       "</style>\n",
       "<table border=\"1\" class=\"dataframe\">\n",
       "  <thead>\n",
       "    <tr style=\"text-align: right;\">\n",
       "      <th></th>\n",
       "      <th>fit_time</th>\n",
       "      <th>score_time</th>\n",
       "      <th>test_f1</th>\n",
       "      <th>train_f1</th>\n",
       "      <th>test_roc_auc</th>\n",
       "      <th>train_roc_auc</th>\n",
       "      <th>test_precision</th>\n",
       "      <th>train_precision</th>\n",
       "      <th>test_recall</th>\n",
       "      <th>train_recall</th>\n",
       "    </tr>\n",
       "  </thead>\n",
       "  <tbody>\n",
       "    <tr>\n",
       "      <th>0</th>\n",
       "      <td>0.110703</td>\n",
       "      <td>0.004987</td>\n",
       "      <td>0.866343</td>\n",
       "      <td>0.977582</td>\n",
       "      <td>0.945404</td>\n",
       "      <td>0.998524</td>\n",
       "      <td>0.911765</td>\n",
       "      <td>0.989911</td>\n",
       "      <td>0.825231</td>\n",
       "      <td>0.965557</td>\n",
       "    </tr>\n",
       "    <tr>\n",
       "      <th>1</th>\n",
       "      <td>0.094747</td>\n",
       "      <td>0.004986</td>\n",
       "      <td>0.870050</td>\n",
       "      <td>0.976355</td>\n",
       "      <td>0.947494</td>\n",
       "      <td>0.998607</td>\n",
       "      <td>0.934840</td>\n",
       "      <td>0.991055</td>\n",
       "      <td>0.813657</td>\n",
       "      <td>0.962084</td>\n",
       "    </tr>\n",
       "    <tr>\n",
       "      <th>2</th>\n",
       "      <td>0.083776</td>\n",
       "      <td>0.003990</td>\n",
       "      <td>0.855028</td>\n",
       "      <td>0.974879</td>\n",
       "      <td>0.945528</td>\n",
       "      <td>0.998558</td>\n",
       "      <td>0.915456</td>\n",
       "      <td>0.989857</td>\n",
       "      <td>0.802083</td>\n",
       "      <td>0.960347</td>\n",
       "    </tr>\n",
       "    <tr>\n",
       "      <th>3</th>\n",
       "      <td>0.074806</td>\n",
       "      <td>0.005979</td>\n",
       "      <td>0.876308</td>\n",
       "      <td>0.975015</td>\n",
       "      <td>0.956705</td>\n",
       "      <td>0.998404</td>\n",
       "      <td>0.935611</td>\n",
       "      <td>0.990445</td>\n",
       "      <td>0.824074</td>\n",
       "      <td>0.960058</td>\n",
       "    </tr>\n",
       "    <tr>\n",
       "      <th>4</th>\n",
       "      <td>0.096741</td>\n",
       "      <td>0.005984</td>\n",
       "      <td>0.880000</td>\n",
       "      <td>0.977680</td>\n",
       "      <td>0.955202</td>\n",
       "      <td>0.998589</td>\n",
       "      <td>0.922490</td>\n",
       "      <td>0.992546</td>\n",
       "      <td>0.841251</td>\n",
       "      <td>0.963252</td>\n",
       "    </tr>\n",
       "  </tbody>\n",
       "</table>\n",
       "</div>"
      ],
      "text/plain": [
       "   fit_time  score_time   test_f1  train_f1  test_roc_auc  train_roc_auc  \\\n",
       "0  0.110703    0.004987  0.866343  0.977582      0.945404       0.998524   \n",
       "1  0.094747    0.004986  0.870050  0.976355      0.947494       0.998607   \n",
       "2  0.083776    0.003990  0.855028  0.974879      0.945528       0.998558   \n",
       "3  0.074806    0.005979  0.876308  0.975015      0.956705       0.998404   \n",
       "4  0.096741    0.005984  0.880000  0.977680      0.955202       0.998589   \n",
       "\n",
       "   test_precision  train_precision  test_recall  train_recall  \n",
       "0        0.911765         0.989911     0.825231      0.965557  \n",
       "1        0.934840         0.991055     0.813657      0.962084  \n",
       "2        0.915456         0.989857     0.802083      0.960347  \n",
       "3        0.935611         0.990445     0.824074      0.960058  \n",
       "4        0.922490         0.992546     0.841251      0.963252  "
      ]
     },
     "execution_count": 55,
     "metadata": {},
     "output_type": "execute_result"
    }
   ],
   "source": [
    "scores_df = pd.DataFrame(scores)\n",
    "scores_df"
   ]
  },
  {
   "cell_type": "code",
   "execution_count": 56,
   "metadata": {},
   "outputs": [
    {
     "data": {
      "text/plain": [
       "test_f1           0.869546\n",
       "test_roc_auc      0.950067\n",
       "test_precision    0.924032\n",
       "test_recall       0.821260\n",
       "dtype: float64"
      ]
     },
     "execution_count": 56,
     "metadata": {},
     "output_type": "execute_result"
    }
   ],
   "source": [
    "# metrics\n",
    "scores_df[['test_f1', 'test_roc_auc', 'test_precision', 'test_recall']].mean()"
   ]
  },
  {
   "cell_type": "code",
   "execution_count": null,
   "metadata": {},
   "outputs": [],
   "source": []
  }
 ],
 "metadata": {
  "kernelspec": {
   "display_name": "Python 3",
   "language": "python",
   "name": "python3"
  },
  "language_info": {
   "codemirror_mode": {
    "name": "ipython",
    "version": 3
   },
   "file_extension": ".py",
   "mimetype": "text/x-python",
   "name": "python",
   "nbconvert_exporter": "python",
   "pygments_lexer": "ipython3",
   "version": "3.7.1"
  }
 },
 "nbformat": 4,
 "nbformat_minor": 2
}
